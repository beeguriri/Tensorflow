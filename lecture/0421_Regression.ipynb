{
 "cells": [
  {
   "cell_type": "markdown",
   "source": [
    "## Sequential Model"
   ],
   "metadata": {
    "collapsed": false
   }
  },
  {
   "cell_type": "code",
   "execution_count": 1,
   "metadata": {
    "collapsed": true,
    "ExecuteTime": {
     "start_time": "2023-04-21T14:26:59.342895Z",
     "end_time": "2023-04-21T14:27:01.612639Z"
    }
   },
   "outputs": [],
   "source": [
    "import tensorflow as tf\n",
    "import numpy as np\n",
    "import matplotlib.pyplot as plt"
   ]
  },
  {
   "cell_type": "markdown",
   "source": [
    "## 1. Simple Linear Regression"
   ],
   "metadata": {
    "collapsed": false
   }
  },
  {
   "cell_type": "markdown",
   "source": [
    "### Data 만들기"
   ],
   "metadata": {
    "collapsed": false
   }
  },
  {
   "cell_type": "code",
   "execution_count": 35,
   "outputs": [],
   "source": [
    "def dataset(train_size=100): # tensorflow\n",
    "  tf.random.set_seed(1)\n",
    "  # x : 등간격 만들기\n",
    "  x = tf.linspace(0.0, 10.0, train_size)\n",
    "  # y : 수식에 의한 결정 (y = 3x - 10)\n",
    "  y_label = 3.0*x -10.0\n",
    "  # y variation (mean, stddev 조정)\n",
    "  y = y_label + tf.random.normal([train_size], mean=0.0, stddev = 2.0)\n",
    "\n",
    "  return x, y, y_label"
   ],
   "metadata": {
    "collapsed": false,
    "ExecuteTime": {
     "start_time": "2023-04-21T15:29:38.849951Z",
     "end_time": "2023-04-21T15:29:38.865550Z"
    }
   }
  },
  {
   "cell_type": "code",
   "execution_count": 36,
   "outputs": [
    {
     "data": {
      "text/plain": "<Figure size 640x480 with 1 Axes>",
      "image/png": "[encoded data removed]"
     },
     "metadata": {},
     "output_type": "display_data"
    }
   ],
   "source": [
    "# x, y, y_label = dataset() # defualt = 100\n",
    "x, y, y_label = dataset(50)\n",
    "fig, ax = plt.subplots()\n",
    "ax.scatter(x, y, label='y_train')\n",
    "ax.plot(x, y_label, color='red', label='y_label')\n",
    "ax.set_xlabel('Instances')\n",
    "ax.set_ylabel('Y')\n",
    "ax.set_title('Dataset')\n",
    "ax.legend()\n",
    "plt.show()"
   ],
   "metadata": {
    "collapsed": false,
    "ExecuteTime": {
     "start_time": "2023-04-21T15:29:39.242874Z",
     "end_time": "2023-04-21T15:29:39.430350Z"
    }
   }
  },
  {
   "cell_type": "markdown",
   "source": [
    "### Model 만들기\n",
    "+ sequential > functional > class\n",
    "+ keras sequential API\n",
    "  + input -> sequential(layer,layer,..) -> output"
   ],
   "metadata": {
    "collapsed": false
   }
  },
  {
   "cell_type": "code",
   "execution_count": 37,
   "outputs": [
    {
     "name": "stdout",
     "output_type": "stream",
     "text": [
      "Model: \"sequential_1\"\n",
      "_________________________________________________________________\n",
      " Layer (type)                Output Shape              Param #   \n",
      "=================================================================\n",
      " dense_2 (Dense)             (None, 1)                 2         \n",
      "                                                                 \n",
      "=================================================================\n",
      "Total params: 2\n",
      "Trainable params: 2\n",
      "Non-trainable params: 0\n",
      "_________________________________________________________________\n"
     ]
    }
   ],
   "source": [
    "# sequentail\n",
    "model = tf.keras.Sequential()\n",
    "# input : x 개수, units : output layer 개수\n",
    "model.add(tf.keras.layers.Dense(units=1, input_dim=1))\n",
    "model.summary()"
   ],
   "metadata": {
    "collapsed": false,
    "ExecuteTime": {
     "start_time": "2023-04-21T15:29:41.653226Z",
     "end_time": "2023-04-21T15:29:41.684489Z"
    }
   }
  },
  {
   "cell_type": "code",
   "execution_count": 38,
   "outputs": [
    {
     "name": "stdout",
     "output_type": "stream",
     "text": [
      "Model: \"simple_linear_regression\"\n",
      "_________________________________________________________________\n",
      " Layer (type)                Output Shape              Param #   \n",
      "=================================================================\n",
      " input_2 (InputLayer)        [(None, 1)]               0         \n",
      "                                                                 \n",
      " dense_3 (Dense)             (None, 1)                 2         \n",
      "                                                                 \n",
      "=================================================================\n",
      "Total params: 2\n",
      "Trainable params: 2\n",
      "Non-trainable params: 0\n",
      "_________________________________________________________________\n"
     ]
    }
   ],
   "source": [
    "# functinal\n",
    "inputs = tf.keras.Input(shape=(1,))\n",
    "outputs = tf.keras.layers.Dense(1)(inputs)\n",
    "model = tf.keras.Model(inputs=inputs, outputs=outputs, name=\"simple_linear_regression\")\n",
    "model.summary()"
   ],
   "metadata": {
    "collapsed": false,
    "ExecuteTime": {
     "start_time": "2023-04-21T15:29:42.172741Z",
     "end_time": "2023-04-21T15:29:42.250860Z"
    }
   }
  },
  {
   "cell_type": "markdown",
   "source": [
    "### 학습 시키기\n",
    "+ learning_rate 변경\n",
    "+ optimizer 변경 (RMSprop, adagrad, SGD, Adam)\n",
    "+ batch_size 변경"
   ],
   "metadata": {
    "collapsed": false
   }
  },
  {
   "cell_type": "code",
   "execution_count": 39,
   "outputs": [],
   "source": [
    "opt = tf.keras.optimizers.RMSprop(learning_rate=0.1)\n",
    "model.compile(optimizer=opt, loss='mse') # 'mean_squared_error'"
   ],
   "metadata": {
    "collapsed": false,
    "ExecuteTime": {
     "start_time": "2023-04-21T15:29:43.574941Z",
     "end_time": "2023-04-21T15:29:43.606184Z"
    }
   }
  },
  {
   "cell_type": "code",
   "execution_count": 40,
   "outputs": [
    {
     "name": "stdout",
     "output_type": "stream",
     "text": [
      "Epoch 1/100\n",
      "13/13 - 0s - loss: 35.7840 - 187ms/epoch - 14ms/step\n",
      "Epoch 2/100\n",
      "13/13 - 0s - loss: 27.7790 - 16ms/epoch - 1ms/step\n",
      "Epoch 3/100\n",
      "13/13 - 0s - loss: 23.1984 - 16ms/epoch - 1ms/step\n",
      "Epoch 4/100\n",
      "13/13 - 0s - loss: 19.3960 - 0s/epoch - 0s/step\n",
      "Epoch 5/100\n",
      "13/13 - 0s - loss: 16.5235 - 16ms/epoch - 1ms/step\n",
      "Epoch 6/100\n",
      "13/13 - 0s - loss: 13.8147 - 0s/epoch - 0s/step\n",
      "Epoch 7/100\n",
      "13/13 - 0s - loss: 11.4776 - 16ms/epoch - 1ms/step\n",
      "Epoch 8/100\n",
      "13/13 - 0s - loss: 9.8780 - 16ms/epoch - 1ms/step\n",
      "Epoch 9/100\n",
      "13/13 - 0s - loss: 7.5047 - 0s/epoch - 0s/step\n",
      "Epoch 10/100\n",
      "13/13 - 0s - loss: 6.7438 - 16ms/epoch - 1ms/step\n",
      "Epoch 11/100\n",
      "13/13 - 0s - loss: 5.0373 - 0s/epoch - 0s/step\n",
      "Epoch 12/100\n",
      "13/13 - 0s - loss: 4.5070 - 0s/epoch - 0s/step\n",
      "Epoch 13/100\n",
      "13/13 - 0s - loss: 4.0620 - 16ms/epoch - 1ms/step\n",
      "Epoch 14/100\n",
      "13/13 - 0s - loss: 3.6168 - 16ms/epoch - 1ms/step\n",
      "Epoch 15/100\n",
      "13/13 - 0s - loss: 3.8508 - 0s/epoch - 0s/step\n",
      "Epoch 16/100\n",
      "13/13 - 0s - loss: 3.0202 - 16ms/epoch - 1ms/step\n",
      "Epoch 17/100\n",
      "13/13 - 0s - loss: 3.5566 - 16ms/epoch - 1ms/step\n",
      "Epoch 18/100\n",
      "13/13 - 0s - loss: 3.1173 - 0s/epoch - 0s/step\n",
      "Epoch 19/100\n",
      "13/13 - 0s - loss: 3.5116 - 16ms/epoch - 1ms/step\n",
      "Epoch 20/100\n",
      "13/13 - 0s - loss: 3.6395 - 16ms/epoch - 1ms/step\n",
      "Epoch 21/100\n",
      "13/13 - 0s - loss: 3.5560 - 0s/epoch - 0s/step\n",
      "Epoch 22/100\n",
      "13/13 - 0s - loss: 3.2632 - 0s/epoch - 0s/step\n",
      "Epoch 23/100\n",
      "13/13 - 0s - loss: 3.2737 - 16ms/epoch - 1ms/step\n",
      "Epoch 24/100\n",
      "13/13 - 0s - loss: 3.5262 - 16ms/epoch - 1ms/step\n",
      "Epoch 25/100\n",
      "13/13 - 0s - loss: 3.5113 - 0s/epoch - 0s/step\n",
      "Epoch 26/100\n",
      "13/13 - 0s - loss: 3.2429 - 16ms/epoch - 1ms/step\n",
      "Epoch 27/100\n",
      "13/13 - 0s - loss: 2.9426 - 16ms/epoch - 1ms/step\n",
      "Epoch 28/100\n",
      "13/13 - 0s - loss: 3.5994 - 16ms/epoch - 1ms/step\n",
      "Epoch 29/100\n",
      "13/13 - 0s - loss: 3.0747 - 0s/epoch - 0s/step\n",
      "Epoch 30/100\n",
      "13/13 - 0s - loss: 3.6579 - 0s/epoch - 0s/step\n",
      "Epoch 31/100\n",
      "13/13 - 0s - loss: 3.1030 - 16ms/epoch - 1ms/step\n",
      "Epoch 32/100\n",
      "13/13 - 0s - loss: 3.1090 - 0s/epoch - 0s/step\n",
      "Epoch 33/100\n",
      "13/13 - 0s - loss: 3.3395 - 16ms/epoch - 1ms/step\n",
      "Epoch 34/100\n",
      "13/13 - 0s - loss: 3.0315 - 16ms/epoch - 1ms/step\n",
      "Epoch 35/100\n",
      "13/13 - 0s - loss: 3.7717 - 0s/epoch - 0s/step\n",
      "Epoch 36/100\n",
      "13/13 - 0s - loss: 3.6987 - 16ms/epoch - 1ms/step\n",
      "Epoch 37/100\n",
      "13/13 - 0s - loss: 3.1626 - 16ms/epoch - 1ms/step\n",
      "Epoch 38/100\n",
      "13/13 - 0s - loss: 3.4272 - 0s/epoch - 0s/step\n",
      "Epoch 39/100\n",
      "13/13 - 0s - loss: 3.3686 - 16ms/epoch - 1ms/step\n",
      "Epoch 40/100\n",
      "13/13 - 0s - loss: 3.9189 - 16ms/epoch - 1ms/step\n",
      "Epoch 41/100\n",
      "13/13 - 0s - loss: 3.1966 - 16ms/epoch - 1ms/step\n",
      "Epoch 42/100\n",
      "13/13 - 0s - loss: 3.3387 - 0s/epoch - 0s/step\n",
      "Epoch 43/100\n",
      "13/13 - 0s - loss: 3.4129 - 16ms/epoch - 1ms/step\n",
      "Epoch 44/100\n",
      "13/13 - 0s - loss: 3.0311 - 0s/epoch - 0s/step\n",
      "Epoch 45/100\n",
      "13/13 - 0s - loss: 3.1898 - 16ms/epoch - 1ms/step\n",
      "Epoch 46/100\n",
      "13/13 - 0s - loss: 3.3226 - 16ms/epoch - 1ms/step\n",
      "Epoch 47/100\n",
      "13/13 - 0s - loss: 3.2878 - 0s/epoch - 0s/step\n",
      "Epoch 48/100\n",
      "13/13 - 0s - loss: 3.4765 - 16ms/epoch - 1ms/step\n",
      "Epoch 49/100\n",
      "13/13 - 0s - loss: 3.3464 - 0s/epoch - 0s/step\n",
      "Epoch 50/100\n",
      "13/13 - 0s - loss: 3.5348 - 16ms/epoch - 1ms/step\n",
      "Epoch 51/100\n",
      "13/13 - 0s - loss: 3.2653 - 0s/epoch - 0s/step\n",
      "Epoch 52/100\n",
      "13/13 - 0s - loss: 3.0273 - 16ms/epoch - 1ms/step\n",
      "Epoch 53/100\n",
      "13/13 - 0s - loss: 3.5008 - 16ms/epoch - 1ms/step\n",
      "Epoch 54/100\n",
      "13/13 - 0s - loss: 3.3289 - 0s/epoch - 0s/step\n",
      "Epoch 55/100\n",
      "13/13 - 0s - loss: 3.4688 - 16ms/epoch - 1ms/step\n",
      "Epoch 56/100\n",
      "13/13 - 0s - loss: 3.8524 - 16ms/epoch - 1ms/step\n",
      "Epoch 57/100\n",
      "13/13 - 0s - loss: 3.1129 - 0s/epoch - 0s/step\n",
      "Epoch 58/100\n",
      "13/13 - 0s - loss: 3.3062 - 16ms/epoch - 1ms/step\n",
      "Epoch 59/100\n",
      "13/13 - 0s - loss: 3.2520 - 0s/epoch - 0s/step\n",
      "Epoch 60/100\n",
      "13/13 - 0s - loss: 3.3305 - 16ms/epoch - 1ms/step\n",
      "Epoch 61/100\n",
      "13/13 - 0s - loss: 3.3059 - 16ms/epoch - 1ms/step\n",
      "Epoch 62/100\n",
      "13/13 - 0s - loss: 3.2551 - 0s/epoch - 0s/step\n",
      "Epoch 63/100\n",
      "13/13 - 0s - loss: 3.6936 - 16ms/epoch - 1ms/step\n",
      "Epoch 64/100\n",
      "13/13 - 0s - loss: 3.1262 - 16ms/epoch - 1ms/step\n",
      "Epoch 65/100\n",
      "13/13 - 0s - loss: 3.3787 - 0s/epoch - 0s/step\n",
      "Epoch 66/100\n",
      "13/13 - 0s - loss: 3.1742 - 12ms/epoch - 917us/step\n",
      "Epoch 67/100\n",
      "13/13 - 0s - loss: 3.0551 - 16ms/epoch - 1ms/step\n",
      "Epoch 68/100\n",
      "13/13 - 0s - loss: 3.2062 - 0s/epoch - 0s/step\n",
      "Epoch 69/100\n",
      "13/13 - 0s - loss: 3.2246 - 20ms/epoch - 2ms/step\n",
      "Epoch 70/100\n",
      "13/13 - 0s - loss: 3.2249 - 0s/epoch - 0s/step\n",
      "Epoch 71/100\n",
      "13/13 - 0s - loss: 3.3124 - 16ms/epoch - 1ms/step\n",
      "Epoch 72/100\n",
      "13/13 - 0s - loss: 3.1983 - 16ms/epoch - 1ms/step\n",
      "Epoch 73/100\n",
      "13/13 - 0s - loss: 3.4808 - 4ms/epoch - 310us/step\n",
      "Epoch 74/100\n",
      "13/13 - 0s - loss: 3.3889 - 16ms/epoch - 1ms/step\n",
      "Epoch 75/100\n",
      "13/13 - 0s - loss: 3.1737 - 0s/epoch - 0s/step\n",
      "Epoch 76/100\n",
      "13/13 - 0s - loss: 3.4470 - 16ms/epoch - 1ms/step\n",
      "Epoch 77/100\n",
      "13/13 - 0s - loss: 3.2028 - 0s/epoch - 0s/step\n",
      "Epoch 78/100\n",
      "13/13 - 0s - loss: 3.2154 - 16ms/epoch - 1ms/step\n",
      "Epoch 79/100\n",
      "13/13 - 0s - loss: 3.1619 - 16ms/epoch - 1ms/step\n",
      "Epoch 80/100\n",
      "13/13 - 0s - loss: 3.2356 - 0s/epoch - 0s/step\n",
      "Epoch 81/100\n",
      "13/13 - 0s - loss: 2.9582 - 16ms/epoch - 1ms/step\n",
      "Epoch 82/100\n",
      "13/13 - 0s - loss: 2.7670 - 16ms/epoch - 1ms/step\n",
      "Epoch 83/100\n",
      "13/13 - 0s - loss: 3.8356 - 0s/epoch - 0s/step\n",
      "Epoch 84/100\n",
      "13/13 - 0s - loss: 3.0803 - 16ms/epoch - 1ms/step\n",
      "Epoch 85/100\n",
      "13/13 - 0s - loss: 3.2186 - 16ms/epoch - 1ms/step\n",
      "Epoch 86/100\n",
      "13/13 - 0s - loss: 3.1788 - 0s/epoch - 0s/step\n",
      "Epoch 87/100\n",
      "13/13 - 0s - loss: 3.1273 - 16ms/epoch - 1ms/step\n",
      "Epoch 88/100\n",
      "13/13 - 0s - loss: 3.6792 - 16ms/epoch - 1ms/step\n",
      "Epoch 89/100\n",
      "13/13 - 0s - loss: 3.3617 - 0s/epoch - 0s/step\n",
      "Epoch 90/100\n",
      "13/13 - 0s - loss: 3.2759 - 16ms/epoch - 1ms/step\n",
      "Epoch 91/100\n",
      "13/13 - 0s - loss: 3.3823 - 0s/epoch - 0s/step\n",
      "Epoch 92/100\n",
      "13/13 - 0s - loss: 3.3292 - 16ms/epoch - 1ms/step\n",
      "Epoch 93/100\n",
      "13/13 - 0s - loss: 3.2608 - 16ms/epoch - 1ms/step\n",
      "Epoch 94/100\n",
      "13/13 - 0s - loss: 3.5193 - 0s/epoch - 0s/step\n",
      "Epoch 95/100\n",
      "13/13 - 0s - loss: 3.1620 - 16ms/epoch - 1ms/step\n",
      "Epoch 96/100\n",
      "13/13 - 0s - loss: 3.0500 - 0s/epoch - 0s/step\n",
      "Epoch 97/100\n",
      "13/13 - 0s - loss: 3.2984 - 16ms/epoch - 1ms/step\n",
      "Epoch 98/100\n",
      "13/13 - 0s - loss: 3.1353 - 16ms/epoch - 1ms/step\n",
      "Epoch 99/100\n",
      "13/13 - 0s - loss: 3.3849 - 0s/epoch - 0s/step\n",
      "Epoch 100/100\n",
      "13/13 - 0s - loss: 3.7260 - 16ms/epoch - 1ms/step\n",
      "len(model.layers): 2\n"
     ]
    }
   ],
   "source": [
    "record = model.fit(x, y, epochs=100, batch_size=4, verbose=2)\n",
    "print(\"len(model.layers):\", len(model.layers)) # 1"
   ],
   "metadata": {
    "collapsed": false,
    "ExecuteTime": {
     "start_time": "2023-04-21T15:29:44.035160Z",
     "end_time": "2023-04-21T15:29:45.274208Z"
    }
   }
  },
  {
   "cell_type": "markdown",
   "source": [
    "### 결과값 확인"
   ],
   "metadata": {
    "collapsed": false
   }
  },
  {
   "cell_type": "code",
   "execution_count": 41,
   "outputs": [
    {
     "name": "stdout",
     "output_type": "stream",
     "text": [
      "loss: 3.7260210514068604\n",
      "weights: [[2.9814422]]\n",
      "bias: [-10.328279]\n"
     ]
    }
   ],
   "source": [
    "loss = record.history['loss']\n",
    "print(\"loss:\", loss[-1])\n",
    "print(\"weights:\", model.layers[1].weights[0].numpy())\n",
    "print(\"bias:\", model.layers[1].weights[1].numpy()) # model.layers[0].bias.numpy()"
   ],
   "metadata": {
    "collapsed": false,
    "ExecuteTime": {
     "start_time": "2023-04-21T15:29:47.544482Z",
     "end_time": "2023-04-21T15:29:47.560081Z"
    }
   }
  },
  {
   "cell_type": "markdown",
   "source": [
    "### 시각화"
   ],
   "metadata": {
    "collapsed": false
   }
  },
  {
   "cell_type": "code",
   "execution_count": 42,
   "outputs": [
    {
     "name": "stdout",
     "output_type": "stream",
     "text": [
      "2/2 [==============================] - 0s 0s/step\n"
     ]
    },
    {
     "data": {
      "text/plain": "<Figure size 1000x500 with 2 Axes>",
      "image/png": "[encoded data removed]"
     },
     "metadata": {},
     "output_type": "display_data"
    }
   ],
   "source": [
    "fig, axs = plt.subplots(1,2, figsize=(10, 5))\n",
    "axs[0].plot(loss)\n",
    "axs[0].set_xlabel('epochs')\n",
    "axs[0].set_ylabel('loss')\n",
    "\n",
    "axs[1].scatter(x, y)\n",
    "y_pred = model.predict(x)\n",
    "axs[1].plot(x, y_pred, color='red')\n",
    "axs[1].set_xlabel('x')\n",
    "axs[1].set_ylabel('y')\n",
    "plt.show()"
   ],
   "metadata": {
    "collapsed": false,
    "ExecuteTime": {
     "start_time": "2023-04-21T15:29:49.086197Z",
     "end_time": "2023-04-21T15:29:49.336169Z"
    }
   }
  },
  {
   "cell_type": "markdown",
   "source": [
    "## 2. Linear Regression with two variables\n",
    "+ [ 2 x 2 ] [ 2 x 1 ] = [ 2 x 1 ]"
   ],
   "metadata": {
    "collapsed": false
   }
  },
  {
   "cell_type": "markdown",
   "source": [
    "### Data 만들기\n",
    "+ data에 따라 결과 달라지는거 확인"
   ],
   "metadata": {
    "collapsed": false
   }
  },
  {
   "cell_type": "code",
   "execution_count": 58,
   "outputs": [],
   "source": [
    "def dataset():\n",
    "  train_data = np.array([\n",
    "                        # x0, x1, t\n",
    "                        [ 1,  1,  6],\n",
    "                        [ 2,  1,  7],\n",
    "                        [ 3,  2,  10],\n",
    "                        [ 4,  2,  11],\n",
    "                        [ 5,  3,  14],\n",
    "                        [ 6,  3,  12],\n",
    "                        [ 7,  4,  18],\n",
    "                        [ 8,  4,  19]], dtype=np.float32)\n",
    "  return train_data[:, :-1], train_data[:, -1:]\n",
    "\n",
    "X, y = dataset()"
   ],
   "metadata": {
    "collapsed": false,
    "ExecuteTime": {
     "start_time": "2023-04-21T15:36:33.922134Z",
     "end_time": "2023-04-21T15:36:33.953373Z"
    }
   }
  },
  {
   "cell_type": "code",
   "execution_count": 62,
   "outputs": [],
   "source": [
    "def dataset(train_size=100):\n",
    "  tf.random.set_seed(1)\n",
    "  x0 = tf.linspace(0.0, 10.0, num=train_size)\n",
    "  x1 = tf.linspace(-2., 2., num=train_size)\n",
    "  y_label = 1*x0 + 2*x1 + 3   # y = 1*x0 + 2*x1 + 3\n",
    "  y = y_label + tf.random.normal([train_size], mean=0.0, stddev = 2.0)\n",
    "  X = tf.concat([tf.reshape(x0, [-1,1]), tf.reshape(x1, [-1, 1])], 1)\n",
    "  return X, y, y_label\n",
    "\n",
    "X, y, y_label = dataset()"
   ],
   "metadata": {
    "collapsed": false,
    "ExecuteTime": {
     "start_time": "2023-04-21T15:41:12.155680Z",
     "end_time": "2023-04-21T15:41:12.202635Z"
    }
   }
  },
  {
   "cell_type": "markdown",
   "source": [
    "### Model 만들기"
   ],
   "metadata": {
    "collapsed": false
   }
  },
  {
   "cell_type": "code",
   "execution_count": 63,
   "outputs": [
    {
     "name": "stdout",
     "output_type": "stream",
     "text": [
      "Model: \"sequential_3\"\n",
      "_________________________________________________________________\n",
      " Layer (type)                Output Shape              Param #   \n",
      "=================================================================\n",
      " dense_5 (Dense)             (None, 1)                 3         \n",
      "                                                                 \n",
      "=================================================================\n",
      "Total params: 3\n",
      "Trainable params: 3\n",
      "Non-trainable params: 0\n",
      "_________________________________________________________________\n"
     ]
    }
   ],
   "source": [
    "model = tf.keras.Sequential()\n",
    "model.add(tf.keras.layers.Dense(units=1, input_dim=2)) # input_shape=(2,)\n",
    "model.summary()"
   ],
   "metadata": {
    "collapsed": false,
    "ExecuteTime": {
     "start_time": "2023-04-21T15:41:15.608650Z",
     "end_time": "2023-04-21T15:41:15.640009Z"
    }
   }
  },
  {
   "cell_type": "markdown",
   "source": [
    "### 학습시키기"
   ],
   "metadata": {
    "collapsed": false
   }
  },
  {
   "cell_type": "code",
   "execution_count": 64,
   "outputs": [],
   "source": [
    "# opt = tf.keras.optimizers.RMSprop(learning_rate=0.1)\n",
    "opt = tf.keras.optimizers.Adam(learning_rate=0.1)\n",
    "model.compile(optimizer=opt, loss='mse') # 'mean_squared_error'"
   ],
   "metadata": {
    "collapsed": false,
    "ExecuteTime": {
     "start_time": "2023-04-21T15:41:17.606579Z",
     "end_time": "2023-04-21T15:41:17.624597Z"
    }
   }
  },
  {
   "cell_type": "code",
   "execution_count": 65,
   "outputs": [
    {
     "name": "stdout",
     "output_type": "stream",
     "text": [
      "Epoch 1/100\n",
      "25/25 - 0s - loss: 4.1935 - 204ms/epoch - 8ms/step\n",
      "Epoch 2/100\n",
      "25/25 - 0s - loss: 4.1732 - 16ms/epoch - 626us/step\n",
      "Epoch 3/100\n",
      "25/25 - 0s - loss: 4.2155 - 16ms/epoch - 624us/step\n",
      "Epoch 4/100\n",
      "25/25 - 0s - loss: 3.7707 - 16ms/epoch - 624us/step\n",
      "Epoch 5/100\n",
      "25/25 - 0s - loss: 4.6745 - 16ms/epoch - 625us/step\n",
      "Epoch 6/100\n",
      "25/25 - 0s - loss: 4.3954 - 16ms/epoch - 626us/step\n",
      "Epoch 7/100\n",
      "25/25 - 0s - loss: 4.0339 - 16ms/epoch - 624us/step\n",
      "Epoch 8/100\n",
      "25/25 - 0s - loss: 4.2505 - 16ms/epoch - 625us/step\n",
      "Epoch 9/100\n",
      "25/25 - 0s - loss: 4.2378 - 16ms/epoch - 625us/step\n",
      "Epoch 10/100\n",
      "25/25 - 0s - loss: 4.0736 - 16ms/epoch - 626us/step\n",
      "Epoch 11/100\n",
      "25/25 - 0s - loss: 4.2792 - 16ms/epoch - 626us/step\n",
      "Epoch 12/100\n",
      "25/25 - 0s - loss: 3.8179 - 16ms/epoch - 625us/step\n",
      "Epoch 13/100\n",
      "25/25 - 0s - loss: 3.8346 - 16ms/epoch - 624us/step\n",
      "Epoch 14/100\n",
      "25/25 - 0s - loss: 4.3918 - 16ms/epoch - 626us/step\n",
      "Epoch 15/100\n",
      "25/25 - 0s - loss: 3.8194 - 16ms/epoch - 624us/step\n",
      "Epoch 16/100\n",
      "25/25 - 0s - loss: 4.2268 - 16ms/epoch - 625us/step\n",
      "Epoch 17/100\n",
      "25/25 - 0s - loss: 3.9197 - 3ms/epoch - 131us/step\n",
      "Epoch 18/100\n",
      "25/25 - 0s - loss: 3.9879 - 16ms/epoch - 625us/step\n",
      "Epoch 19/100\n",
      "25/25 - 0s - loss: 3.4365 - 16ms/epoch - 625us/step\n",
      "Epoch 20/100\n",
      "25/25 - 0s - loss: 4.0342 - 16ms/epoch - 625us/step\n",
      "Epoch 21/100\n",
      "25/25 - 0s - loss: 4.1922 - 16ms/epoch - 625us/step\n",
      "Epoch 22/100\n",
      "25/25 - 0s - loss: 4.0960 - 16ms/epoch - 625us/step\n",
      "Epoch 23/100\n",
      "25/25 - 0s - loss: 4.2620 - 16ms/epoch - 624us/step\n",
      "Epoch 24/100\n",
      "25/25 - 0s - loss: 3.9490 - 16ms/epoch - 624us/step\n",
      "Epoch 25/100\n",
      "25/25 - 0s - loss: 4.0012 - 16ms/epoch - 625us/step\n",
      "Epoch 26/100\n",
      "25/25 - 0s - loss: 4.0739 - 16ms/epoch - 625us/step\n",
      "Epoch 27/100\n",
      "25/25 - 0s - loss: 3.9135 - 16ms/epoch - 625us/step\n",
      "Epoch 28/100\n",
      "25/25 - 0s - loss: 4.3752 - 16ms/epoch - 626us/step\n",
      "Epoch 29/100\n",
      "25/25 - 0s - loss: 4.4016 - 16ms/epoch - 625us/step\n",
      "Epoch 30/100\n",
      "25/25 - 0s - loss: 4.1480 - 22ms/epoch - 899us/step\n",
      "Epoch 31/100\n",
      "25/25 - 0s - loss: 3.9518 - 16ms/epoch - 625us/step\n",
      "Epoch 32/100\n",
      "25/25 - 0s - loss: 4.7480 - 16ms/epoch - 625us/step\n",
      "Epoch 33/100\n",
      "25/25 - 0s - loss: 3.8567 - 16ms/epoch - 624us/step\n",
      "Epoch 34/100\n",
      "25/25 - 0s - loss: 4.4737 - 16ms/epoch - 625us/step\n",
      "Epoch 35/100\n",
      "25/25 - 0s - loss: 3.8228 - 16ms/epoch - 625us/step\n",
      "Epoch 36/100\n",
      "25/25 - 0s - loss: 3.9442 - 16ms/epoch - 625us/step\n",
      "Epoch 37/100\n",
      "25/25 - 0s - loss: 3.8917 - 16ms/epoch - 625us/step\n",
      "Epoch 38/100\n",
      "25/25 - 0s - loss: 4.2893 - 16ms/epoch - 625us/step\n",
      "Epoch 39/100\n",
      "25/25 - 0s - loss: 4.1067 - 16ms/epoch - 625us/step\n",
      "Epoch 40/100\n",
      "25/25 - 0s - loss: 3.7111 - 16ms/epoch - 625us/step\n",
      "Epoch 41/100\n",
      "25/25 - 0s - loss: 3.9172 - 16ms/epoch - 625us/step\n",
      "Epoch 42/100\n",
      "25/25 - 0s - loss: 4.0317 - 16ms/epoch - 625us/step\n",
      "Epoch 43/100\n",
      "25/25 - 0s - loss: 3.8652 - 16ms/epoch - 625us/step\n",
      "Epoch 44/100\n",
      "25/25 - 0s - loss: 3.7660 - 16ms/epoch - 626us/step\n",
      "Epoch 45/100\n",
      "25/25 - 0s - loss: 4.0036 - 16ms/epoch - 624us/step\n",
      "Epoch 46/100\n",
      "25/25 - 0s - loss: 4.1136 - 16ms/epoch - 625us/step\n",
      "Epoch 47/100\n",
      "25/25 - 0s - loss: 3.9513 - 31ms/epoch - 1ms/step\n",
      "Epoch 48/100\n",
      "25/25 - 0s - loss: 4.0205 - 16ms/epoch - 624us/step\n",
      "Epoch 49/100\n",
      "25/25 - 0s - loss: 3.9123 - 16ms/epoch - 626us/step\n",
      "Epoch 50/100\n",
      "25/25 - 0s - loss: 3.9993 - 16ms/epoch - 625us/step\n",
      "Epoch 51/100\n",
      "25/25 - 0s - loss: 3.8429 - 16ms/epoch - 624us/step\n",
      "Epoch 52/100\n",
      "25/25 - 0s - loss: 3.7014 - 16ms/epoch - 625us/step\n",
      "Epoch 53/100\n",
      "25/25 - 0s - loss: 4.1719 - 16ms/epoch - 626us/step\n",
      "Epoch 54/100\n",
      "25/25 - 0s - loss: 3.9628 - 16ms/epoch - 624us/step\n",
      "Epoch 55/100\n",
      "25/25 - 0s - loss: 3.7696 - 16ms/epoch - 625us/step\n",
      "Epoch 56/100\n",
      "25/25 - 0s - loss: 4.5532 - 16ms/epoch - 625us/step\n",
      "Epoch 57/100\n",
      "25/25 - 0s - loss: 4.0358 - 16ms/epoch - 625us/step\n",
      "Epoch 58/100\n",
      "25/25 - 0s - loss: 4.0170 - 16ms/epoch - 626us/step\n",
      "Epoch 59/100\n",
      "25/25 - 0s - loss: 4.6438 - 16ms/epoch - 624us/step\n",
      "Epoch 60/100\n",
      "25/25 - 0s - loss: 4.2185 - 16ms/epoch - 625us/step\n",
      "Epoch 61/100\n",
      "25/25 - 0s - loss: 4.0362 - 16ms/epoch - 625us/step\n",
      "Epoch 62/100\n",
      "25/25 - 0s - loss: 3.9326 - 26ms/epoch - 1ms/step\n",
      "Epoch 63/100\n",
      "25/25 - 0s - loss: 3.9738 - 16ms/epoch - 637us/step\n",
      "Epoch 64/100\n",
      "25/25 - 0s - loss: 4.4724 - 16ms/epoch - 625us/step\n",
      "Epoch 65/100\n",
      "25/25 - 0s - loss: 4.2440 - 16ms/epoch - 625us/step\n",
      "Epoch 66/100\n",
      "25/25 - 0s - loss: 4.0375 - 16ms/epoch - 625us/step\n",
      "Epoch 67/100\n",
      "25/25 - 0s - loss: 3.9783 - 16ms/epoch - 625us/step\n",
      "Epoch 68/100\n",
      "25/25 - 0s - loss: 3.8382 - 16ms/epoch - 625us/step\n",
      "Epoch 69/100\n",
      "25/25 - 0s - loss: 4.2593 - 16ms/epoch - 625us/step\n",
      "Epoch 70/100\n",
      "25/25 - 0s - loss: 4.3422 - 16ms/epoch - 624us/step\n",
      "Epoch 71/100\n",
      "25/25 - 0s - loss: 3.8616 - 16ms/epoch - 626us/step\n",
      "Epoch 72/100\n",
      "25/25 - 0s - loss: 3.9623 - 16ms/epoch - 625us/step\n",
      "Epoch 73/100\n",
      "25/25 - 0s - loss: 3.8709 - 16ms/epoch - 624us/step\n",
      "Epoch 74/100\n",
      "25/25 - 0s - loss: 4.4082 - 16ms/epoch - 625us/step\n",
      "Epoch 75/100\n",
      "25/25 - 0s - loss: 4.5069 - 16ms/epoch - 626us/step\n",
      "Epoch 76/100\n",
      "25/25 - 0s - loss: 4.7928 - 16ms/epoch - 624us/step\n",
      "Epoch 77/100\n",
      "25/25 - 0s - loss: 3.9256 - 16ms/epoch - 626us/step\n",
      "Epoch 78/100\n",
      "25/25 - 0s - loss: 4.0565 - 16ms/epoch - 624us/step\n",
      "Epoch 79/100\n",
      "25/25 - 0s - loss: 3.7282 - 16ms/epoch - 624us/step\n",
      "Epoch 80/100\n",
      "25/25 - 0s - loss: 3.9413 - 16ms/epoch - 625us/step\n",
      "Epoch 81/100\n",
      "25/25 - 0s - loss: 3.7736 - 16ms/epoch - 625us/step\n",
      "Epoch 82/100\n",
      "25/25 - 0s - loss: 3.9072 - 16ms/epoch - 626us/step\n",
      "Epoch 83/100\n",
      "25/25 - 0s - loss: 4.0895 - 16ms/epoch - 624us/step\n",
      "Epoch 84/100\n",
      "25/25 - 0s - loss: 3.8846 - 16ms/epoch - 626us/step\n",
      "Epoch 85/100\n",
      "25/25 - 0s - loss: 3.5782 - 16ms/epoch - 625us/step\n",
      "Epoch 86/100\n",
      "25/25 - 0s - loss: 3.9062 - 16ms/epoch - 625us/step\n",
      "Epoch 87/100\n",
      "25/25 - 0s - loss: 3.9089 - 16ms/epoch - 624us/step\n",
      "Epoch 88/100\n",
      "25/25 - 0s - loss: 3.6756 - 16ms/epoch - 625us/step\n",
      "Epoch 89/100\n",
      "25/25 - 0s - loss: 4.0936 - 16ms/epoch - 625us/step\n",
      "Epoch 90/100\n",
      "25/25 - 0s - loss: 4.2209 - 16ms/epoch - 626us/step\n",
      "Epoch 91/100\n",
      "25/25 - 0s - loss: 4.1347 - 16ms/epoch - 625us/step\n",
      "Epoch 92/100\n",
      "25/25 - 0s - loss: 3.7642 - 16ms/epoch - 624us/step\n",
      "Epoch 93/100\n",
      "25/25 - 0s - loss: 4.2275 - 16ms/epoch - 625us/step\n",
      "Epoch 94/100\n",
      "25/25 - 0s - loss: 4.2107 - 30ms/epoch - 1ms/step\n",
      "Epoch 95/100\n",
      "25/25 - 0s - loss: 4.1158 - 16ms/epoch - 625us/step\n",
      "Epoch 96/100\n",
      "25/25 - 0s - loss: 3.9305 - 16ms/epoch - 625us/step\n",
      "Epoch 97/100\n",
      "25/25 - 0s - loss: 3.8182 - 16ms/epoch - 624us/step\n",
      "Epoch 98/100\n",
      "25/25 - 0s - loss: 4.1442 - 16ms/epoch - 626us/step\n",
      "Epoch 99/100\n",
      "25/25 - 0s - loss: 3.7869 - 16ms/epoch - 624us/step\n",
      "Epoch 100/100\n",
      "25/25 - 0s - loss: 4.0544 - 16ms/epoch - 625us/step\n"
     ]
    }
   ],
   "source": [
    "# 0: silent, 1:progress bar,  2: one line per epoch\n",
    "history = model.fit(X, y, epochs=100, batch_size=4, verbose=2)"
   ],
   "metadata": {
    "collapsed": false,
    "ExecuteTime": {
     "start_time": "2023-04-21T15:41:19.842625Z",
     "end_time": "2023-04-21T15:41:21.737959Z"
    }
   }
  },
  {
   "cell_type": "code",
   "execution_count": 66,
   "outputs": [
    {
     "data": {
      "text/plain": "TensorShape([100, 2])"
     },
     "execution_count": 66,
     "metadata": {},
     "output_type": "execute_result"
    }
   ],
   "source": [
    "X.shape"
   ],
   "metadata": {
    "collapsed": false,
    "ExecuteTime": {
     "start_time": "2023-04-21T15:41:25.328114Z",
     "end_time": "2023-04-21T15:41:25.359437Z"
    }
   }
  },
  {
   "cell_type": "markdown",
   "source": [
    "### 결과값 확인"
   ],
   "metadata": {
    "collapsed": false
   }
  },
  {
   "cell_type": "code",
   "execution_count": 67,
   "outputs": [
    {
     "name": "stdout",
     "output_type": "stream",
     "text": [
      "loss: 4.0543718338012695\n",
      "weights: [[1.5079396]\n",
      " [0.8240668]]\n",
      "bias: [0.30496046]\n"
     ]
    }
   ],
   "source": [
    "loss = history.history['loss']\n",
    "print(\"loss:\", loss[-1])\n",
    "#print(model.get_weights())\n",
    "print(\"weights:\", model.layers[0].weights[0].numpy())\n",
    "print(\"bias:\", model.layers[0].weights[1].numpy()) # model.layers[0].bias.numpy()"
   ],
   "metadata": {
    "collapsed": false,
    "ExecuteTime": {
     "start_time": "2023-04-21T15:41:27.217963Z",
     "end_time": "2023-04-21T15:41:27.280531Z"
    }
   }
  },
  {
   "cell_type": "markdown",
   "source": [
    "### 시각화"
   ],
   "metadata": {
    "collapsed": false
   }
  },
  {
   "cell_type": "code",
   "execution_count": 68,
   "outputs": [
    {
     "data": {
      "text/plain": "<Figure size 640x480 with 1 Axes>",
      "image/png": "[encoded data removed]"
     },
     "metadata": {},
     "output_type": "display_data"
    }
   ],
   "source": [
    "plt.plot(loss)\n",
    "plt.xlabel('epochs')\n",
    "plt.ylabel('loss')\n",
    "plt.show()"
   ],
   "metadata": {
    "collapsed": false,
    "ExecuteTime": {
     "start_time": "2023-04-21T15:41:30.156300Z",
     "end_time": "2023-04-21T15:41:30.290711Z"
    }
   }
  },
  {
   "cell_type": "markdown",
   "source": [
    "## 2-1. 참고"
   ],
   "metadata": {
    "collapsed": false
   }
  },
  {
   "cell_type": "code",
   "execution_count": 70,
   "outputs": [],
   "source": [
    "# t = 1*x0 + 2*x1 + 3\n",
    "def dataset2():\n",
    "  x0 = np.linspace(1, 10, 20)\n",
    "  x1 = np.linspace(-2, 2, 20)\n",
    "  y = 1* x0 + 2*x1 + 3\n",
    "  return x0, x1, y\n",
    "\n",
    "def dataset3(train_size=100):\n",
    "  tf.random.set_seed(1)\n",
    "  x0 = tf.linspace(0.0, 10.0, num=train_size)\n",
    "  x1 = tf.linspace(-2.0, 2.0, num=train_size)\n",
    "  y_label = 1*x0 + 2*x1 + 3   # y = 1*x0 + 2*x1 + 3\n",
    "  y = y_label + tf.random.normal([train_size], mean=0.0, stddev = 2.0)\n",
    "  X = tf.concat([tf.reshape(x0, [-1,1]), tf.reshape(x1, [-1,1])], 1)\n",
    "  return X, y, y_label\n",
    "\n",
    "X, y, y_label = dataset3()"
   ],
   "metadata": {
    "collapsed": false,
    "ExecuteTime": {
     "start_time": "2023-04-21T15:44:44.734741Z",
     "end_time": "2023-04-21T15:44:44.781601Z"
    }
   }
  },
  {
   "cell_type": "code",
   "execution_count": 71,
   "outputs": [
    {
     "name": "stdout",
     "output_type": "stream",
     "text": [
      "Model: \"sequential_4\"\n",
      "_________________________________________________________________\n",
      " Layer (type)                Output Shape              Param #   \n",
      "=================================================================\n",
      " dense_6 (Dense)             (None, 1)                 3         \n",
      "                                                                 \n",
      "=================================================================\n",
      "Total params: 3\n",
      "Trainable params: 3\n",
      "Non-trainable params: 0\n",
      "_________________________________________________________________\n"
     ]
    }
   ],
   "source": [
    "def make_model():\n",
    "  model = tf.keras.Sequential()\n",
    "  model.add(tf.keras.layers.Dense(units=1, input_dim=2)) # input_shape=(2,)\n",
    "  model.summary()\n",
    "  return model\n",
    "\n",
    "model = make_model()"
   ],
   "metadata": {
    "collapsed": false,
    "ExecuteTime": {
     "start_time": "2023-04-21T15:44:49.491303Z",
     "end_time": "2023-04-21T15:44:49.552190Z"
    }
   }
  },
  {
   "cell_type": "code",
   "execution_count": 72,
   "outputs": [],
   "source": [
    "def configure(model):\n",
    "  opt = tf.keras.optimizers.RMSprop(learning_rate=0.1)\n",
    "  model.compile(optimizer=opt, loss='mse') # 'mean_squared_error'\n",
    "  return model\n",
    "\n",
    "config_model = configure(model)"
   ],
   "metadata": {
    "collapsed": false,
    "ExecuteTime": {
     "start_time": "2023-04-21T15:44:57.245577Z",
     "end_time": "2023-04-21T15:44:57.276885Z"
    }
   }
  },
  {
   "cell_type": "code",
   "execution_count": 73,
   "outputs": [
    {
     "name": "stdout",
     "output_type": "stream",
     "text": [
      "Epoch 1/100\n",
      "25/25 - 0s - loss: 14.8694 - 156ms/epoch - 6ms/step\n",
      "Epoch 2/100\n",
      "25/25 - 0s - loss: 3.9832 - 16ms/epoch - 625us/step\n",
      "Epoch 3/100\n",
      "25/25 - 0s - loss: 3.8656 - 16ms/epoch - 625us/step\n",
      "Epoch 4/100\n",
      "25/25 - 0s - loss: 4.2302 - 16ms/epoch - 625us/step\n",
      "Epoch 5/100\n",
      "25/25 - 0s - loss: 4.2526 - 16ms/epoch - 626us/step\n",
      "Epoch 6/100\n",
      "25/25 - 0s - loss: 4.1596 - 16ms/epoch - 624us/step\n",
      "Epoch 7/100\n",
      "25/25 - 0s - loss: 4.3853 - 16ms/epoch - 626us/step\n",
      "Epoch 8/100\n",
      "25/25 - 0s - loss: 4.1762 - 16ms/epoch - 624us/step\n",
      "Epoch 9/100\n",
      "25/25 - 0s - loss: 4.1780 - 25ms/epoch - 996us/step\n",
      "Epoch 10/100\n",
      "25/25 - 0s - loss: 4.0320 - 16ms/epoch - 626us/step\n",
      "Epoch 11/100\n",
      "25/25 - 0s - loss: 4.1454 - 16ms/epoch - 625us/step\n",
      "Epoch 12/100\n",
      "25/25 - 0s - loss: 4.2266 - 16ms/epoch - 624us/step\n",
      "Epoch 13/100\n",
      "25/25 - 0s - loss: 3.9880 - 16ms/epoch - 625us/step\n",
      "Epoch 14/100\n",
      "25/25 - 0s - loss: 4.4483 - 16ms/epoch - 625us/step\n",
      "Epoch 15/100\n",
      "25/25 - 0s - loss: 4.1370 - 16ms/epoch - 625us/step\n",
      "Epoch 16/100\n",
      "25/25 - 0s - loss: 4.2809 - 16ms/epoch - 625us/step\n",
      "Epoch 17/100\n",
      "25/25 - 0s - loss: 4.0293 - 16ms/epoch - 625us/step\n",
      "Epoch 18/100\n",
      "25/25 - 0s - loss: 4.1579 - 0s/epoch - 0s/step\n",
      "Epoch 19/100\n",
      "25/25 - 0s - loss: 3.7524 - 16ms/epoch - 625us/step\n",
      "Epoch 20/100\n",
      "25/25 - 0s - loss: 4.6125 - 16ms/epoch - 625us/step\n",
      "Epoch 21/100\n",
      "25/25 - 0s - loss: 4.1367 - 16ms/epoch - 625us/step\n",
      "Epoch 22/100\n",
      "25/25 - 0s - loss: 4.0873 - 16ms/epoch - 625us/step\n",
      "Epoch 23/100\n",
      "25/25 - 0s - loss: 4.2554 - 16ms/epoch - 625us/step\n",
      "Epoch 24/100\n",
      "25/25 - 0s - loss: 4.3649 - 16ms/epoch - 625us/step\n",
      "Epoch 25/100\n",
      "25/25 - 0s - loss: 4.4721 - 0s/epoch - 0s/step\n",
      "Epoch 26/100\n",
      "25/25 - 0s - loss: 4.0299 - 0s/epoch - 0s/step\n",
      "Epoch 27/100\n",
      "25/25 - 0s - loss: 4.1517 - 16ms/epoch - 625us/step\n",
      "Epoch 28/100\n",
      "25/25 - 0s - loss: 4.0292 - 0s/epoch - 0s/step\n",
      "Epoch 29/100\n",
      "25/25 - 0s - loss: 3.7195 - 16ms/epoch - 628us/step\n",
      "Epoch 30/100\n",
      "25/25 - 0s - loss: 4.4635 - 16ms/epoch - 625us/step\n",
      "Epoch 31/100\n",
      "25/25 - 0s - loss: 4.1342 - 16ms/epoch - 625us/step\n",
      "Epoch 32/100\n",
      "25/25 - 0s - loss: 3.5579 - 16ms/epoch - 626us/step\n",
      "Epoch 33/100\n",
      "25/25 - 0s - loss: 4.1887 - 16ms/epoch - 624us/step\n",
      "Epoch 34/100\n",
      "25/25 - 0s - loss: 4.2015 - 16ms/epoch - 625us/step\n",
      "Epoch 35/100\n",
      "25/25 - 0s - loss: 4.1264 - 16ms/epoch - 625us/step\n",
      "Epoch 36/100\n",
      "25/25 - 0s - loss: 4.4889 - 16ms/epoch - 626us/step\n",
      "Epoch 37/100\n",
      "25/25 - 0s - loss: 4.0523 - 16ms/epoch - 624us/step\n",
      "Epoch 38/100\n",
      "25/25 - 0s - loss: 4.4263 - 16ms/epoch - 625us/step\n",
      "Epoch 39/100\n",
      "25/25 - 0s - loss: 4.1242 - 16ms/epoch - 625us/step\n",
      "Epoch 40/100\n",
      "25/25 - 0s - loss: 4.2279 - 16ms/epoch - 626us/step\n",
      "Epoch 41/100\n",
      "25/25 - 0s - loss: 4.3853 - 16ms/epoch - 625us/step\n",
      "Epoch 42/100\n",
      "25/25 - 0s - loss: 4.0924 - 24ms/epoch - 956us/step\n",
      "Epoch 43/100\n",
      "25/25 - 0s - loss: 4.1795 - 16ms/epoch - 625us/step\n",
      "Epoch 44/100\n",
      "25/25 - 0s - loss: 4.3665 - 16ms/epoch - 625us/step\n",
      "Epoch 45/100\n",
      "25/25 - 0s - loss: 4.1735 - 16ms/epoch - 625us/step\n",
      "Epoch 46/100\n",
      "25/25 - 0s - loss: 4.4024 - 16ms/epoch - 625us/step\n",
      "Epoch 47/100\n",
      "25/25 - 0s - loss: 4.1004 - 16ms/epoch - 625us/step\n",
      "Epoch 48/100\n",
      "25/25 - 0s - loss: 4.1133 - 16ms/epoch - 626us/step\n",
      "Epoch 49/100\n",
      "25/25 - 0s - loss: 4.3008 - 16ms/epoch - 624us/step\n",
      "Epoch 50/100\n",
      "25/25 - 0s - loss: 4.1811 - 16ms/epoch - 625us/step\n",
      "Epoch 51/100\n",
      "25/25 - 0s - loss: 4.1624 - 16ms/epoch - 625us/step\n",
      "Epoch 52/100\n",
      "25/25 - 0s - loss: 4.0971 - 16ms/epoch - 626us/step\n",
      "Epoch 53/100\n",
      "25/25 - 0s - loss: 4.1192 - 16ms/epoch - 625us/step\n",
      "Epoch 54/100\n",
      "25/25 - 0s - loss: 4.3046 - 16ms/epoch - 624us/step\n",
      "Epoch 55/100\n",
      "25/25 - 0s - loss: 4.6791 - 16ms/epoch - 625us/step\n",
      "Epoch 56/100\n",
      "25/25 - 0s - loss: 3.9413 - 16ms/epoch - 626us/step\n",
      "Epoch 57/100\n",
      "25/25 - 0s - loss: 3.9320 - 16ms/epoch - 624us/step\n",
      "Epoch 58/100\n",
      "25/25 - 0s - loss: 4.4220 - 31ms/epoch - 1ms/step\n",
      "Epoch 59/100\n",
      "25/25 - 0s - loss: 4.1135 - 16ms/epoch - 624us/step\n",
      "Epoch 60/100\n",
      "25/25 - 0s - loss: 4.0415 - 16ms/epoch - 626us/step\n",
      "Epoch 61/100\n",
      "25/25 - 0s - loss: 4.2077 - 16ms/epoch - 624us/step\n",
      "Epoch 62/100\n",
      "25/25 - 0s - loss: 4.2748 - 16ms/epoch - 626us/step\n",
      "Epoch 63/100\n",
      "25/25 - 0s - loss: 4.0814 - 16ms/epoch - 624us/step\n",
      "Epoch 64/100\n",
      "25/25 - 0s - loss: 3.9267 - 16ms/epoch - 625us/step\n",
      "Epoch 65/100\n",
      "25/25 - 0s - loss: 4.3894 - 16ms/epoch - 625us/step\n",
      "Epoch 66/100\n",
      "25/25 - 0s - loss: 4.2179 - 16ms/epoch - 625us/step\n",
      "Epoch 67/100\n",
      "25/25 - 0s - loss: 3.9710 - 16ms/epoch - 625us/step\n",
      "Epoch 68/100\n",
      "25/25 - 0s - loss: 4.1890 - 16ms/epoch - 624us/step\n",
      "Epoch 69/100\n",
      "25/25 - 0s - loss: 3.8181 - 16ms/epoch - 626us/step\n",
      "Epoch 70/100\n",
      "25/25 - 0s - loss: 4.1200 - 16ms/epoch - 624us/step\n",
      "Epoch 71/100\n",
      "25/25 - 0s - loss: 4.0892 - 16ms/epoch - 625us/step\n",
      "Epoch 72/100\n",
      "25/25 - 0s - loss: 4.1869 - 16ms/epoch - 625us/step\n",
      "Epoch 73/100\n",
      "25/25 - 0s - loss: 3.8108 - 16ms/epoch - 625us/step\n",
      "Epoch 74/100\n",
      "25/25 - 0s - loss: 4.1966 - 16ms/epoch - 625us/step\n",
      "Epoch 75/100\n",
      "25/25 - 0s - loss: 4.4011 - 16ms/epoch - 625us/step\n",
      "Epoch 76/100\n",
      "25/25 - 0s - loss: 4.2481 - 0s/epoch - 0s/step\n",
      "Epoch 77/100\n",
      "25/25 - 0s - loss: 4.2787 - 16ms/epoch - 625us/step\n",
      "Epoch 78/100\n",
      "25/25 - 0s - loss: 4.2640 - 16ms/epoch - 625us/step\n",
      "Epoch 79/100\n",
      "25/25 - 0s - loss: 4.2805 - 16ms/epoch - 625us/step\n",
      "Epoch 80/100\n",
      "25/25 - 0s - loss: 4.1895 - 16ms/epoch - 626us/step\n",
      "Epoch 81/100\n",
      "25/25 - 0s - loss: 4.3538 - 16ms/epoch - 625us/step\n",
      "Epoch 82/100\n",
      "25/25 - 0s - loss: 3.8001 - 16ms/epoch - 624us/step\n",
      "Epoch 83/100\n",
      "25/25 - 0s - loss: 4.1652 - 16ms/epoch - 625us/step\n",
      "Epoch 84/100\n",
      "25/25 - 0s - loss: 4.2494 - 16ms/epoch - 626us/step\n",
      "Epoch 85/100\n",
      "25/25 - 0s - loss: 3.8710 - 16ms/epoch - 624us/step\n",
      "Epoch 86/100\n",
      "25/25 - 0s - loss: 4.5027 - 16ms/epoch - 625us/step\n",
      "Epoch 87/100\n",
      "25/25 - 0s - loss: 4.2805 - 0s/epoch - 0s/step\n",
      "Epoch 88/100\n",
      "25/25 - 0s - loss: 4.2128 - 16ms/epoch - 625us/step\n",
      "Epoch 89/100\n",
      "25/25 - 0s - loss: 4.0932 - 0s/epoch - 0s/step\n",
      "Epoch 90/100\n",
      "25/25 - 0s - loss: 4.1107 - 16ms/epoch - 625us/step\n",
      "Epoch 91/100\n",
      "25/25 - 0s - loss: 4.3139 - 16ms/epoch - 625us/step\n",
      "Epoch 92/100\n",
      "25/25 - 0s - loss: 4.2935 - 16ms/epoch - 625us/step\n",
      "Epoch 93/100\n",
      "25/25 - 0s - loss: 4.2976 - 16ms/epoch - 625us/step\n",
      "Epoch 94/100\n",
      "25/25 - 0s - loss: 4.2429 - 16ms/epoch - 625us/step\n",
      "Epoch 95/100\n",
      "25/25 - 0s - loss: 4.2321 - 16ms/epoch - 625us/step\n",
      "Epoch 96/100\n",
      "25/25 - 0s - loss: 4.1470 - 16ms/epoch - 625us/step\n",
      "Epoch 97/100\n",
      "25/25 - 0s - loss: 4.3862 - 16ms/epoch - 625us/step\n",
      "Epoch 98/100\n",
      "25/25 - 0s - loss: 4.4004 - 16ms/epoch - 625us/step\n",
      "Epoch 99/100\n",
      "25/25 - 0s - loss: 4.1722 - 16ms/epoch - 625us/step\n",
      "Epoch 100/100\n",
      "25/25 - 0s - loss: 4.3265 - 16ms/epoch - 625us/step\n"
     ]
    }
   ],
   "source": [
    "def train(model, X, y):\n",
    "  # 0: silent, 1:progress bar,  2: one line per epoch\n",
    "  history = model.fit(X, y, epochs=100, batch_size=4, verbose=2)\n",
    "  return history\n",
    "\n",
    "history = train(model, X, y)"
   ],
   "metadata": {
    "collapsed": false,
    "ExecuteTime": {
     "start_time": "2023-04-21T15:45:01.619108Z",
     "end_time": "2023-04-21T15:45:03.480225Z"
    }
   }
  },
  {
   "cell_type": "code",
   "execution_count": 74,
   "outputs": [
    {
     "name": "stdout",
     "output_type": "stream",
     "text": [
      "loss: 4.326468467712402\n",
      "weights: [[1.554816 ]\n",
      " [1.0399076]]\n",
      "bias: [0.12618811]\n"
     ]
    }
   ],
   "source": [
    "def print_train_result(model, history):\n",
    "  loss = history.history['loss']\n",
    "  print(\"loss:\", loss[-1])\n",
    "  #print(model.get_weights())\n",
    "  print(\"weights:\", model.layers[0].weights[0].numpy())\n",
    "  print(\"bias:\", model.layers[0].weights[1].numpy()) # model.layers[0].bias.numpy()\n",
    "\n",
    "print_train_result(model, history)"
   ],
   "metadata": {
    "collapsed": false,
    "ExecuteTime": {
     "start_time": "2023-04-21T15:45:08.133057Z",
     "end_time": "2023-04-21T15:45:08.195566Z"
    }
   }
  },
  {
   "cell_type": "code",
   "execution_count": 75,
   "outputs": [
    {
     "data": {
      "text/plain": "<Figure size 640x480 with 1 Axes>",
      "image/png": "[encoded data removed]"
     },
     "metadata": {},
     "output_type": "display_data"
    }
   ],
   "source": [
    "def plot_result(data, ylabel, xlabel='epochs'):\n",
    "  plt.plot(data)\n",
    "  plt.xlabel(xlabel)\n",
    "  plt.ylabel(ylabel)\n",
    "  plt.show()\n",
    "\n",
    "plot_result(history.history['loss'], 'loss')"
   ],
   "metadata": {
    "collapsed": false,
    "ExecuteTime": {
     "start_time": "2023-04-21T15:45:13.949826Z",
     "end_time": "2023-04-21T15:45:14.060206Z"
    }
   }
  },
  {
   "cell_type": "code",
   "execution_count": 79,
   "outputs": [],
   "source": [
    "def plot_predict(model, X, y, y_label):\n",
    "  fig = plt.figure(figsize=(10, 5))\n",
    "  ax = fig.add_subplot(projection='3d')\n",
    "  #ax.scatter(X[:, 0], X[:, 1], y_true)\n",
    "  #ax.plot(tf.reshape(X[:, 0], [-1]), tf.reshape(X[:, 1], [-1]), tf.reshape(y_true, [-1]))\n",
    "  ax.scatter(X[:, 0], X[:, 1], y)\n",
    "  y_pred = model.predict(X)\n",
    "  ax.plot(X[:, 0], X[:, 1], tf.reshape(y_pred,[-1]), color='red') # model line\n",
    "  ax.plot(X[:, 0], X[:, 1], y_label, color='yellow') # original line\n",
    "  ax.set_xlabel('X Label')\n",
    "  ax.set_ylabel('Y Label')\n",
    "  ax.set_zlabel('Z Label')\n",
    "\n",
    "  plt.show()"
   ],
   "metadata": {
    "collapsed": false,
    "ExecuteTime": {
     "start_time": "2023-04-21T15:47:04.134872Z",
     "end_time": "2023-04-21T15:47:04.166124Z"
    }
   }
  },
  {
   "cell_type": "code",
   "execution_count": 80,
   "outputs": [
    {
     "name": "stdout",
     "output_type": "stream",
     "text": [
      "4/4 [==============================] - 0s 5ms/step\n"
     ]
    },
    {
     "data": {
      "text/plain": "<Figure size 1000x500 with 1 Axes>",
      "image/png": "[encoded data removed]"
     },
     "metadata": {},
     "output_type": "display_data"
    }
   ],
   "source": [
    "plot_predict(model, X, y, y_label)"
   ],
   "metadata": {
    "collapsed": false,
    "ExecuteTime": {
     "start_time": "2023-04-21T15:47:07.422563Z",
     "end_time": "2023-04-21T15:47:07.594423Z"
    }
   }
  },
  {
   "cell_type": "markdown",
   "source": [
    "## 3. Polynomial Regression"
   ],
   "metadata": {
    "collapsed": false
   }
  },
  {
   "cell_type": "markdown",
   "source": [
    "### DATA 만들기"
   ],
   "metadata": {
    "collapsed": false
   }
  },
  {
   "cell_type": "code",
   "execution_count": 103,
   "outputs": [],
   "source": [
    "def dataset(train_size=50): # tensorflow\n",
    "     tf.random.set_seed(1)\n",
    "     x = tf.linspace(-5.0, 5.0, num=train_size)\n",
    "     y_label = 3.0*(x**3) + 2.0*(x**2) + 4.0*x + 5\n",
    "     y = y_label + tf.random.normal([train_size], mean=0.0, stddev = 30.0)\n",
    "     return x, y, y_label\n",
    "\n",
    "x, y, y_label = dataset()"
   ],
   "metadata": {
    "collapsed": false,
    "ExecuteTime": {
     "start_time": "2023-04-21T15:54:26.250995Z",
     "end_time": "2023-04-21T15:54:26.282306Z"
    }
   }
  },
  {
   "cell_type": "code",
   "execution_count": 104,
   "outputs": [
    {
     "data": {
      "text/plain": "(50, 4)"
     },
     "execution_count": 104,
     "metadata": {},
     "output_type": "execute_result"
    }
   ],
   "source": [
    "X.shape"
   ],
   "metadata": {
    "collapsed": false,
    "ExecuteTime": {
     "start_time": "2023-04-21T15:54:26.611338Z",
     "end_time": "2023-04-21T15:54:26.642581Z"
    }
   }
  },
  {
   "cell_type": "code",
   "execution_count": 105,
   "outputs": [],
   "source": [
    "# n-차 다항식 회귀\n",
    "n = 3\n",
    "X = np.ones(shape = (len(x), n+1), dtype=np.float32)\n",
    "##X[:, 0] = 1.0\n",
    "##X[:, 1] = x\n",
    "##X[:, 2] = x**2\n",
    "##X[:, 3] = x**3\n",
    "for i in range(1, n+1):\n",
    "     X[:, i] = x**i"
   ],
   "metadata": {
    "collapsed": false,
    "ExecuteTime": {
     "start_time": "2023-04-21T15:54:28.318325Z",
     "end_time": "2023-04-21T15:54:28.349664Z"
    }
   }
  },
  {
   "cell_type": "code",
   "execution_count": 106,
   "outputs": [
    {
     "data": {
      "text/plain": "(50, 4)"
     },
     "execution_count": 106,
     "metadata": {},
     "output_type": "execute_result"
    }
   ],
   "source": [
    "X.shape"
   ],
   "metadata": {
    "collapsed": false,
    "ExecuteTime": {
     "start_time": "2023-04-21T15:54:31.211432Z",
     "end_time": "2023-04-21T15:54:31.258331Z"
    }
   }
  },
  {
   "cell_type": "markdown",
   "source": [
    "### Model 만들기"
   ],
   "metadata": {
    "collapsed": false
   }
  },
  {
   "cell_type": "code",
   "execution_count": 118,
   "outputs": [
    {
     "name": "stdout",
     "output_type": "stream",
     "text": [
      "Model: \"sequential_8\"\n",
      "_________________________________________________________________\n",
      " Layer (type)                Output Shape              Param #   \n",
      "=================================================================\n",
      " dense_10 (Dense)            (None, 1)                 4         \n",
      "                                                                 \n",
      "=================================================================\n",
      "Total params: 4\n",
      "Trainable params: 4\n",
      "Non-trainable params: 0\n",
      "_________________________________________________________________\n"
     ]
    }
   ],
   "source": [
    "model=tf.keras.Sequential(\n",
    "        [tf.keras.layers.Dense(units=1, use_bias=False, input_dim=4)])\n",
    "model.summary()"
   ],
   "metadata": {
    "collapsed": false,
    "ExecuteTime": {
     "start_time": "2023-04-21T15:58:06.371356Z",
     "end_time": "2023-04-21T15:58:06.424301Z"
    }
   }
  },
  {
   "cell_type": "markdown",
   "source": [
    "### 학습 시키기"
   ],
   "metadata": {
    "collapsed": false
   }
  },
  {
   "cell_type": "code",
   "execution_count": 119,
   "outputs": [],
   "source": [
    "opt = tf.keras.optimizers.Adam(learning_rate=0.01)\n",
    "model.compile(optimizer=opt, loss='mse')"
   ],
   "metadata": {
    "collapsed": false,
    "ExecuteTime": {
     "start_time": "2023-04-21T15:58:11.496588Z",
     "end_time": "2023-04-21T15:58:11.527950Z"
    }
   }
  },
  {
   "cell_type": "code",
   "execution_count": 120,
   "outputs": [
    {
     "name": "stdout",
     "output_type": "stream",
     "text": [
      "Epoch 1/500\n",
      "2/2 - 0s - loss: 44110.7852 - 172ms/epoch - 86ms/step\n",
      "Epoch 2/500\n",
      "2/2 - 0s - loss: 43620.0117 - 0s/epoch - 0s/step\n",
      "Epoch 3/500\n",
      "2/2 - 0s - loss: 43211.6914 - 0s/epoch - 0s/step\n",
      "Epoch 4/500\n",
      "2/2 - 0s - loss: 42804.3008 - 16ms/epoch - 8ms/step\n",
      "Epoch 5/500\n",
      "2/2 - 0s - loss: 42350.8008 - 0s/epoch - 0s/step\n",
      "Epoch 6/500\n",
      "2/2 - 0s - loss: 41960.4453 - 0s/epoch - 0s/step\n",
      "Epoch 7/500\n",
      "2/2 - 0s - loss: 41504.2031 - 0s/epoch - 0s/step\n",
      "Epoch 8/500\n",
      "2/2 - 0s - loss: 41099.2188 - 0s/epoch - 0s/step\n",
      "Epoch 9/500\n",
      "2/2 - 0s - loss: 40683.7930 - 16ms/epoch - 8ms/step\n",
      "Epoch 10/500\n",
      "2/2 - 0s - loss: 40269.2461 - 0s/epoch - 0s/step\n",
      "Epoch 11/500\n",
      "2/2 - 0s - loss: 39813.8828 - 0s/epoch - 0s/step\n",
      "Epoch 12/500\n",
      "2/2 - 0s - loss: 39481.3242 - 0s/epoch - 0s/step\n",
      "Epoch 13/500\n",
      "2/2 - 0s - loss: 39025.8203 - 0s/epoch - 0s/step\n",
      "Epoch 14/500\n",
      "2/2 - 0s - loss: 38647.1406 - 16ms/epoch - 8ms/step\n",
      "Epoch 15/500\n",
      "2/2 - 0s - loss: 38267.7383 - 0s/epoch - 0s/step\n",
      "Epoch 16/500\n",
      "2/2 - 0s - loss: 37841.5977 - 0s/epoch - 0s/step\n",
      "Epoch 17/500\n",
      "2/2 - 0s - loss: 37456.4219 - 0s/epoch - 0s/step\n",
      "Epoch 18/500\n",
      "2/2 - 0s - loss: 37094.7305 - 0s/epoch - 0s/step\n",
      "Epoch 19/500\n",
      "2/2 - 0s - loss: 36667.1484 - 16ms/epoch - 8ms/step\n",
      "Epoch 20/500\n",
      "2/2 - 0s - loss: 36309.1602 - 0s/epoch - 0s/step\n",
      "Epoch 21/500\n",
      "2/2 - 0s - loss: 35910.1992 - 0s/epoch - 0s/step\n",
      "Epoch 22/500\n",
      "2/2 - 0s - loss: 35569.4844 - 0s/epoch - 0s/step\n",
      "Epoch 23/500\n",
      "2/2 - 0s - loss: 35178.6016 - 0s/epoch - 0s/step\n",
      "Epoch 24/500\n",
      "2/2 - 0s - loss: 34819.9609 - 0s/epoch - 0s/step\n",
      "Epoch 25/500\n",
      "2/2 - 0s - loss: 34417.1797 - 0s/epoch - 0s/step\n",
      "Epoch 26/500\n",
      "2/2 - 0s - loss: 34059.6484 - 0s/epoch - 0s/step\n",
      "Epoch 27/500\n",
      "2/2 - 0s - loss: 33722.7617 - 0s/epoch - 0s/step\n",
      "Epoch 28/500\n",
      "2/2 - 0s - loss: 33392.0586 - 16ms/epoch - 8ms/step\n",
      "Epoch 29/500\n",
      "2/2 - 0s - loss: 33035.3555 - 0s/epoch - 0s/step\n",
      "Epoch 30/500\n",
      "2/2 - 0s - loss: 32636.4805 - 0s/epoch - 0s/step\n",
      "Epoch 31/500\n",
      "2/2 - 0s - loss: 32302.9004 - 0s/epoch - 0s/step\n",
      "Epoch 32/500\n",
      "2/2 - 0s - loss: 31977.9746 - 0s/epoch - 0s/step\n",
      "Epoch 33/500\n",
      "2/2 - 0s - loss: 31619.6172 - 0s/epoch - 0s/step\n",
      "Epoch 34/500\n",
      "2/2 - 0s - loss: 31285.8828 - 0s/epoch - 0s/step\n",
      "Epoch 35/500\n",
      "2/2 - 0s - loss: 30952.0645 - 0s/epoch - 0s/step\n",
      "Epoch 36/500\n",
      "2/2 - 0s - loss: 30623.0195 - 0s/epoch - 0s/step\n",
      "Epoch 37/500\n",
      "2/2 - 0s - loss: 30258.4551 - 16ms/epoch - 8ms/step\n",
      "Epoch 38/500\n",
      "2/2 - 0s - loss: 29918.5176 - 0s/epoch - 0s/step\n",
      "Epoch 39/500\n",
      "2/2 - 0s - loss: 29611.4766 - 0s/epoch - 0s/step\n",
      "Epoch 40/500\n",
      "2/2 - 0s - loss: 29291.7676 - 0s/epoch - 0s/step\n",
      "Epoch 41/500\n",
      "2/2 - 0s - loss: 28941.6270 - 0s/epoch - 0s/step\n",
      "Epoch 42/500\n",
      "2/2 - 0s - loss: 28624.4902 - 16ms/epoch - 8ms/step\n",
      "Epoch 43/500\n",
      "2/2 - 0s - loss: 28300.2070 - 0s/epoch - 0s/step\n",
      "Epoch 44/500\n",
      "2/2 - 0s - loss: 27989.1758 - 0s/epoch - 0s/step\n",
      "Epoch 45/500\n",
      "2/2 - 0s - loss: 27675.2559 - 0s/epoch - 0s/step\n",
      "Epoch 46/500\n",
      "2/2 - 0s - loss: 27366.4473 - 0s/epoch - 0s/step\n",
      "Epoch 47/500\n",
      "2/2 - 0s - loss: 27094.3652 - 0s/epoch - 0s/step\n",
      "Epoch 48/500\n",
      "2/2 - 0s - loss: 26740.4707 - 0s/epoch - 0s/step\n",
      "Epoch 49/500\n",
      "2/2 - 0s - loss: 26467.2695 - 0s/epoch - 0s/step\n",
      "Epoch 50/500\n",
      "2/2 - 0s - loss: 26151.1152 - 0s/epoch - 0s/step\n",
      "Epoch 51/500\n",
      "2/2 - 0s - loss: 25871.4746 - 0s/epoch - 0s/step\n",
      "Epoch 52/500\n",
      "2/2 - 0s - loss: 25558.5645 - 16ms/epoch - 8ms/step\n",
      "Epoch 53/500\n",
      "2/2 - 0s - loss: 25294.4648 - 0s/epoch - 0s/step\n",
      "Epoch 54/500\n",
      "2/2 - 0s - loss: 24968.6602 - 0s/epoch - 0s/step\n",
      "Epoch 55/500\n",
      "2/2 - 0s - loss: 24717.6152 - 0s/epoch - 0s/step\n",
      "Epoch 56/500\n",
      "2/2 - 0s - loss: 24424.3594 - 0s/epoch - 0s/step\n",
      "Epoch 57/500\n",
      "2/2 - 0s - loss: 24099.4473 - 16ms/epoch - 8ms/step\n",
      "Epoch 58/500\n",
      "2/2 - 0s - loss: 23857.8398 - 0s/epoch - 0s/step\n",
      "Epoch 59/500\n",
      "2/2 - 0s - loss: 23547.6191 - 0s/epoch - 0s/step\n",
      "Epoch 60/500\n",
      "2/2 - 0s - loss: 23302.5273 - 0s/epoch - 0s/step\n",
      "Epoch 61/500\n",
      "2/2 - 0s - loss: 23036.3828 - 0s/epoch - 0s/step\n",
      "Epoch 62/500\n",
      "2/2 - 0s - loss: 22722.0625 - 16ms/epoch - 8ms/step\n",
      "Epoch 63/500\n",
      "2/2 - 0s - loss: 22502.2129 - 0s/epoch - 0s/step\n",
      "Epoch 64/500\n",
      "2/2 - 0s - loss: 22210.3379 - 0s/epoch - 0s/step\n",
      "Epoch 65/500\n",
      "2/2 - 0s - loss: 21967.2852 - 0s/epoch - 0s/step\n",
      "Epoch 66/500\n",
      "2/2 - 0s - loss: 21717.5801 - 16ms/epoch - 8ms/step\n",
      "Epoch 67/500\n",
      "2/2 - 0s - loss: 21446.6953 - 0s/epoch - 0s/step\n",
      "Epoch 68/500\n",
      "2/2 - 0s - loss: 21196.7402 - 0s/epoch - 0s/step\n",
      "Epoch 69/500\n",
      "2/2 - 0s - loss: 20959.1309 - 16ms/epoch - 8ms/step\n",
      "Epoch 70/500\n",
      "2/2 - 0s - loss: 20711.6230 - 0s/epoch - 0s/step\n",
      "Epoch 71/500\n",
      "2/2 - 0s - loss: 20480.3828 - 0s/epoch - 0s/step\n",
      "Epoch 72/500\n",
      "2/2 - 0s - loss: 20234.2441 - 0s/epoch - 0s/step\n",
      "Epoch 73/500\n",
      "2/2 - 0s - loss: 19995.7891 - 0s/epoch - 0s/step\n",
      "Epoch 74/500\n",
      "2/2 - 0s - loss: 19772.4453 - 0s/epoch - 0s/step\n",
      "Epoch 75/500\n",
      "2/2 - 0s - loss: 19547.6797 - 0s/epoch - 0s/step\n",
      "Epoch 76/500\n",
      "2/2 - 0s - loss: 19297.7246 - 0s/epoch - 0s/step\n",
      "Epoch 77/500\n",
      "2/2 - 0s - loss: 19096.1230 - 16ms/epoch - 8ms/step\n",
      "Epoch 78/500\n",
      "2/2 - 0s - loss: 18860.6133 - 0s/epoch - 0s/step\n",
      "Epoch 79/500\n",
      "2/2 - 0s - loss: 18641.5176 - 0s/epoch - 0s/step\n",
      "Epoch 80/500\n",
      "2/2 - 0s - loss: 18440.9844 - 16ms/epoch - 8ms/step\n",
      "Epoch 81/500\n",
      "2/2 - 0s - loss: 18213.8281 - 0s/epoch - 0s/step\n",
      "Epoch 82/500\n",
      "2/2 - 0s - loss: 18005.6445 - 11ms/epoch - 6ms/step\n",
      "Epoch 83/500\n",
      "2/2 - 0s - loss: 17811.3984 - 0s/epoch - 0s/step\n",
      "Epoch 84/500\n",
      "2/2 - 0s - loss: 17586.1426 - 0s/epoch - 0s/step\n",
      "Epoch 85/500\n",
      "2/2 - 0s - loss: 17383.6758 - 0s/epoch - 0s/step\n",
      "Epoch 86/500\n",
      "2/2 - 0s - loss: 17191.0703 - 0s/epoch - 0s/step\n",
      "Epoch 87/500\n",
      "2/2 - 0s - loss: 16975.2617 - 0s/epoch - 0s/step\n",
      "Epoch 88/500\n",
      "2/2 - 0s - loss: 16787.5352 - 0s/epoch - 0s/step\n",
      "Epoch 89/500\n",
      "2/2 - 0s - loss: 16584.5918 - 0s/epoch - 0s/step\n",
      "Epoch 90/500\n",
      "2/2 - 0s - loss: 16381.3701 - 16ms/epoch - 8ms/step\n",
      "Epoch 91/500\n",
      "2/2 - 0s - loss: 16204.3926 - 0s/epoch - 0s/step\n",
      "Epoch 92/500\n",
      "2/2 - 0s - loss: 15983.1602 - 0s/epoch - 0s/step\n",
      "Epoch 93/500\n",
      "2/2 - 0s - loss: 15790.9258 - 0s/epoch - 0s/step\n",
      "Epoch 94/500\n",
      "2/2 - 0s - loss: 15620.2139 - 0s/epoch - 0s/step\n",
      "Epoch 95/500\n",
      "2/2 - 0s - loss: 15425.8945 - 0s/epoch - 0s/step\n",
      "Epoch 96/500\n",
      "2/2 - 0s - loss: 15236.9883 - 0s/epoch - 0s/step\n",
      "Epoch 97/500\n",
      "2/2 - 0s - loss: 15046.0361 - 0s/epoch - 0s/step\n",
      "Epoch 98/500\n",
      "2/2 - 0s - loss: 14849.6572 - 0s/epoch - 0s/step\n",
      "Epoch 99/500\n",
      "2/2 - 0s - loss: 14651.6602 - 16ms/epoch - 8ms/step\n",
      "Epoch 100/500\n",
      "2/2 - 0s - loss: 14497.8926 - 0s/epoch - 0s/step\n",
      "Epoch 101/500\n",
      "2/2 - 0s - loss: 14302.2197 - 0s/epoch - 0s/step\n",
      "Epoch 102/500\n",
      "2/2 - 0s - loss: 14143.9727 - 0s/epoch - 0s/step\n",
      "Epoch 103/500\n",
      "2/2 - 0s - loss: 13945.6475 - 0s/epoch - 0s/step\n",
      "Epoch 104/500\n",
      "2/2 - 0s - loss: 13765.1211 - 0s/epoch - 0s/step\n",
      "Epoch 105/500\n",
      "2/2 - 0s - loss: 13590.9326 - 0s/epoch - 0s/step\n",
      "Epoch 106/500\n",
      "2/2 - 0s - loss: 13412.2324 - 0s/epoch - 0s/step\n",
      "Epoch 107/500\n",
      "2/2 - 0s - loss: 13260.1152 - 0s/epoch - 0s/step\n",
      "Epoch 108/500\n",
      "2/2 - 0s - loss: 13087.4209 - 0s/epoch - 0s/step\n",
      "Epoch 109/500\n",
      "2/2 - 0s - loss: 12891.3496 - 0s/epoch - 0s/step\n",
      "Epoch 110/500\n",
      "2/2 - 0s - loss: 12754.6035 - 0s/epoch - 0s/step\n",
      "Epoch 111/500\n",
      "2/2 - 0s - loss: 12570.4199 - 0s/epoch - 0s/step\n",
      "Epoch 112/500\n",
      "2/2 - 0s - loss: 12413.9326 - 16ms/epoch - 8ms/step\n",
      "Epoch 113/500\n",
      "2/2 - 0s - loss: 12244.0996 - 0s/epoch - 0s/step\n",
      "Epoch 114/500\n",
      "2/2 - 0s - loss: 12093.2070 - 0s/epoch - 0s/step\n",
      "Epoch 115/500\n",
      "2/2 - 0s - loss: 11932.1533 - 0s/epoch - 0s/step\n",
      "Epoch 116/500\n",
      "2/2 - 0s - loss: 11785.3154 - 0s/epoch - 0s/step\n",
      "Epoch 117/500\n",
      "2/2 - 0s - loss: 11616.2227 - 0s/epoch - 0s/step\n",
      "Epoch 118/500\n",
      "2/2 - 0s - loss: 11457.0273 - 0s/epoch - 0s/step\n",
      "Epoch 119/500\n",
      "2/2 - 0s - loss: 11320.3154 - 0s/epoch - 0s/step\n",
      "Epoch 120/500\n",
      "2/2 - 0s - loss: 11171.1260 - 0s/epoch - 0s/step\n",
      "Epoch 121/500\n",
      "2/2 - 0s - loss: 11029.5000 - 16ms/epoch - 8ms/step\n",
      "Epoch 122/500\n",
      "2/2 - 0s - loss: 10857.6475 - 0s/epoch - 0s/step\n",
      "Epoch 123/500\n",
      "2/2 - 0s - loss: 10736.3838 - 0s/epoch - 0s/step\n",
      "Epoch 124/500\n",
      "2/2 - 0s - loss: 10597.7383 - 0s/epoch - 0s/step\n",
      "Epoch 125/500\n",
      "2/2 - 0s - loss: 10457.9805 - 16ms/epoch - 8ms/step\n",
      "Epoch 126/500\n",
      "2/2 - 0s - loss: 10308.0879 - 0s/epoch - 0s/step\n",
      "Epoch 127/500\n",
      "2/2 - 0s - loss: 10176.3311 - 0s/epoch - 0s/step\n",
      "Epoch 128/500\n",
      "2/2 - 0s - loss: 10039.0078 - 0s/epoch - 0s/step\n",
      "Epoch 129/500\n",
      "2/2 - 0s - loss: 9904.8760 - 0s/epoch - 0s/step\n",
      "Epoch 130/500\n",
      "2/2 - 0s - loss: 9773.8164 - 16ms/epoch - 8ms/step\n",
      "Epoch 131/500\n",
      "2/2 - 0s - loss: 9650.8154 - 0s/epoch - 0s/step\n",
      "Epoch 132/500\n",
      "2/2 - 0s - loss: 9504.7188 - 0s/epoch - 0s/step\n",
      "Epoch 133/500\n",
      "2/2 - 0s - loss: 9386.0596 - 0s/epoch - 0s/step\n",
      "Epoch 134/500\n",
      "2/2 - 0s - loss: 9266.4766 - 16ms/epoch - 8ms/step\n",
      "Epoch 135/500\n",
      "2/2 - 0s - loss: 9133.5537 - 0s/epoch - 0s/step\n",
      "Epoch 136/500\n",
      "2/2 - 0s - loss: 9003.0830 - 0s/epoch - 0s/step\n",
      "Epoch 137/500\n",
      "2/2 - 0s - loss: 8880.1328 - 0s/epoch - 0s/step\n",
      "Epoch 138/500\n",
      "2/2 - 0s - loss: 8763.9316 - 0s/epoch - 0s/step\n",
      "Epoch 139/500\n",
      "2/2 - 0s - loss: 8654.5498 - 16ms/epoch - 8ms/step\n",
      "Epoch 140/500\n",
      "2/2 - 0s - loss: 8531.8379 - 0s/epoch - 0s/step\n",
      "Epoch 141/500\n",
      "2/2 - 0s - loss: 8402.9805 - 0s/epoch - 0s/step\n",
      "Epoch 142/500\n",
      "2/2 - 0s - loss: 8293.3359 - 0s/epoch - 0s/step\n",
      "Epoch 143/500\n",
      "2/2 - 0s - loss: 8179.1748 - 16ms/epoch - 8ms/step\n",
      "Epoch 144/500\n",
      "2/2 - 0s - loss: 8070.3496 - 0s/epoch - 0s/step\n",
      "Epoch 145/500\n",
      "2/2 - 0s - loss: 7971.6436 - 0s/epoch - 0s/step\n",
      "Epoch 146/500\n",
      "2/2 - 0s - loss: 7855.3525 - 0s/epoch - 0s/step\n",
      "Epoch 147/500\n",
      "2/2 - 0s - loss: 7742.2920 - 0s/epoch - 0s/step\n",
      "Epoch 148/500\n",
      "2/2 - 0s - loss: 7639.7588 - 0s/epoch - 0s/step\n",
      "Epoch 149/500\n",
      "2/2 - 0s - loss: 7537.4800 - 0s/epoch - 0s/step\n",
      "Epoch 150/500\n",
      "2/2 - 0s - loss: 7434.6636 - 0s/epoch - 0s/step\n",
      "Epoch 151/500\n",
      "2/2 - 0s - loss: 7336.8101 - 16ms/epoch - 8ms/step\n",
      "Epoch 152/500\n",
      "2/2 - 0s - loss: 7235.0688 - 0s/epoch - 0s/step\n",
      "Epoch 153/500\n",
      "2/2 - 0s - loss: 7143.3589 - 0s/epoch - 0s/step\n",
      "Epoch 154/500\n",
      "2/2 - 0s - loss: 7037.6748 - 0s/epoch - 0s/step\n",
      "Epoch 155/500\n",
      "2/2 - 0s - loss: 6949.8750 - 0s/epoch - 0s/step\n",
      "Epoch 156/500\n",
      "2/2 - 0s - loss: 6850.3989 - 16ms/epoch - 8ms/step\n",
      "Epoch 157/500\n",
      "2/2 - 0s - loss: 6753.4121 - 0s/epoch - 0s/step\n",
      "Epoch 158/500\n",
      "2/2 - 0s - loss: 6665.8311 - 0s/epoch - 0s/step\n",
      "Epoch 159/500\n",
      "2/2 - 0s - loss: 6572.5312 - 0s/epoch - 0s/step\n",
      "Epoch 160/500\n",
      "2/2 - 0s - loss: 6471.0205 - 0s/epoch - 0s/step\n",
      "Epoch 161/500\n",
      "2/2 - 0s - loss: 6392.4287 - 0s/epoch - 0s/step\n",
      "Epoch 162/500\n",
      "2/2 - 0s - loss: 6291.2476 - 0s/epoch - 0s/step\n",
      "Epoch 163/500\n",
      "2/2 - 0s - loss: 6211.8838 - 0s/epoch - 0s/step\n",
      "Epoch 164/500\n",
      "2/2 - 0s - loss: 6119.0093 - 0s/epoch - 0s/step\n",
      "Epoch 165/500\n",
      "2/2 - 0s - loss: 6034.5229 - 0s/epoch - 0s/step\n",
      "Epoch 166/500\n",
      "2/2 - 0s - loss: 5936.5024 - 0s/epoch - 0s/step\n",
      "Epoch 167/500\n",
      "2/2 - 0s - loss: 5864.7227 - 0s/epoch - 0s/step\n",
      "Epoch 168/500\n",
      "2/2 - 0s - loss: 5774.0312 - 0s/epoch - 0s/step\n",
      "Epoch 169/500\n",
      "2/2 - 0s - loss: 5694.5527 - 16ms/epoch - 8ms/step\n",
      "Epoch 170/500\n",
      "2/2 - 0s - loss: 5623.1602 - 0s/epoch - 0s/step\n",
      "Epoch 171/500\n",
      "2/2 - 0s - loss: 5538.5630 - 0s/epoch - 0s/step\n",
      "Epoch 172/500\n",
      "2/2 - 0s - loss: 5457.9233 - 0s/epoch - 0s/step\n",
      "Epoch 173/500\n",
      "2/2 - 0s - loss: 5375.5498 - 16ms/epoch - 8ms/step\n",
      "Epoch 174/500\n",
      "2/2 - 0s - loss: 5315.0327 - 0s/epoch - 0s/step\n",
      "Epoch 175/500\n",
      "2/2 - 0s - loss: 5233.9551 - 0s/epoch - 0s/step\n",
      "Epoch 176/500\n",
      "2/2 - 0s - loss: 5161.2822 - 0s/epoch - 0s/step\n",
      "Epoch 177/500\n",
      "2/2 - 0s - loss: 5092.9609 - 16ms/epoch - 8ms/step\n",
      "Epoch 178/500\n",
      "2/2 - 0s - loss: 5024.5649 - 0s/epoch - 0s/step\n",
      "Epoch 179/500\n",
      "2/2 - 0s - loss: 4950.7549 - 0s/epoch - 0s/step\n",
      "Epoch 180/500\n",
      "2/2 - 0s - loss: 4885.1230 - 0s/epoch - 0s/step\n",
      "Epoch 181/500\n",
      "2/2 - 0s - loss: 4820.5063 - 0s/epoch - 0s/step\n",
      "Epoch 182/500\n",
      "2/2 - 0s - loss: 4750.4648 - 16ms/epoch - 8ms/step\n",
      "Epoch 183/500\n",
      "2/2 - 0s - loss: 4686.6665 - 0s/epoch - 0s/step\n",
      "Epoch 184/500\n",
      "2/2 - 0s - loss: 4621.4448 - 0s/epoch - 0s/step\n",
      "Epoch 185/500\n",
      "2/2 - 0s - loss: 4561.4922 - 0s/epoch - 0s/step\n",
      "Epoch 186/500\n",
      "2/2 - 0s - loss: 4493.7417 - 0s/epoch - 0s/step\n",
      "Epoch 187/500\n",
      "2/2 - 0s - loss: 4431.7671 - 0s/epoch - 0s/step\n",
      "Epoch 188/500\n",
      "2/2 - 0s - loss: 4369.9224 - 0s/epoch - 0s/step\n",
      "Epoch 189/500\n",
      "2/2 - 0s - loss: 4314.9951 - 0s/epoch - 0s/step\n",
      "Epoch 190/500\n",
      "2/2 - 0s - loss: 4251.1758 - 0s/epoch - 0s/step\n",
      "Epoch 191/500\n",
      "2/2 - 0s - loss: 4185.9639 - 16ms/epoch - 8ms/step\n",
      "Epoch 192/500\n",
      "2/2 - 0s - loss: 4136.5923 - 0s/epoch - 0s/step\n",
      "Epoch 193/500\n",
      "2/2 - 0s - loss: 4079.9312 - 0s/epoch - 0s/step\n",
      "Epoch 194/500\n",
      "2/2 - 0s - loss: 4018.6716 - 0s/epoch - 0s/step\n",
      "Epoch 195/500\n",
      "2/2 - 0s - loss: 3967.4744 - 16ms/epoch - 8ms/step\n",
      "Epoch 196/500\n",
      "2/2 - 0s - loss: 3909.4978 - 0s/epoch - 0s/step\n",
      "Epoch 197/500\n",
      "2/2 - 0s - loss: 3852.3418 - 0s/epoch - 0s/step\n",
      "Epoch 198/500\n",
      "2/2 - 0s - loss: 3807.5789 - 0s/epoch - 0s/step\n",
      "Epoch 199/500\n",
      "2/2 - 0s - loss: 3748.4712 - 0s/epoch - 0s/step\n",
      "Epoch 200/500\n",
      "2/2 - 0s - loss: 3703.6963 - 0s/epoch - 0s/step\n",
      "Epoch 201/500\n",
      "2/2 - 0s - loss: 3647.9419 - 0s/epoch - 0s/step\n",
      "Epoch 202/500\n",
      "2/2 - 0s - loss: 3597.8213 - 0s/epoch - 0s/step\n",
      "Epoch 203/500\n",
      "2/2 - 0s - loss: 3546.3491 - 0s/epoch - 0s/step\n",
      "Epoch 204/500\n",
      "2/2 - 0s - loss: 3495.5088 - 0s/epoch - 0s/step\n",
      "Epoch 205/500\n",
      "2/2 - 0s - loss: 3456.1689 - 0s/epoch - 0s/step\n",
      "Epoch 206/500\n",
      "2/2 - 0s - loss: 3405.2920 - 0s/epoch - 0s/step\n",
      "Epoch 207/500\n",
      "2/2 - 0s - loss: 3356.6328 - 0s/epoch - 0s/step\n",
      "Epoch 208/500\n",
      "2/2 - 0s - loss: 3308.6057 - 0s/epoch - 0s/step\n",
      "Epoch 209/500\n",
      "2/2 - 0s - loss: 3267.2849 - 0s/epoch - 0s/step\n",
      "Epoch 210/500\n",
      "2/2 - 0s - loss: 3221.1682 - 0s/epoch - 0s/step\n",
      "Epoch 211/500\n",
      "2/2 - 0s - loss: 3175.7480 - 0s/epoch - 0s/step\n",
      "Epoch 212/500\n",
      "2/2 - 0s - loss: 3132.7769 - 0s/epoch - 0s/step\n",
      "Epoch 213/500\n",
      "2/2 - 0s - loss: 3094.0745 - 0s/epoch - 0s/step\n",
      "Epoch 214/500\n",
      "2/2 - 0s - loss: 3051.8149 - 0s/epoch - 0s/step\n",
      "Epoch 215/500\n",
      "2/2 - 0s - loss: 3006.5176 - 16ms/epoch - 8ms/step\n",
      "Epoch 216/500\n",
      "2/2 - 0s - loss: 2970.4658 - 0s/epoch - 0s/step\n",
      "Epoch 217/500\n",
      "2/2 - 0s - loss: 2927.7979 - 0s/epoch - 0s/step\n",
      "Epoch 218/500\n",
      "2/2 - 0s - loss: 2886.7988 - 0s/epoch - 0s/step\n",
      "Epoch 219/500\n",
      "2/2 - 0s - loss: 2850.1587 - 0s/epoch - 0s/step\n",
      "Epoch 220/500\n",
      "2/2 - 0s - loss: 2812.8950 - 0s/epoch - 0s/step\n",
      "Epoch 221/500\n",
      "2/2 - 0s - loss: 2769.2124 - 0s/epoch - 0s/step\n",
      "Epoch 222/500\n",
      "2/2 - 0s - loss: 2735.8269 - 0s/epoch - 0s/step\n",
      "Epoch 223/500\n",
      "2/2 - 0s - loss: 2698.1143 - 0s/epoch - 0s/step\n",
      "Epoch 224/500\n",
      "2/2 - 0s - loss: 2662.0879 - 16ms/epoch - 8ms/step\n",
      "Epoch 225/500\n",
      "2/2 - 0s - loss: 2625.6299 - 0s/epoch - 0s/step\n",
      "Epoch 226/500\n",
      "2/2 - 0s - loss: 2589.3088 - 0s/epoch - 0s/step\n",
      "Epoch 227/500\n",
      "2/2 - 0s - loss: 2552.4451 - 0s/epoch - 0s/step\n",
      "Epoch 228/500\n",
      "2/2 - 0s - loss: 2520.8389 - 16ms/epoch - 8ms/step\n",
      "Epoch 229/500\n",
      "2/2 - 0s - loss: 2488.4211 - 0s/epoch - 0s/step\n",
      "Epoch 230/500\n",
      "2/2 - 0s - loss: 2453.2900 - 0s/epoch - 0s/step\n",
      "Epoch 231/500\n",
      "2/2 - 0s - loss: 2419.6873 - 0s/epoch - 0s/step\n",
      "Epoch 232/500\n",
      "2/2 - 0s - loss: 2387.1985 - 0s/epoch - 0s/step\n",
      "Epoch 233/500\n",
      "2/2 - 0s - loss: 2355.8496 - 0s/epoch - 0s/step\n",
      "Epoch 234/500\n",
      "2/2 - 0s - loss: 2325.5032 - 0s/epoch - 0s/step\n",
      "Epoch 235/500\n",
      "2/2 - 0s - loss: 2295.8870 - 0s/epoch - 0s/step\n",
      "Epoch 236/500\n",
      "2/2 - 0s - loss: 2264.1768 - 0s/epoch - 0s/step\n",
      "Epoch 237/500\n",
      "2/2 - 0s - loss: 2233.6428 - 16ms/epoch - 8ms/step\n",
      "Epoch 238/500\n",
      "2/2 - 0s - loss: 2205.0225 - 0s/epoch - 0s/step\n",
      "Epoch 239/500\n",
      "2/2 - 0s - loss: 2175.6492 - 0s/epoch - 0s/step\n",
      "Epoch 240/500\n",
      "2/2 - 0s - loss: 2149.1138 - 0s/epoch - 0s/step\n",
      "Epoch 241/500\n",
      "2/2 - 0s - loss: 2119.2720 - 0s/epoch - 0s/step\n",
      "Epoch 242/500\n",
      "2/2 - 0s - loss: 2093.4177 - 0s/epoch - 0s/step\n",
      "Epoch 243/500\n",
      "2/2 - 0s - loss: 2063.7769 - 0s/epoch - 0s/step\n",
      "Epoch 244/500\n",
      "2/2 - 0s - loss: 2036.9866 - 0s/epoch - 0s/step\n",
      "Epoch 245/500\n",
      "2/2 - 0s - loss: 2013.9672 - 0s/epoch - 0s/step\n",
      "Epoch 246/500\n",
      "2/2 - 0s - loss: 1984.4525 - 0s/epoch - 0s/step\n",
      "Epoch 247/500\n",
      "2/2 - 0s - loss: 1959.6168 - 0s/epoch - 0s/step\n",
      "Epoch 248/500\n",
      "2/2 - 0s - loss: 1935.7568 - 0s/epoch - 0s/step\n",
      "Epoch 249/500\n",
      "2/2 - 0s - loss: 1912.7288 - 0s/epoch - 0s/step\n",
      "Epoch 250/500\n",
      "2/2 - 0s - loss: 1886.4795 - 0s/epoch - 0s/step\n",
      "Epoch 251/500\n",
      "2/2 - 0s - loss: 1862.2902 - 16ms/epoch - 8ms/step\n",
      "Epoch 252/500\n",
      "2/2 - 0s - loss: 1838.6891 - 0s/epoch - 0s/step\n",
      "Epoch 253/500\n",
      "2/2 - 0s - loss: 1817.4940 - 0s/epoch - 0s/step\n",
      "Epoch 254/500\n",
      "2/2 - 0s - loss: 1796.1072 - 0s/epoch - 0s/step\n",
      "Epoch 255/500\n",
      "2/2 - 0s - loss: 1772.1486 - 0s/epoch - 0s/step\n",
      "Epoch 256/500\n",
      "2/2 - 0s - loss: 1750.2651 - 16ms/epoch - 8ms/step\n",
      "Epoch 257/500\n",
      "2/2 - 0s - loss: 1730.2582 - 0s/epoch - 0s/step\n",
      "Epoch 258/500\n",
      "2/2 - 0s - loss: 1709.8141 - 0s/epoch - 0s/step\n",
      "Epoch 259/500\n",
      "2/2 - 0s - loss: 1688.8165 - 0s/epoch - 0s/step\n",
      "Epoch 260/500\n",
      "2/2 - 0s - loss: 1668.3712 - 0s/epoch - 0s/step\n",
      "Epoch 261/500\n",
      "2/2 - 0s - loss: 1648.6328 - 16ms/epoch - 8ms/step\n",
      "Epoch 262/500\n",
      "2/2 - 0s - loss: 1629.4250 - 0s/epoch - 0s/step\n",
      "Epoch 263/500\n",
      "2/2 - 0s - loss: 1610.3506 - 0s/epoch - 0s/step\n",
      "Epoch 264/500\n",
      "2/2 - 0s - loss: 1590.4420 - 0s/epoch - 0s/step\n",
      "Epoch 265/500\n",
      "2/2 - 0s - loss: 1573.2053 - 0s/epoch - 0s/step\n",
      "Epoch 266/500\n",
      "2/2 - 0s - loss: 1555.7683 - 16ms/epoch - 8ms/step\n",
      "Epoch 267/500\n",
      "2/2 - 0s - loss: 1535.9927 - 0s/epoch - 0s/step\n",
      "Epoch 268/500\n",
      "2/2 - 0s - loss: 1520.1077 - 0s/epoch - 0s/step\n",
      "Epoch 269/500\n",
      "2/2 - 0s - loss: 1501.1528 - 0s/epoch - 0s/step\n",
      "Epoch 270/500\n",
      "2/2 - 0s - loss: 1485.6722 - 0s/epoch - 0s/step\n",
      "Epoch 271/500\n",
      "2/2 - 0s - loss: 1468.2750 - 16ms/epoch - 8ms/step\n",
      "Epoch 272/500\n",
      "2/2 - 0s - loss: 1452.0947 - 0s/epoch - 0s/step\n",
      "Epoch 273/500\n",
      "2/2 - 0s - loss: 1435.8562 - 0s/epoch - 0s/step\n",
      "Epoch 274/500\n",
      "2/2 - 0s - loss: 1420.8093 - 0s/epoch - 0s/step\n",
      "Epoch 275/500\n",
      "2/2 - 0s - loss: 1404.5403 - 16ms/epoch - 8ms/step\n",
      "Epoch 276/500\n",
      "2/2 - 0s - loss: 1390.3114 - 0s/epoch - 0s/step\n",
      "Epoch 277/500\n",
      "2/2 - 0s - loss: 1374.4229 - 0s/epoch - 0s/step\n",
      "Epoch 278/500\n",
      "2/2 - 0s - loss: 1359.4409 - 0s/epoch - 0s/step\n",
      "Epoch 279/500\n",
      "2/2 - 0s - loss: 1345.0839 - 0s/epoch - 0s/step\n",
      "Epoch 280/500\n",
      "2/2 - 0s - loss: 1330.2360 - 16ms/epoch - 8ms/step\n",
      "Epoch 281/500\n",
      "2/2 - 0s - loss: 1317.8778 - 0s/epoch - 0s/step\n",
      "Epoch 282/500\n",
      "2/2 - 0s - loss: 1303.5325 - 0s/epoch - 0s/step\n",
      "Epoch 283/500\n",
      "2/2 - 0s - loss: 1289.8699 - 0s/epoch - 0s/step\n",
      "Epoch 284/500\n",
      "2/2 - 0s - loss: 1277.2744 - 0s/epoch - 0s/step\n",
      "Epoch 285/500\n",
      "2/2 - 0s - loss: 1265.3521 - 16ms/epoch - 8ms/step\n",
      "Epoch 286/500\n",
      "2/2 - 0s - loss: 1250.7515 - 0s/epoch - 0s/step\n",
      "Epoch 287/500\n",
      "2/2 - 0s - loss: 1239.3604 - 0s/epoch - 0s/step\n",
      "Epoch 288/500\n",
      "2/2 - 0s - loss: 1226.5934 - 0s/epoch - 0s/step\n",
      "Epoch 289/500\n",
      "2/2 - 0s - loss: 1215.1652 - 16ms/epoch - 8ms/step\n",
      "Epoch 290/500\n",
      "2/2 - 0s - loss: 1204.1208 - 0s/epoch - 0s/step\n",
      "Epoch 291/500\n",
      "2/2 - 0s - loss: 1191.7987 - 0s/epoch - 0s/step\n",
      "Epoch 292/500\n",
      "2/2 - 0s - loss: 1181.3326 - 0s/epoch - 0s/step\n",
      "Epoch 293/500\n",
      "2/2 - 0s - loss: 1170.7900 - 0s/epoch - 0s/step\n",
      "Epoch 294/500\n",
      "2/2 - 0s - loss: 1158.7273 - 16ms/epoch - 8ms/step\n",
      "Epoch 295/500\n",
      "2/2 - 0s - loss: 1149.0503 - 0s/epoch - 0s/step\n",
      "Epoch 296/500\n",
      "2/2 - 0s - loss: 1138.5027 - 0s/epoch - 0s/step\n",
      "Epoch 297/500\n",
      "2/2 - 0s - loss: 1128.6116 - 0s/epoch - 0s/step\n",
      "Epoch 298/500\n",
      "2/2 - 0s - loss: 1117.4708 - 0s/epoch - 0s/step\n",
      "Epoch 299/500\n",
      "2/2 - 0s - loss: 1108.5319 - 16ms/epoch - 8ms/step\n",
      "Epoch 300/500\n",
      "2/2 - 0s - loss: 1098.7560 - 0s/epoch - 0s/step\n",
      "Epoch 301/500\n",
      "2/2 - 0s - loss: 1088.1318 - 0s/epoch - 0s/step\n",
      "Epoch 302/500\n",
      "2/2 - 0s - loss: 1079.7544 - 16ms/epoch - 8ms/step\n",
      "Epoch 303/500\n",
      "2/2 - 0s - loss: 1070.0151 - 0s/epoch - 0s/step\n",
      "Epoch 304/500\n",
      "2/2 - 0s - loss: 1060.9386 - 0s/epoch - 0s/step\n",
      "Epoch 305/500\n",
      "2/2 - 0s - loss: 1051.3827 - 0s/epoch - 0s/step\n",
      "Epoch 306/500\n",
      "2/2 - 0s - loss: 1043.1893 - 0s/epoch - 0s/step\n",
      "Epoch 307/500\n",
      "2/2 - 0s - loss: 1034.2440 - 0s/epoch - 0s/step\n",
      "Epoch 308/500\n",
      "2/2 - 0s - loss: 1025.3953 - 0s/epoch - 0s/step\n",
      "Epoch 309/500\n",
      "2/2 - 0s - loss: 1017.2648 - 0s/epoch - 0s/step\n",
      "Epoch 310/500\n",
      "2/2 - 0s - loss: 1008.5496 - 0s/epoch - 0s/step\n",
      "Epoch 311/500\n",
      "2/2 - 0s - loss: 1001.1542 - 16ms/epoch - 8ms/step\n",
      "Epoch 312/500\n",
      "2/2 - 0s - loss: 993.3820 - 0s/epoch - 0s/step\n",
      "Epoch 313/500\n",
      "2/2 - 0s - loss: 985.6415 - 0s/epoch - 0s/step\n",
      "Epoch 314/500\n",
      "2/2 - 0s - loss: 978.5767 - 0s/epoch - 0s/step\n",
      "Epoch 315/500\n",
      "2/2 - 0s - loss: 971.0369 - 0s/epoch - 0s/step\n",
      "Epoch 316/500\n",
      "2/2 - 0s - loss: 963.4986 - 16ms/epoch - 8ms/step\n",
      "Epoch 317/500\n",
      "2/2 - 0s - loss: 957.0517 - 0s/epoch - 0s/step\n",
      "Epoch 318/500\n",
      "2/2 - 0s - loss: 950.5513 - 0s/epoch - 0s/step\n",
      "Epoch 319/500\n",
      "2/2 - 0s - loss: 943.8782 - 0s/epoch - 0s/step\n",
      "Epoch 320/500\n",
      "2/2 - 0s - loss: 936.7740 - 0s/epoch - 0s/step\n",
      "Epoch 321/500\n",
      "2/2 - 0s - loss: 930.5017 - 16ms/epoch - 8ms/step\n",
      "Epoch 322/500\n",
      "2/2 - 0s - loss: 925.0908 - 0s/epoch - 0s/step\n",
      "Epoch 323/500\n",
      "2/2 - 0s - loss: 917.7502 - 0s/epoch - 0s/step\n",
      "Epoch 324/500\n",
      "2/2 - 0s - loss: 911.5444 - 0s/epoch - 0s/step\n",
      "Epoch 325/500\n",
      "2/2 - 0s - loss: 906.2516 - 0s/epoch - 0s/step\n",
      "Epoch 326/500\n",
      "2/2 - 0s - loss: 900.3862 - 0s/epoch - 0s/step\n",
      "Epoch 327/500\n",
      "2/2 - 0s - loss: 893.9736 - 0s/epoch - 0s/step\n",
      "Epoch 328/500\n",
      "2/2 - 0s - loss: 888.7835 - 0s/epoch - 0s/step\n",
      "Epoch 329/500\n",
      "2/2 - 0s - loss: 883.6944 - 0s/epoch - 0s/step\n",
      "Epoch 330/500\n",
      "2/2 - 0s - loss: 877.5087 - 0s/epoch - 0s/step\n",
      "Epoch 331/500\n",
      "2/2 - 0s - loss: 871.8233 - 0s/epoch - 0s/step\n",
      "Epoch 332/500\n",
      "2/2 - 0s - loss: 867.0355 - 0s/epoch - 0s/step\n",
      "Epoch 333/500\n",
      "2/2 - 0s - loss: 861.8560 - 0s/epoch - 0s/step\n",
      "Epoch 334/500\n",
      "2/2 - 0s - loss: 857.0811 - 0s/epoch - 0s/step\n",
      "Epoch 335/500\n",
      "2/2 - 0s - loss: 851.8597 - 16ms/epoch - 8ms/step\n",
      "Epoch 336/500\n",
      "2/2 - 0s - loss: 847.5053 - 0s/epoch - 0s/step\n",
      "Epoch 337/500\n",
      "2/2 - 0s - loss: 841.6351 - 0s/epoch - 0s/step\n",
      "Epoch 338/500\n",
      "2/2 - 0s - loss: 837.6866 - 0s/epoch - 0s/step\n",
      "Epoch 339/500\n",
      "2/2 - 0s - loss: 833.0038 - 0s/epoch - 0s/step\n",
      "Epoch 340/500\n",
      "2/2 - 0s - loss: 828.5972 - 16ms/epoch - 8ms/step\n",
      "Epoch 341/500\n",
      "2/2 - 0s - loss: 823.5694 - 0s/epoch - 0s/step\n",
      "Epoch 342/500\n",
      "2/2 - 0s - loss: 820.0236 - 0s/epoch - 0s/step\n",
      "Epoch 343/500\n",
      "2/2 - 0s - loss: 815.3835 - 0s/epoch - 0s/step\n",
      "Epoch 344/500\n",
      "2/2 - 0s - loss: 811.7074 - 0s/epoch - 0s/step\n",
      "Epoch 345/500\n",
      "2/2 - 0s - loss: 807.3990 - 16ms/epoch - 8ms/step\n",
      "Epoch 346/500\n",
      "2/2 - 0s - loss: 803.4622 - 0s/epoch - 0s/step\n",
      "Epoch 347/500\n",
      "2/2 - 0s - loss: 799.5592 - 0s/epoch - 0s/step\n",
      "Epoch 348/500\n",
      "2/2 - 0s - loss: 796.4432 - 0s/epoch - 0s/step\n",
      "Epoch 349/500\n",
      "2/2 - 0s - loss: 792.7586 - 16ms/epoch - 8ms/step\n",
      "Epoch 350/500\n",
      "2/2 - 0s - loss: 788.9222 - 0s/epoch - 0s/step\n",
      "Epoch 351/500\n",
      "2/2 - 0s - loss: 785.7394 - 0s/epoch - 0s/step\n",
      "Epoch 352/500\n",
      "2/2 - 0s - loss: 782.1844 - 0s/epoch - 0s/step\n",
      "Epoch 353/500\n",
      "2/2 - 0s - loss: 778.8770 - 0s/epoch - 0s/step\n",
      "Epoch 354/500\n",
      "2/2 - 0s - loss: 775.6772 - 0s/epoch - 0s/step\n",
      "Epoch 355/500\n",
      "2/2 - 0s - loss: 772.4919 - 0s/epoch - 0s/step\n",
      "Epoch 356/500\n",
      "2/2 - 0s - loss: 769.7645 - 0s/epoch - 0s/step\n",
      "Epoch 357/500\n",
      "2/2 - 0s - loss: 766.5125 - 0s/epoch - 0s/step\n",
      "Epoch 358/500\n",
      "2/2 - 0s - loss: 763.4677 - 0s/epoch - 0s/step\n",
      "Epoch 359/500\n",
      "2/2 - 0s - loss: 760.6476 - 16ms/epoch - 8ms/step\n",
      "Epoch 360/500\n",
      "2/2 - 0s - loss: 757.9508 - 0s/epoch - 0s/step\n",
      "Epoch 361/500\n",
      "2/2 - 0s - loss: 754.9294 - 0s/epoch - 0s/step\n",
      "Epoch 362/500\n",
      "2/2 - 0s - loss: 752.2862 - 0s/epoch - 0s/step\n",
      "Epoch 363/500\n",
      "2/2 - 0s - loss: 749.9229 - 0s/epoch - 0s/step\n",
      "Epoch 364/500\n",
      "2/2 - 0s - loss: 746.9697 - 16ms/epoch - 8ms/step\n",
      "Epoch 365/500\n",
      "2/2 - 0s - loss: 744.6110 - 0s/epoch - 0s/step\n",
      "Epoch 366/500\n",
      "2/2 - 0s - loss: 742.5768 - 0s/epoch - 0s/step\n",
      "Epoch 367/500\n",
      "2/2 - 0s - loss: 739.6908 - 0s/epoch - 0s/step\n",
      "Epoch 368/500\n",
      "2/2 - 0s - loss: 737.3781 - 0s/epoch - 0s/step\n",
      "Epoch 369/500\n",
      "2/2 - 0s - loss: 735.3057 - 0s/epoch - 0s/step\n",
      "Epoch 370/500\n",
      "2/2 - 0s - loss: 733.2203 - 0s/epoch - 0s/step\n",
      "Epoch 371/500\n",
      "2/2 - 0s - loss: 730.8061 - 0s/epoch - 0s/step\n",
      "Epoch 372/500\n",
      "2/2 - 0s - loss: 728.7495 - 0s/epoch - 0s/step\n",
      "Epoch 373/500\n",
      "2/2 - 0s - loss: 726.6817 - 0s/epoch - 0s/step\n",
      "Epoch 374/500\n",
      "2/2 - 0s - loss: 724.6077 - 16ms/epoch - 8ms/step\n",
      "Epoch 375/500\n",
      "2/2 - 0s - loss: 722.6552 - 0s/epoch - 0s/step\n",
      "Epoch 376/500\n",
      "2/2 - 0s - loss: 720.8320 - 0s/epoch - 0s/step\n",
      "Epoch 377/500\n",
      "2/2 - 0s - loss: 718.9578 - 0s/epoch - 0s/step\n",
      "Epoch 378/500\n",
      "2/2 - 0s - loss: 717.1227 - 16ms/epoch - 8ms/step\n",
      "Epoch 379/500\n",
      "2/2 - 0s - loss: 715.1539 - 0s/epoch - 0s/step\n",
      "Epoch 380/500\n",
      "2/2 - 0s - loss: 713.8739 - 0s/epoch - 0s/step\n",
      "Epoch 381/500\n",
      "2/2 - 0s - loss: 711.8580 - 0s/epoch - 0s/step\n",
      "Epoch 382/500\n",
      "2/2 - 0s - loss: 710.4402 - 16ms/epoch - 8ms/step\n",
      "Epoch 383/500\n",
      "2/2 - 0s - loss: 708.3964 - 0s/epoch - 0s/step\n",
      "Epoch 384/500\n",
      "2/2 - 0s - loss: 706.8828 - 0s/epoch - 0s/step\n",
      "Epoch 385/500\n",
      "2/2 - 0s - loss: 705.6145 - 0s/epoch - 0s/step\n",
      "Epoch 386/500\n",
      "2/2 - 0s - loss: 703.8600 - 16ms/epoch - 8ms/step\n",
      "Epoch 387/500\n",
      "2/2 - 0s - loss: 702.5531 - 0s/epoch - 0s/step\n",
      "Epoch 388/500\n",
      "2/2 - 0s - loss: 701.0739 - 0s/epoch - 0s/step\n",
      "Epoch 389/500\n",
      "2/2 - 0s - loss: 699.5183 - 0s/epoch - 0s/step\n",
      "Epoch 390/500\n",
      "2/2 - 0s - loss: 697.9698 - 0s/epoch - 0s/step\n",
      "Epoch 391/500\n",
      "2/2 - 0s - loss: 696.7913 - 0s/epoch - 0s/step\n",
      "Epoch 392/500\n",
      "2/2 - 0s - loss: 695.4146 - 0s/epoch - 0s/step\n",
      "Epoch 393/500\n",
      "2/2 - 0s - loss: 694.2090 - 0s/epoch - 0s/step\n",
      "Epoch 394/500\n",
      "2/2 - 0s - loss: 693.0040 - 0s/epoch - 0s/step\n",
      "Epoch 395/500\n",
      "2/2 - 0s - loss: 691.6514 - 0s/epoch - 0s/step\n",
      "Epoch 396/500\n",
      "2/2 - 0s - loss: 690.6754 - 16ms/epoch - 8ms/step\n",
      "Epoch 397/500\n",
      "2/2 - 0s - loss: 689.1467 - 0s/epoch - 0s/step\n",
      "Epoch 398/500\n",
      "2/2 - 0s - loss: 688.1985 - 0s/epoch - 0s/step\n",
      "Epoch 399/500\n",
      "2/2 - 0s - loss: 687.0298 - 0s/epoch - 0s/step\n",
      "Epoch 400/500\n",
      "2/2 - 0s - loss: 685.9625 - 0s/epoch - 0s/step\n",
      "Epoch 401/500\n",
      "2/2 - 0s - loss: 685.0082 - 16ms/epoch - 8ms/step\n",
      "Epoch 402/500\n",
      "2/2 - 0s - loss: 684.0483 - 0s/epoch - 0s/step\n",
      "Epoch 403/500\n",
      "2/2 - 0s - loss: 682.7051 - 0s/epoch - 0s/step\n",
      "Epoch 404/500\n",
      "2/2 - 0s - loss: 682.2311 - 0s/epoch - 0s/step\n",
      "Epoch 405/500\n",
      "2/2 - 0s - loss: 680.8474 - 0s/epoch - 0s/step\n",
      "Epoch 406/500\n",
      "2/2 - 0s - loss: 680.1058 - 0s/epoch - 0s/step\n",
      "Epoch 407/500\n",
      "2/2 - 0s - loss: 679.1038 - 0s/epoch - 0s/step\n",
      "Epoch 408/500\n",
      "2/2 - 0s - loss: 678.1783 - 0s/epoch - 0s/step\n",
      "Epoch 409/500\n",
      "2/2 - 0s - loss: 677.2953 - 0s/epoch - 0s/step\n",
      "Epoch 410/500\n",
      "2/2 - 0s - loss: 676.4562 - 16ms/epoch - 8ms/step\n",
      "Epoch 411/500\n",
      "2/2 - 0s - loss: 675.7151 - 0s/epoch - 0s/step\n",
      "Epoch 412/500\n",
      "2/2 - 0s - loss: 674.9211 - 0s/epoch - 0s/step\n",
      "Epoch 413/500\n",
      "2/2 - 0s - loss: 674.1420 - 0s/epoch - 0s/step\n",
      "Epoch 414/500\n",
      "2/2 - 0s - loss: 673.3458 - 0s/epoch - 0s/step\n",
      "Epoch 415/500\n",
      "2/2 - 0s - loss: 672.5159 - 16ms/epoch - 8ms/step\n",
      "Epoch 416/500\n",
      "2/2 - 0s - loss: 671.8091 - 0s/epoch - 0s/step\n",
      "Epoch 417/500\n",
      "2/2 - 0s - loss: 671.0945 - 0s/epoch - 0s/step\n",
      "Epoch 418/500\n",
      "2/2 - 0s - loss: 670.3975 - 0s/epoch - 0s/step\n",
      "Epoch 419/500\n",
      "2/2 - 0s - loss: 669.8834 - 0s/epoch - 0s/step\n",
      "Epoch 420/500\n",
      "2/2 - 0s - loss: 669.3348 - 16ms/epoch - 8ms/step\n",
      "Epoch 421/500\n",
      "2/2 - 0s - loss: 668.4277 - 0s/epoch - 0s/step\n",
      "Epoch 422/500\n",
      "2/2 - 0s - loss: 667.8541 - 0s/epoch - 0s/step\n",
      "Epoch 423/500\n",
      "2/2 - 0s - loss: 667.3315 - 0s/epoch - 0s/step\n",
      "Epoch 424/500\n",
      "2/2 - 0s - loss: 666.8220 - 0s/epoch - 0s/step\n",
      "Epoch 425/500\n",
      "2/2 - 0s - loss: 665.9914 - 0s/epoch - 0s/step\n",
      "Epoch 426/500\n",
      "2/2 - 0s - loss: 665.5563 - 0s/epoch - 0s/step\n",
      "Epoch 427/500\n",
      "2/2 - 0s - loss: 665.0406 - 0s/epoch - 0s/step\n",
      "Epoch 428/500\n",
      "2/2 - 0s - loss: 664.6199 - 0s/epoch - 0s/step\n",
      "Epoch 429/500\n",
      "2/2 - 0s - loss: 663.8840 - 0s/epoch - 0s/step\n",
      "Epoch 430/500\n",
      "2/2 - 0s - loss: 663.3911 - 0s/epoch - 0s/step\n",
      "Epoch 431/500\n",
      "2/2 - 0s - loss: 662.8971 - 0s/epoch - 0s/step\n",
      "Epoch 432/500\n",
      "2/2 - 0s - loss: 662.4990 - 0s/epoch - 0s/step\n",
      "Epoch 433/500\n",
      "2/2 - 0s - loss: 662.0345 - 0s/epoch - 0s/step\n",
      "Epoch 434/500\n",
      "2/2 - 0s - loss: 661.5744 - 0s/epoch - 0s/step\n",
      "Epoch 435/500\n",
      "2/2 - 0s - loss: 661.0735 - 0s/epoch - 0s/step\n",
      "Epoch 436/500\n",
      "2/2 - 0s - loss: 660.6897 - 0s/epoch - 0s/step\n",
      "Epoch 437/500\n",
      "2/2 - 0s - loss: 660.2156 - 0s/epoch - 0s/step\n",
      "Epoch 438/500\n",
      "2/2 - 0s - loss: 659.9016 - 0s/epoch - 0s/step\n",
      "Epoch 439/500\n",
      "2/2 - 0s - loss: 659.3351 - 0s/epoch - 0s/step\n",
      "Epoch 440/500\n",
      "2/2 - 0s - loss: 658.9489 - 0s/epoch - 0s/step\n",
      "Epoch 441/500\n",
      "2/2 - 0s - loss: 658.6526 - 0s/epoch - 0s/step\n",
      "Epoch 442/500\n",
      "2/2 - 0s - loss: 658.3751 - 16ms/epoch - 8ms/step\n",
      "Epoch 443/500\n",
      "2/2 - 0s - loss: 657.9335 - 0s/epoch - 0s/step\n",
      "Epoch 444/500\n",
      "2/2 - 0s - loss: 657.6226 - 0s/epoch - 0s/step\n",
      "Epoch 445/500\n",
      "2/2 - 0s - loss: 657.1170 - 0s/epoch - 0s/step\n",
      "Epoch 446/500\n",
      "2/2 - 0s - loss: 656.8533 - 0s/epoch - 0s/step\n",
      "Epoch 447/500\n",
      "2/2 - 0s - loss: 656.5767 - 16ms/epoch - 8ms/step\n",
      "Epoch 448/500\n",
      "2/2 - 0s - loss: 656.2582 - 0s/epoch - 0s/step\n",
      "Epoch 449/500\n",
      "2/2 - 0s - loss: 655.9317 - 0s/epoch - 0s/step\n",
      "Epoch 450/500\n",
      "2/2 - 0s - loss: 655.6588 - 0s/epoch - 0s/step\n",
      "Epoch 451/500\n",
      "2/2 - 0s - loss: 655.4560 - 0s/epoch - 0s/step\n",
      "Epoch 452/500\n",
      "2/2 - 0s - loss: 655.0551 - 0s/epoch - 0s/step\n",
      "Epoch 453/500\n",
      "2/2 - 0s - loss: 654.7424 - 0s/epoch - 0s/step\n",
      "Epoch 454/500\n",
      "2/2 - 0s - loss: 654.5784 - 0s/epoch - 0s/step\n",
      "Epoch 455/500\n",
      "2/2 - 0s - loss: 654.3353 - 0s/epoch - 0s/step\n",
      "Epoch 456/500\n",
      "2/2 - 0s - loss: 654.0098 - 16ms/epoch - 8ms/step\n",
      "Epoch 457/500\n",
      "2/2 - 0s - loss: 653.7352 - 0s/epoch - 0s/step\n",
      "Epoch 458/500\n",
      "2/2 - 0s - loss: 653.5075 - 0s/epoch - 0s/step\n",
      "Epoch 459/500\n",
      "2/2 - 0s - loss: 653.3387 - 16ms/epoch - 8ms/step\n",
      "Epoch 460/500\n",
      "2/2 - 0s - loss: 653.0378 - 0s/epoch - 0s/step\n",
      "Epoch 461/500\n",
      "2/2 - 0s - loss: 652.8582 - 0s/epoch - 0s/step\n",
      "Epoch 462/500\n",
      "2/2 - 0s - loss: 652.5862 - 0s/epoch - 0s/step\n",
      "Epoch 463/500\n",
      "2/2 - 0s - loss: 652.5060 - 0s/epoch - 0s/step\n",
      "Epoch 464/500\n",
      "2/2 - 0s - loss: 652.1781 - 0s/epoch - 0s/step\n",
      "Epoch 465/500\n",
      "2/2 - 0s - loss: 651.9596 - 0s/epoch - 0s/step\n",
      "Epoch 466/500\n",
      "2/2 - 0s - loss: 651.7988 - 0s/epoch - 0s/step\n",
      "Epoch 467/500\n",
      "2/2 - 0s - loss: 651.6281 - 0s/epoch - 0s/step\n",
      "Epoch 468/500\n",
      "2/2 - 0s - loss: 651.4280 - 0s/epoch - 0s/step\n",
      "Epoch 469/500\n",
      "2/2 - 0s - loss: 651.1945 - 0s/epoch - 0s/step\n",
      "Epoch 470/500\n",
      "2/2 - 0s - loss: 651.1000 - 0s/epoch - 0s/step\n",
      "Epoch 471/500\n",
      "2/2 - 0s - loss: 650.8385 - 0s/epoch - 0s/step\n",
      "Epoch 472/500\n",
      "2/2 - 0s - loss: 650.6655 - 0s/epoch - 0s/step\n",
      "Epoch 473/500\n",
      "2/2 - 0s - loss: 650.5325 - 16ms/epoch - 8ms/step\n",
      "Epoch 474/500\n",
      "2/2 - 0s - loss: 650.3058 - 0s/epoch - 0s/step\n",
      "Epoch 475/500\n",
      "2/2 - 0s - loss: 650.1221 - 0s/epoch - 0s/step\n",
      "Epoch 476/500\n",
      "2/2 - 0s - loss: 650.1499 - 0s/epoch - 0s/step\n",
      "Epoch 477/500\n",
      "2/2 - 0s - loss: 649.9338 - 0s/epoch - 0s/step\n",
      "Epoch 478/500\n",
      "2/2 - 0s - loss: 649.7844 - 16ms/epoch - 8ms/step\n",
      "Epoch 479/500\n",
      "2/2 - 0s - loss: 649.5981 - 0s/epoch - 0s/step\n",
      "Epoch 480/500\n",
      "2/2 - 0s - loss: 649.4644 - 0s/epoch - 0s/step\n",
      "Epoch 481/500\n",
      "2/2 - 0s - loss: 649.5637 - 0s/epoch - 0s/step\n",
      "Epoch 482/500\n",
      "2/2 - 0s - loss: 649.2865 - 0s/epoch - 0s/step\n",
      "Epoch 483/500\n",
      "2/2 - 0s - loss: 649.1486 - 16ms/epoch - 8ms/step\n",
      "Epoch 484/500\n",
      "2/2 - 0s - loss: 649.1093 - 0s/epoch - 0s/step\n",
      "Epoch 485/500\n",
      "2/2 - 0s - loss: 648.9598 - 0s/epoch - 0s/step\n",
      "Epoch 486/500\n",
      "2/2 - 0s - loss: 648.8413 - 0s/epoch - 0s/step\n",
      "Epoch 487/500\n",
      "2/2 - 0s - loss: 648.7432 - 0s/epoch - 0s/step\n",
      "Epoch 488/500\n",
      "2/2 - 0s - loss: 648.6693 - 16ms/epoch - 8ms/step\n",
      "Epoch 489/500\n",
      "2/2 - 0s - loss: 648.6323 - 0s/epoch - 0s/step\n",
      "Epoch 490/500\n",
      "2/2 - 0s - loss: 648.4397 - 0s/epoch - 0s/step\n",
      "Epoch 491/500\n",
      "2/2 - 0s - loss: 648.3127 - 0s/epoch - 0s/step\n",
      "Epoch 492/500\n",
      "2/2 - 0s - loss: 648.3273 - 0s/epoch - 0s/step\n",
      "Epoch 493/500\n",
      "2/2 - 0s - loss: 648.1877 - 16ms/epoch - 8ms/step\n",
      "Epoch 494/500\n",
      "2/2 - 0s - loss: 648.0669 - 0s/epoch - 0s/step\n",
      "Epoch 495/500\n",
      "2/2 - 0s - loss: 647.9973 - 0s/epoch - 0s/step\n",
      "Epoch 496/500\n",
      "2/2 - 0s - loss: 647.9247 - 0s/epoch - 0s/step\n",
      "Epoch 497/500\n",
      "2/2 - 0s - loss: 647.7974 - 0s/epoch - 0s/step\n",
      "Epoch 498/500\n",
      "2/2 - 0s - loss: 647.7275 - 0s/epoch - 0s/step\n",
      "Epoch 499/500\n",
      "2/2 - 0s - loss: 647.6884 - 0s/epoch - 0s/step\n",
      "Epoch 500/500\n",
      "2/2 - 0s - loss: 647.5989 - 0s/epoch - 0s/step\n",
      "len(model.layers): 1\n"
     ]
    }
   ],
   "source": [
    "ret = model.fit(X, y, epochs=500, verbose=2)\n",
    "print(\"len(model.layers):\", len(model.layers)) # 1"
   ],
   "metadata": {
    "collapsed": false,
    "ExecuteTime": {
     "start_time": "2023-04-21T15:58:15.041158Z",
     "end_time": "2023-04-21T15:58:17.020698Z"
    }
   }
  },
  {
   "cell_type": "markdown",
   "source": [
    "### 결과값 확인"
   ],
   "metadata": {
    "collapsed": false
   }
  },
  {
   "cell_type": "code",
   "execution_count": 121,
   "outputs": [
    {
     "name": "stdout",
     "output_type": "stream",
     "text": [
      "loss: 647.5989379882812\n",
      "weights: [[2.864393 ]\n",
      " [2.9331334]\n",
      " [1.7670718]\n",
      " [3.0668347]]\n"
     ]
    }
   ],
   "source": [
    "loss = ret.history['loss']\n",
    "print(\"loss:\", loss[-1])\n",
    "#print(model.get_weights())  # weights\n",
    "print(\"weights:\", model.layers[0].weights[0].numpy())"
   ],
   "metadata": {
    "collapsed": false,
    "ExecuteTime": {
     "start_time": "2023-04-21T15:58:49.365798Z",
     "end_time": "2023-04-21T15:58:49.381535Z"
    }
   }
  },
  {
   "cell_type": "markdown",
   "source": [
    "### 시각화"
   ],
   "metadata": {
    "collapsed": false
   }
  },
  {
   "cell_type": "code",
   "execution_count": 123,
   "outputs": [
    {
     "name": "stdout",
     "output_type": "stream",
     "text": [
      "2/2 [==============================] - 0s 0s/step\n"
     ]
    },
    {
     "data": {
      "text/plain": "<Figure size 1000x500 with 2 Axes>",
      "image/png": "[encoded data removed]"
     },
     "metadata": {},
     "output_type": "display_data"
    }
   ],
   "source": [
    "fig, axs = plt.subplots(1,2, figsize=(10, 5))\n",
    "axs[0].plot(loss)\n",
    "axs[0].set_xlabel('epochs')\n",
    "axs[0].set_ylabel('loss')\n",
    "\n",
    "axs[1].scatter(x, y)\n",
    "y_pred = model.predict(X)\n",
    "axs[1].plot(x, y_pred, color='red')\n",
    "axs[1].set_xlabel('x')\n",
    "axs[1].set_ylabel('y')\n",
    "plt.show()"
   ],
   "metadata": {
    "collapsed": false,
    "ExecuteTime": {
     "start_time": "2023-04-21T16:00:01.455073Z",
     "end_time": "2023-04-21T16:00:01.691982Z"
    }
   }
  },
  {
   "cell_type": "markdown",
   "source": [
    "## Benchmark"
   ],
   "metadata": {
    "collapsed": false
   }
  },
  {
   "cell_type": "code",
   "execution_count": 124,
   "outputs": [],
   "source": [
    "def dataset(train_size=100): # tensorflow\n",
    "     tf.random.set_seed(1)\n",
    "     x = tf.linspace(-5.0, 5.0, num=train_size)\n",
    "     y_label = 3.0*x**3 + 2.0*x**2 + x + 4.0 + 5\n",
    "     y = y_label + tf.random.normal([train_size], mean=0.0, stddev = 30.0)\n",
    "     return x, y, y_label\n",
    "\n",
    "x, y, y_label = dataset()"
   ],
   "metadata": {
    "collapsed": false,
    "ExecuteTime": {
     "start_time": "2023-04-21T16:06:12.491209Z",
     "end_time": "2023-04-21T16:06:12.538097Z"
    }
   }
  },
  {
   "cell_type": "code",
   "execution_count": 125,
   "outputs": [],
   "source": [
    "def min_max_scaler(data):\n",
    "  x_min, x_max = tf.reduce_min(data), tf.reduce_max(data)\n",
    "  x_std = (data-x_min)/(x_max-x_min)\n",
    "  #print(x_std)\n",
    "  return x_std, x_min, x_max"
   ],
   "metadata": {
    "collapsed": false,
    "ExecuteTime": {
     "start_time": "2023-04-21T16:06:12.944969Z",
     "end_time": "2023-04-21T16:06:12.991830Z"
    }
   }
  },
  {
   "cell_type": "code",
   "execution_count": 126,
   "outputs": [],
   "source": [
    "def standard_scaler(data):\n",
    "  # z = (x - u) / s\n",
    "  x_mean = tf.reduce_mean(x)\n",
    "  x_std = tf.math.reduce_std(x)\n",
    "  x_scaled = (data - x_mean) / x_std\n",
    "  return x_scaled, x_mean, x_std"
   ],
   "metadata": {
    "collapsed": false,
    "ExecuteTime": {
     "start_time": "2023-04-21T16:06:13.382361Z",
     "end_time": "2023-04-21T16:06:13.413607Z"
    }
   }
  },
  {
   "cell_type": "code",
   "execution_count": 133,
   "outputs": [],
   "source": [
    "def transform_data(x, y, y_label, scaler):\n",
    "  x_scaled, x_mean, x_std = standard_scaler(x)\n",
    "  y_scaled, y_mean, y_std = standard_scaler(y)\n",
    "  y_label_scaled, y_label_mean, y_label_std = standard_scaler(y_label)\n",
    "  x_scaled = tf.reshape(x_scaled, [-1, 1])\n",
    "  X = tf.concat([x_scaled, x_scaled**2, x_scaled**3], 1)\n",
    "  return X, y_scaled, y_label_scaled\n",
    "\n",
    "X, y_scaled, y_label_scaled = transform_data(x, y, y_label, standard_scaler)"
   ],
   "metadata": {
    "collapsed": false,
    "ExecuteTime": {
     "start_time": "2023-04-21T16:22:54.159046Z",
     "end_time": "2023-04-21T16:22:54.174669Z"
    }
   }
  },
  {
   "cell_type": "code",
   "execution_count": 128,
   "outputs": [],
   "source": [
    "def make_hyper_params():\n",
    "  params = {\n",
    "      'opt': ['Adam', 'RMSprop','SGD'],\n",
    "      'lr': [0.1, 0.05, 0.01],\n",
    "      'loss_fn': ['MAE', 'MSE'],\n",
    "      'batch': [1, 4, 8],\n",
    "  }\n",
    "  import itertools\n",
    "  permutations_dicts = [dict(zip(params.keys(), v))  for v in itertools.product(*params.values())]\n",
    "  permutations_dicts\n",
    "  return permutations_dicts\n",
    "\n",
    "params = make_hyper_params()\n",
    "#params"
   ],
   "metadata": {
    "collapsed": false,
    "ExecuteTime": {
     "start_time": "2023-04-21T16:06:14.506017Z",
     "end_time": "2023-04-21T16:06:14.521635Z"
    }
   }
  },
  {
   "cell_type": "code",
   "execution_count": 129,
   "outputs": [],
   "source": [
    "def make_optimizer(name, lr):\n",
    "  if name == 'Adam':\n",
    "    return tf.keras.optimizers.Adam(learning_rate=lr)\n",
    "  elif name == 'RMSprop':\n",
    "    return tf.keras.optimizers.RMSprop(learning_rate=lr)\n",
    "  elif name == 'SGD':\n",
    "    return tf.keras.optimizers.SGD(learning_rate=lr)\n",
    "\n",
    "def make_loss_func(name):\n",
    "  if name == 'MAE':\n",
    "    return tf.keras.losses.MeanAbsoluteError()\n",
    "  elif name == 'MSE':\n",
    "    return tf.keras.losses.MeanSquaredError()\n",
    "\n",
    "def make_model(opt='Adam', lr='0.01', loss_fn='MSE', **kargs):\n",
    "  model=tf.keras.Sequential(\n",
    "        [tf.keras.layers.Dense(units=1,\n",
    "                               bias_initializer=tf.keras.initializers.Constant(1),\\\n",
    "                               input_dim=3)])\n",
    "  #print('opt: {}, lr: {}, loss_fn: {}'.format(opt, lr, loss_fn))\n",
    "  opt = make_optimizer(opt, lr)\n",
    "  loss = make_loss_func(loss_fn)\n",
    "  model.compile(optimizer=opt, loss=loss)\n",
    "  return model\n",
    "\n",
    "def train(model, X, y, epochs=50, batch=1, callbacks=None, **kargs):\n",
    "  #print('batch', batch)\n",
    "  record = model.fit(X, y, epochs=epochs, batch_size=batch, callbacks=callbacks, verbose=0)\n",
    "  return record\n",
    "\n",
    "def get_result(model, record):\n",
    "    loss = record.history['loss']\n",
    "    weights = model.layers[0].weights[:-1][0].numpy()\n",
    "    bias = model.layers[0].weights[-1].numpy()\n",
    "    return loss, weights, bias"
   ],
   "metadata": {
    "collapsed": false,
    "ExecuteTime": {
     "start_time": "2023-04-21T16:06:15.214093Z",
     "end_time": "2023-04-21T16:06:15.245336Z"
    }
   }
  },
  {
   "cell_type": "markdown",
   "source": [
    "## 시각화"
   ],
   "metadata": {
    "collapsed": false
   }
  },
  {
   "cell_type": "code",
   "execution_count": 131,
   "outputs": [
    {
     "name": "stdout",
     "output_type": "stream",
     "text": [
      "********************\n",
      "opt: Adam, lr: 0.1, loss_fn: MAE, batch: 1\n",
      "min_loss: 179769313486231570814527423731704356798070567525844996598917476803157260780028538760589558632766878171540458953514382464234321326889464182768467546703537516986049910576551282076245490090389328944075868508455133942304583236903222948165808559332123348274797826204144723168738177180919299881250404026184124858368.00, loss: 7.95\n",
      "loss: 7.95, weights: [[-1.7439097]\n",
      " [ 6.854529 ]\n",
      " [28.78155  ]], bias: [0.22639272]\n"
     ]
    },
    {
     "data": {
      "text/plain": "<Figure size 640x480 with 1 Axes>",
      "image/png": "[encoded data removed]"
     },
     "metadata": {},
     "output_type": "display_data"
    },
    {
     "ename": "NameError",
     "evalue": "name 'x_mean' is not defined",
     "output_type": "error",
     "traceback": [
      "\u001B[1;31m---------------------------------------------------------------------------\u001B[0m",
      "\u001B[1;31mNameError\u001B[0m                                 Traceback (most recent call last)",
      "Cell \u001B[1;32mIn[131], line 35\u001B[0m\n\u001B[0;32m     32\u001B[0m       plot_predict(model, X, y)\n\u001B[0;32m     33\u001B[0m       min_loss \u001B[38;5;241m=\u001B[39m loss[\u001B[38;5;241m-\u001B[39m\u001B[38;5;241m1\u001B[39m]\n\u001B[1;32m---> 35\u001B[0m \u001B[43mbenchmark\u001B[49m\u001B[43m(\u001B[49m\u001B[43mX\u001B[49m\u001B[43m,\u001B[49m\u001B[43m \u001B[49m\u001B[43my_scaled\u001B[49m\u001B[43m,\u001B[49m\u001B[43m \u001B[49m\u001B[43mparams\u001B[49m\u001B[43m)\u001B[49m\n",
      "Cell \u001B[1;32mIn[131], line 32\u001B[0m, in \u001B[0;36mbenchmark\u001B[1;34m(X, y, params)\u001B[0m\n\u001B[0;32m     30\u001B[0m \u001B[38;5;28mprint\u001B[39m(\u001B[38;5;124m'\u001B[39m\u001B[38;5;124mloss: \u001B[39m\u001B[38;5;132;01m{:.2f}\u001B[39;00m\u001B[38;5;124m, weights: \u001B[39m\u001B[38;5;132;01m{}\u001B[39;00m\u001B[38;5;124m, bias: \u001B[39m\u001B[38;5;132;01m{}\u001B[39;00m\u001B[38;5;124m'\u001B[39m\u001B[38;5;241m.\u001B[39mformat(loss[\u001B[38;5;241m-\u001B[39m\u001B[38;5;241m1\u001B[39m], weights, bias))\n\u001B[0;32m     31\u001B[0m plot_result(loss, \u001B[38;5;124m'\u001B[39m\u001B[38;5;124mloss\u001B[39m\u001B[38;5;124m'\u001B[39m)\n\u001B[1;32m---> 32\u001B[0m \u001B[43mplot_predict\u001B[49m\u001B[43m(\u001B[49m\u001B[43mmodel\u001B[49m\u001B[43m,\u001B[49m\u001B[43m \u001B[49m\u001B[43mX\u001B[49m\u001B[43m,\u001B[49m\u001B[43m \u001B[49m\u001B[43my\u001B[49m\u001B[43m)\u001B[49m\n\u001B[0;32m     33\u001B[0m min_loss \u001B[38;5;241m=\u001B[39m loss[\u001B[38;5;241m-\u001B[39m\u001B[38;5;241m1\u001B[39m]\n",
      "Cell \u001B[1;32mIn[131], line 10\u001B[0m, in \u001B[0;36mplot_predict\u001B[1;34m(model, X_train, y_true)\u001B[0m\n\u001B[0;32m      8\u001B[0m \u001B[38;5;28;01mdef\u001B[39;00m \u001B[38;5;21mstandard_inverse\u001B[39m(data, mean, std):\n\u001B[0;32m      9\u001B[0m   \u001B[38;5;28;01mreturn\u001B[39;00m data \u001B[38;5;241m*\u001B[39m std \u001B[38;5;241m+\u001B[39m mean\n\u001B[1;32m---> 10\u001B[0m x_origin \u001B[38;5;241m=\u001B[39m standard_inverse(X_train[:,\u001B[38;5;241m0\u001B[39m], \u001B[43mx_mean\u001B[49m, x_std)\n\u001B[0;32m     11\u001B[0m y_origin \u001B[38;5;241m=\u001B[39m standard_inverse(y_true, y_label_mean, y_std)\n\u001B[0;32m     12\u001B[0m plt\u001B[38;5;241m.\u001B[39mscatter(x_origin, y_origin)\n",
      "\u001B[1;31mNameError\u001B[0m: name 'x_mean' is not defined"
     ]
    }
   ],
   "source": [
    "def plot_result(data, ylabel, xlabel='epochs'):\n",
    "  plt.plot(data)\n",
    "  plt.xlabel(xlabel)\n",
    "  plt.ylabel(ylabel)\n",
    "  plt.show()\n",
    "\n",
    "def plot_predict(model, X_train, y_true):\n",
    "  def standard_inverse(data, mean, std):\n",
    "    return data * std + mean\n",
    "  x_origin = standard_inverse(X_train[:,0], x_mean, x_std)\n",
    "  y_origin = standard_inverse(y_true, y_label_mean, y_std)\n",
    "  plt.scatter(x_origin, y_origin)\n",
    "  y_pred = model.predict(X_train)\n",
    "  y_pred = standard_inverse(y_pred, y_mean, y_std)\n",
    "  plt.plot(x_origin, y_pred, color='red')\n",
    "  plt.show()\n",
    "\n",
    "def benchmark(X, y, params):\n",
    "  import sys\n",
    "  min_loss = sys.float_info.max\n",
    "  for param in params:\n",
    "    print('*'*20)\n",
    "    print('opt: {}, lr: {}, loss_fn: {}, batch: {}'\\\n",
    "          .format(param['opt'], param['lr'], param['loss_fn'], param['batch']))\n",
    "    model = make_model(**param)\n",
    "    record = train(model, X, y, **param)\n",
    "    loss, weights, bias = get_result(model, record)\n",
    "    print('min_loss: {:.2f}, loss: {:.2f}'.format(min_loss, loss[-1]))\n",
    "    if loss[-1] < min_loss:\n",
    "      print('loss: {:.2f}, weights: {}, bias: {}'.format(loss[-1], weights, bias))\n",
    "      plot_result(loss, 'loss')\n",
    "      plot_predict(model, X, y)\n",
    "      min_loss = loss[-1]\n",
    "\n",
    "benchmark(X, y_scaled, params)"
   ],
   "metadata": {
    "collapsed": false
   }
  }
 ],
 "metadata": {
  "kernelspec": {
   "display_name": "Python 3",
   "language": "python",
   "name": "python3"
  },
  "language_info": {
   "codemirror_mode": {
    "name": "ipython",
    "version": 2
   },
   "file_extension": ".py",
   "mimetype": "text/x-python",
   "name": "python",
   "nbconvert_exporter": "python",
   "pygments_lexer": "ipython2",
   "version": "2.7.6"
  }
 },
 "nbformat": 4,
 "nbformat_minor": 0
}
