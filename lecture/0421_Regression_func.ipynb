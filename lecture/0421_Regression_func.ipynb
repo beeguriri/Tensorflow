{
 "cells": [
  {
   "cell_type": "markdown",
   "source": [
    "## Functional Model"
   ],
   "metadata": {
    "collapsed": false
   }
  },
  {
   "cell_type": "code",
   "execution_count": 1,
   "metadata": {
    "collapsed": true,
    "ExecuteTime": {
     "start_time": "2023-04-21T16:25:59.330529Z",
     "end_time": "2023-04-21T16:26:05.023609Z"
    }
   },
   "outputs": [],
   "source": [
    "import tensorflow as tf\n",
    "import numpy as np\n",
    "import matplotlib.pyplot as plt"
   ]
  },
  {
   "cell_type": "markdown",
   "source": [
    "## 1. Simple Linear Regression"
   ],
   "metadata": {
    "collapsed": false
   }
  },
  {
   "cell_type": "markdown",
   "source": [
    "### Data 만들기"
   ],
   "metadata": {
    "collapsed": false
   }
  },
  {
   "cell_type": "code",
   "execution_count": 7,
   "outputs": [],
   "source": [
    "def dataset(train_size=100): # tensorflow\n",
    "     tf.random.set_seed(1)\n",
    "     x = tf.linspace(0.0, 10.0, num=train_size)\n",
    "     y = 3.0*x - 10.0\n",
    "     y += tf.random.normal([train_size], mean=0.0, stddev = 2.0)\n",
    "     return x, y\n",
    "x, y_true = dataset(20)"
   ],
   "metadata": {
    "collapsed": false,
    "ExecuteTime": {
     "start_time": "2023-04-21T16:26:47.565225Z",
     "end_time": "2023-04-21T16:26:47.627711Z"
    }
   }
  },
  {
   "cell_type": "markdown",
   "source": [
    "### Model 만들기"
   ],
   "metadata": {
    "collapsed": false
   }
  },
  {
   "cell_type": "code",
   "execution_count": 8,
   "outputs": [
    {
     "name": "stdout",
     "output_type": "stream",
     "text": [
      "Model: \"model_2\"\n",
      "_________________________________________________________________\n",
      " Layer (type)                Output Shape              Param #   \n",
      "=================================================================\n",
      " input_3 (InputLayer)        [(None, 1)]               0         \n",
      "                                                                 \n",
      " dense_2 (Dense)             (None, 1)                 2         \n",
      "                                                                 \n",
      "=================================================================\n",
      "Total params: 2\n",
      "Trainable params: 2\n",
      "Non-trainable params: 0\n",
      "_________________________________________________________________\n"
     ]
    }
   ],
   "source": [
    "inputs = tf.keras.layers.Input(shape=(1,))\n",
    "##y = tf.keras.layers.Dense(units=1)  # ,input_shape=(1,))\n",
    "##outputs = y(inputs)\n",
    "outputs = tf.keras.layers.Dense(units=1)(inputs)\n",
    "model = tf.keras.Model(inputs=inputs, outputs=outputs)\n",
    "model.summary()"
   ],
   "metadata": {
    "collapsed": false,
    "ExecuteTime": {
     "start_time": "2023-04-21T16:26:55.948992Z",
     "end_time": "2023-04-21T16:26:55.995857Z"
    }
   }
  },
  {
   "cell_type": "code",
   "execution_count": 9,
   "outputs": [
    {
     "name": "stdout",
     "output_type": "stream",
     "text": [
      "Model: \"model_3\"\n",
      "_________________________________________________________________\n",
      " Layer (type)                Output Shape              Param #   \n",
      "=================================================================\n",
      " input_4 (InputLayer)        [(None, 1)]               0         \n",
      "                                                                 \n",
      " dense_3 (Dense)             (None, 1)                 2         \n",
      "                                                                 \n",
      "=================================================================\n",
      "Total params: 2\n",
      "Trainable params: 2\n",
      "Non-trainable params: 0\n",
      "_________________________________________________________________\n"
     ]
    }
   ],
   "source": [
    "inputs = tf.keras.layers.Input(shape=(1,))\n",
    "##y = tf.keras.layers.Dense(units=1)  # ,input_shape=(1,))\n",
    "##outputs = y(inputs)\n",
    "outputs = tf.keras.layers.Dense(units=1)(inputs)\n",
    "model = tf.keras.Model(inputs=inputs, outputs=outputs)\n",
    "model.summary()"
   ],
   "metadata": {
    "collapsed": false,
    "ExecuteTime": {
     "start_time": "2023-04-21T16:27:08.555882Z",
     "end_time": "2023-04-21T16:27:08.649598Z"
    }
   }
  },
  {
   "cell_type": "markdown",
   "source": [
    "### 학습 시키기\n",
    "+ learning_rate 변경\n",
    "+ optimizer 변경 (RMSprop, adagrad, SGD, Adam)\n",
    "+ batch_size 변경"
   ],
   "metadata": {
    "collapsed": false
   }
  },
  {
   "cell_type": "code",
   "execution_count": 10,
   "outputs": [
    {
     "name": "stdout",
     "output_type": "stream",
     "text": [
      "Model: \"model_3\"\n",
      "_________________________________________________________________\n",
      " Layer (type)                Output Shape              Param #   \n",
      "=================================================================\n",
      " input_4 (InputLayer)        [(None, 1)]               0         \n",
      "                                                                 \n",
      " dense_3 (Dense)             (None, 1)                 2         \n",
      "                                                                 \n",
      "=================================================================\n",
      "Total params: 2\n",
      "Trainable params: 2\n",
      "Non-trainable params: 0\n",
      "_________________________________________________________________\n"
     ]
    }
   ],
   "source": [
    "model.summary()\n",
    "##opt = tf.keras.optimizers.SGD(learning_rate=0.01)  # optimizer='sgd'\n",
    "##opt = tf.keras.optimizers.Adam(learning_rate=0.01) # 'adam'\n",
    "opt = tf.keras.optimizers.RMSprop(learning_rate=0.1)  # 'rmsprop'\n",
    "model.compile(optimizer=opt, loss='mse')  # 'mean_squared_error'"
   ],
   "metadata": {
    "collapsed": false,
    "ExecuteTime": {
     "start_time": "2023-04-21T16:27:25.977100Z",
     "end_time": "2023-04-21T16:27:25.992746Z"
    }
   }
  },
  {
   "cell_type": "code",
   "execution_count": 11,
   "outputs": [
    {
     "name": "stdout",
     "output_type": "stream",
     "text": [
      "Epoch 1/100\n",
      "5/5 - 0s - loss: 211.6627 - 187ms/epoch - 37ms/step\n",
      "Epoch 2/100\n",
      "5/5 - 0s - loss: 116.9469 - 0s/epoch - 0s/step\n",
      "Epoch 3/100\n",
      "5/5 - 0s - loss: 81.7406 - 16ms/epoch - 3ms/step\n",
      "Epoch 4/100\n",
      "5/5 - 0s - loss: 62.5427 - 0s/epoch - 0s/step\n",
      "Epoch 5/100\n",
      "5/5 - 0s - loss: 54.0302 - 0s/epoch - 0s/step\n",
      "Epoch 6/100\n",
      "5/5 - 0s - loss: 48.7080 - 16ms/epoch - 3ms/step\n",
      "Epoch 7/100\n",
      "5/5 - 0s - loss: 44.0260 - 0s/epoch - 0s/step\n",
      "Epoch 8/100\n",
      "5/5 - 0s - loss: 42.5232 - 0s/epoch - 0s/step\n",
      "Epoch 9/100\n",
      "5/5 - 0s - loss: 38.7893 - 0s/epoch - 0s/step\n",
      "Epoch 10/100\n",
      "5/5 - 0s - loss: 36.9615 - 0s/epoch - 0s/step\n",
      "Epoch 11/100\n",
      "5/5 - 0s - loss: 35.2012 - 0s/epoch - 0s/step\n",
      "Epoch 12/100\n",
      "5/5 - 0s - loss: 33.3122 - 0s/epoch - 0s/step\n",
      "Epoch 13/100\n",
      "5/5 - 0s - loss: 31.8285 - 0s/epoch - 0s/step\n",
      "Epoch 14/100\n",
      "5/5 - 0s - loss: 29.6781 - 0s/epoch - 0s/step\n",
      "Epoch 15/100\n",
      "5/5 - 0s - loss: 27.6764 - 0s/epoch - 0s/step\n",
      "Epoch 16/100\n",
      "5/5 - 0s - loss: 26.6424 - 16ms/epoch - 3ms/step\n",
      "Epoch 17/100\n",
      "5/5 - 0s - loss: 25.6228 - 0s/epoch - 0s/step\n",
      "Epoch 18/100\n",
      "5/5 - 0s - loss: 22.5540 - 0s/epoch - 0s/step\n",
      "Epoch 19/100\n",
      "5/5 - 0s - loss: 21.2372 - 16ms/epoch - 3ms/step\n",
      "Epoch 20/100\n",
      "5/5 - 0s - loss: 19.3562 - 0s/epoch - 0s/step\n",
      "Epoch 21/100\n",
      "5/5 - 0s - loss: 18.0068 - 0s/epoch - 0s/step\n",
      "Epoch 22/100\n",
      "5/5 - 0s - loss: 17.7528 - 16ms/epoch - 3ms/step\n",
      "Epoch 23/100\n",
      "5/5 - 0s - loss: 16.5296 - 0s/epoch - 0s/step\n",
      "Epoch 24/100\n",
      "5/5 - 0s - loss: 14.8329 - 0s/epoch - 0s/step\n",
      "Epoch 25/100\n",
      "5/5 - 0s - loss: 13.1456 - 16ms/epoch - 3ms/step\n",
      "Epoch 26/100\n",
      "5/5 - 0s - loss: 12.9040 - 0s/epoch - 0s/step\n",
      "Epoch 27/100\n",
      "5/5 - 0s - loss: 11.4472 - 0s/epoch - 0s/step\n",
      "Epoch 28/100\n",
      "5/5 - 0s - loss: 10.4481 - 16ms/epoch - 3ms/step\n",
      "Epoch 29/100\n",
      "5/5 - 0s - loss: 10.1598 - 0s/epoch - 0s/step\n",
      "Epoch 30/100\n",
      "5/5 - 0s - loss: 8.7353 - 0s/epoch - 0s/step\n",
      "Epoch 31/100\n",
      "5/5 - 0s - loss: 8.1794 - 16ms/epoch - 3ms/step\n",
      "Epoch 32/100\n",
      "5/5 - 0s - loss: 8.1745 - 0s/epoch - 0s/step\n",
      "Epoch 33/100\n",
      "5/5 - 0s - loss: 7.2500 - 16ms/epoch - 3ms/step\n",
      "Epoch 34/100\n",
      "5/5 - 0s - loss: 6.0328 - 0s/epoch - 0s/step\n",
      "Epoch 35/100\n",
      "5/5 - 0s - loss: 5.5306 - 16ms/epoch - 3ms/step\n",
      "Epoch 36/100\n",
      "5/5 - 0s - loss: 5.0378 - 0s/epoch - 0s/step\n",
      "Epoch 37/100\n",
      "5/5 - 0s - loss: 4.9847 - 0s/epoch - 0s/step\n",
      "Epoch 38/100\n",
      "5/5 - 0s - loss: 4.6197 - 16ms/epoch - 3ms/step\n",
      "Epoch 39/100\n",
      "5/5 - 0s - loss: 4.3964 - 0s/epoch - 0s/step\n",
      "Epoch 40/100\n",
      "5/5 - 0s - loss: 4.2494 - 14ms/epoch - 3ms/step\n",
      "Epoch 41/100\n",
      "5/5 - 0s - loss: 3.7944 - 0s/epoch - 0s/step\n",
      "Epoch 42/100\n",
      "5/5 - 0s - loss: 3.3366 - 0s/epoch - 0s/step\n",
      "Epoch 43/100\n",
      "5/5 - 0s - loss: 3.2381 - 0s/epoch - 0s/step\n",
      "Epoch 44/100\n",
      "5/5 - 0s - loss: 3.2426 - 0s/epoch - 0s/step\n",
      "Epoch 45/100\n",
      "5/5 - 0s - loss: 3.2918 - 16ms/epoch - 3ms/step\n",
      "Epoch 46/100\n",
      "5/5 - 0s - loss: 2.9081 - 0s/epoch - 0s/step\n",
      "Epoch 47/100\n",
      "5/5 - 0s - loss: 2.7522 - 0s/epoch - 0s/step\n",
      "Epoch 48/100\n",
      "5/5 - 0s - loss: 2.5251 - 16ms/epoch - 3ms/step\n",
      "Epoch 49/100\n",
      "5/5 - 0s - loss: 2.4879 - 0s/epoch - 0s/step\n",
      "Epoch 50/100\n",
      "5/5 - 0s - loss: 2.9914 - 0s/epoch - 0s/step\n",
      "Epoch 51/100\n",
      "5/5 - 0s - loss: 2.3195 - 16ms/epoch - 3ms/step\n",
      "Epoch 52/100\n",
      "5/5 - 0s - loss: 2.7761 - 0s/epoch - 0s/step\n",
      "Epoch 53/100\n",
      "5/5 - 0s - loss: 2.4763 - 0s/epoch - 0s/step\n",
      "Epoch 54/100\n",
      "5/5 - 0s - loss: 2.7852 - 16ms/epoch - 3ms/step\n",
      "Epoch 55/100\n",
      "5/5 - 0s - loss: 2.3437 - 0s/epoch - 0s/step\n",
      "Epoch 56/100\n",
      "5/5 - 0s - loss: 2.4445 - 0s/epoch - 0s/step\n",
      "Epoch 57/100\n",
      "5/5 - 0s - loss: 2.3847 - 16ms/epoch - 3ms/step\n",
      "Epoch 58/100\n",
      "5/5 - 0s - loss: 2.3942 - 0s/epoch - 0s/step\n",
      "Epoch 59/100\n",
      "5/5 - 0s - loss: 3.5346 - 0s/epoch - 0s/step\n",
      "Epoch 60/100\n",
      "5/5 - 0s - loss: 2.3444 - 16ms/epoch - 3ms/step\n",
      "Epoch 61/100\n",
      "5/5 - 0s - loss: 2.2840 - 0s/epoch - 0s/step\n",
      "Epoch 62/100\n",
      "5/5 - 0s - loss: 2.4323 - 0s/epoch - 0s/step\n",
      "Epoch 63/100\n",
      "5/5 - 0s - loss: 2.5416 - 0s/epoch - 0s/step\n",
      "Epoch 64/100\n",
      "5/5 - 0s - loss: 2.3579 - 0s/epoch - 0s/step\n",
      "Epoch 65/100\n",
      "5/5 - 0s - loss: 2.3804 - 0s/epoch - 0s/step\n",
      "Epoch 66/100\n",
      "5/5 - 0s - loss: 2.5719 - 0s/epoch - 0s/step\n",
      "Epoch 67/100\n",
      "5/5 - 0s - loss: 2.3435 - 0s/epoch - 0s/step\n",
      "Epoch 68/100\n",
      "5/5 - 0s - loss: 2.3889 - 0s/epoch - 0s/step\n",
      "Epoch 69/100\n",
      "5/5 - 0s - loss: 2.6878 - 0s/epoch - 0s/step\n",
      "Epoch 70/100\n",
      "5/5 - 0s - loss: 2.5670 - 0s/epoch - 0s/step\n",
      "Epoch 71/100\n",
      "5/5 - 0s - loss: 2.5734 - 16ms/epoch - 3ms/step\n",
      "Epoch 72/100\n",
      "5/5 - 0s - loss: 2.6000 - 0s/epoch - 0s/step\n",
      "Epoch 73/100\n",
      "5/5 - 0s - loss: 2.4871 - 0s/epoch - 0s/step\n",
      "Epoch 74/100\n",
      "5/5 - 0s - loss: 2.4792 - 16ms/epoch - 3ms/step\n",
      "Epoch 75/100\n",
      "5/5 - 0s - loss: 2.6710 - 0s/epoch - 0s/step\n",
      "Epoch 76/100\n",
      "5/5 - 0s - loss: 2.5220 - 0s/epoch - 0s/step\n",
      "Epoch 77/100\n",
      "5/5 - 0s - loss: 2.3899 - 0s/epoch - 0s/step\n",
      "Epoch 78/100\n",
      "5/5 - 0s - loss: 2.0944 - 0s/epoch - 0s/step\n",
      "Epoch 79/100\n",
      "5/5 - 0s - loss: 2.3015 - 0s/epoch - 0s/step\n",
      "Epoch 80/100\n",
      "5/5 - 0s - loss: 2.5923 - 0s/epoch - 0s/step\n",
      "Epoch 81/100\n",
      "5/5 - 0s - loss: 2.7159 - 0s/epoch - 0s/step\n",
      "Epoch 82/100\n",
      "5/5 - 0s - loss: 2.3971 - 0s/epoch - 0s/step\n",
      "Epoch 83/100\n",
      "5/5 - 0s - loss: 2.7745 - 0s/epoch - 0s/step\n",
      "Epoch 84/100\n",
      "5/5 - 0s - loss: 2.2761 - 0s/epoch - 0s/step\n",
      "Epoch 85/100\n",
      "5/5 - 0s - loss: 2.2757 - 0s/epoch - 0s/step\n",
      "Epoch 86/100\n",
      "5/5 - 0s - loss: 2.5806 - 16ms/epoch - 3ms/step\n",
      "Epoch 87/100\n",
      "5/5 - 0s - loss: 2.8174 - 0s/epoch - 0s/step\n",
      "Epoch 88/100\n",
      "5/5 - 0s - loss: 2.4804 - 0s/epoch - 0s/step\n",
      "Epoch 89/100\n",
      "5/5 - 0s - loss: 2.3062 - 16ms/epoch - 3ms/step\n",
      "Epoch 90/100\n",
      "5/5 - 0s - loss: 2.4757 - 0s/epoch - 0s/step\n",
      "Epoch 91/100\n",
      "5/5 - 0s - loss: 2.5643 - 0s/epoch - 0s/step\n",
      "Epoch 92/100\n",
      "5/5 - 0s - loss: 2.6537 - 16ms/epoch - 3ms/step\n",
      "Epoch 93/100\n",
      "5/5 - 0s - loss: 2.4923 - 0s/epoch - 0s/step\n",
      "Epoch 94/100\n",
      "5/5 - 0s - loss: 2.2410 - 0s/epoch - 0s/step\n",
      "Epoch 95/100\n",
      "5/5 - 0s - loss: 2.4391 - 16ms/epoch - 3ms/step\n",
      "Epoch 96/100\n",
      "5/5 - 0s - loss: 2.6685 - 0s/epoch - 0s/step\n",
      "Epoch 97/100\n",
      "5/5 - 0s - loss: 2.0615 - 0s/epoch - 0s/step\n",
      "Epoch 98/100\n",
      "5/5 - 0s - loss: 2.3800 - 16ms/epoch - 3ms/step\n",
      "Epoch 99/100\n",
      "5/5 - 0s - loss: 2.3248 - 0s/epoch - 0s/step\n",
      "Epoch 100/100\n",
      "5/5 - 0s - loss: 2.3745 - 0s/epoch - 0s/step\n",
      "len(model.layers): 2\n"
     ]
    }
   ],
   "source": [
    "ret = model.fit(x, y_true, epochs=100, batch_size=4, verbose=2) #2: one line per epoch\n",
    "print(\"len(model.layers):\", len(model.layers)) # 2"
   ],
   "metadata": {
    "collapsed": false,
    "ExecuteTime": {
     "start_time": "2023-04-21T16:27:36.524664Z",
     "end_time": "2023-04-21T16:27:37.304402Z"
    }
   }
  },
  {
   "cell_type": "markdown",
   "source": [
    "### 결과값 확인"
   ],
   "metadata": {
    "collapsed": false
   }
  },
  {
   "cell_type": "code",
   "execution_count": 12,
   "outputs": [
    {
     "name": "stdout",
     "output_type": "stream",
     "text": [
      "loss: 2.3745005130767822\n",
      "weights: [[3.1796675]]\n",
      "bias: [-10.979975]\n"
     ]
    }
   ],
   "source": [
    "loss = ret.history['loss']\n",
    "print(\"loss:\", loss[-1])\n",
    "#print(model.get_weights())  # weights, bias\n",
    "print(\"weights:\", model.layers[1].weights[0].numpy())\n",
    "print(\"bias:\", model.layers[1].weights[1].numpy()) # model.layers[1].bias.numpy()"
   ],
   "metadata": {
    "collapsed": false,
    "ExecuteTime": {
     "start_time": "2023-04-21T16:27:46.369766Z",
     "end_time": "2023-04-21T16:27:46.401009Z"
    }
   }
  },
  {
   "cell_type": "markdown",
   "source": [
    "### 시각화"
   ],
   "metadata": {
    "collapsed": false
   }
  },
  {
   "cell_type": "code",
   "execution_count": 13,
   "outputs": [
    {
     "name": "stdout",
     "output_type": "stream",
     "text": [
      "1/1 [==============================] - 0s 47ms/step\n"
     ]
    },
    {
     "data": {
      "text/plain": "<Figure size 1000x500 with 2 Axes>",
      "image/png": "[encoded data removed]"
     },
     "metadata": {},
     "output_type": "display_data"
    }
   ],
   "source": [
    "fig, axs = plt.subplots(1,2, figsize=(10, 5))\n",
    "axs[0].plot(loss)\n",
    "axs[0].set_xlabel('epochs')\n",
    "axs[0].set_ylabel('loss')\n",
    "\n",
    "axs[1].scatter(x, y_true)\n",
    "y_pred = model.predict(x)\n",
    "axs[1].plot(x, y_pred, color='red')\n",
    "axs[1].set_xlabel('x')\n",
    "axs[1].set_ylabel('y')\n",
    "plt.show()"
   ],
   "metadata": {
    "collapsed": false,
    "ExecuteTime": {
     "start_time": "2023-04-21T16:28:09.151747Z",
     "end_time": "2023-04-21T16:28:09.464246Z"
    }
   }
  },
  {
   "cell_type": "markdown",
   "source": [
    "## 2. Linear Regression with two variables\n",
    "+ [ 2 x 2 ] [ 2 x 1 ] = [ 2 x 1 ]"
   ],
   "metadata": {
    "collapsed": false
   }
  },
  {
   "cell_type": "markdown",
   "source": [
    "### Data 만들기\n",
    "+ data에 따라 결과 달라지는거 확인"
   ],
   "metadata": {
    "collapsed": false
   }
  },
  {
   "cell_type": "code",
   "execution_count": 14,
   "outputs": [],
   "source": [
    "train_data = np.array([ # t = 1*x0 + 2*x1 + 3\n",
    "#  x0, x1, t\n",
    " [ 1,  0,  4],\n",
    " [ 2,  0,  5],\n",
    " [ 3,  0,  6],\n",
    " [ 4,  0,  7],\n",
    " [ 1,  1,  6],\n",
    " [ 2,  1,  7],\n",
    " [ 3,  1,  8],\n",
    " [ 4,  1,  9]], dtype=np.float32)\n",
    "\n",
    "X      = train_data[:, :-1]\n",
    "y_true = train_data[:, -1:]  # t\n",
    "##y_true += np.reshape(np.random.randn(len(y_true))*2.0, (-1, 1))"
   ],
   "metadata": {
    "collapsed": false,
    "ExecuteTime": {
     "start_time": "2023-04-21T16:28:36.004048Z",
     "end_time": "2023-04-21T16:28:36.035381Z"
    }
   }
  },
  {
   "cell_type": "markdown",
   "source": [
    "### Model 만들기"
   ],
   "metadata": {
    "collapsed": false
   }
  },
  {
   "cell_type": "code",
   "execution_count": 15,
   "outputs": [
    {
     "name": "stdout",
     "output_type": "stream",
     "text": [
      "Model: \"model_4\"\n",
      "_________________________________________________________________\n",
      " Layer (type)                Output Shape              Param #   \n",
      "=================================================================\n",
      " input_5 (InputLayer)        [(None, 2)]               0         \n",
      "                                                                 \n",
      " dense_4 (Dense)             (None, 1)                 3         \n",
      "                                                                 \n",
      "=================================================================\n",
      "Total params: 3\n",
      "Trainable params: 3\n",
      "Non-trainable params: 0\n",
      "_________________________________________________________________\n"
     ]
    }
   ],
   "source": [
    "inputs = tf.keras.layers.Input(shape=(2,))\n",
    "##y = tf.keras.layers.Dense(units=1)  # ,input_shape=(2,))\n",
    "##outputs = y(inputs)\n",
    "outputs = tf.keras.layers.Dense(units=1)(inputs)\n",
    "\n",
    "model = tf.keras.Model(inputs=inputs, outputs=outputs)\n",
    "model.summary()"
   ],
   "metadata": {
    "collapsed": false,
    "ExecuteTime": {
     "start_time": "2023-04-21T16:28:47.937086Z",
     "end_time": "2023-04-21T16:28:47.999572Z"
    }
   }
  },
  {
   "cell_type": "markdown",
   "source": [
    "### 학습시키기"
   ],
   "metadata": {
    "collapsed": false
   }
  },
  {
   "cell_type": "code",
   "execution_count": 16,
   "outputs": [],
   "source": [
    "##opt = tf.keras.optimizers.SGD(learning_rate=0.01)  # optimizer='sgd'\n",
    "##opt = tf.keras.optimizers.Adam(learning_rate=0.01) # 'adam'\n",
    "opt = tf.keras.optimizers.RMSprop(learning_rate=0.1) # 'rmsprop'\n",
    "model.compile(optimizer=opt, loss='mse') # 'mean_squared_error'"
   ],
   "metadata": {
    "collapsed": false,
    "ExecuteTime": {
     "start_time": "2023-04-21T16:28:56.720256Z",
     "end_time": "2023-04-21T16:28:56.751493Z"
    }
   }
  },
  {
   "cell_type": "code",
   "execution_count": 17,
   "outputs": [
    {
     "name": "stdout",
     "output_type": "stream",
     "text": [
      "Epoch 1/100\n",
      "2/2 - 0s - loss: 28.4482 - 156ms/epoch - 78ms/step\n",
      "Epoch 2/100\n",
      "2/2 - 0s - loss: 12.7128 - 0s/epoch - 0s/step\n",
      "Epoch 3/100\n",
      "2/2 - 0s - loss: 7.0903 - 0s/epoch - 0s/step\n",
      "Epoch 4/100\n",
      "2/2 - 0s - loss: 4.3500 - 16ms/epoch - 8ms/step\n",
      "Epoch 5/100\n",
      "2/2 - 0s - loss: 2.9198 - 0s/epoch - 0s/step\n",
      "Epoch 6/100\n",
      "2/2 - 0s - loss: 2.2181 - 0s/epoch - 0s/step\n",
      "Epoch 7/100\n",
      "2/2 - 0s - loss: 1.9103 - 0s/epoch - 0s/step\n",
      "Epoch 8/100\n",
      "2/2 - 0s - loss: 1.6318 - 0s/epoch - 0s/step\n",
      "Epoch 9/100\n",
      "2/2 - 0s - loss: 1.4677 - 0s/epoch - 0s/step\n",
      "Epoch 10/100\n",
      "2/2 - 0s - loss: 1.3862 - 0s/epoch - 0s/step\n",
      "Epoch 11/100\n",
      "2/2 - 0s - loss: 1.2564 - 0s/epoch - 0s/step\n",
      "Epoch 12/100\n",
      "2/2 - 0s - loss: 1.1405 - 0s/epoch - 0s/step\n",
      "Epoch 13/100\n",
      "2/2 - 0s - loss: 1.0874 - 16ms/epoch - 8ms/step\n",
      "Epoch 14/100\n",
      "2/2 - 0s - loss: 0.9172 - 0s/epoch - 0s/step\n",
      "Epoch 15/100\n",
      "2/2 - 0s - loss: 0.8790 - 0s/epoch - 0s/step\n",
      "Epoch 16/100\n",
      "2/2 - 0s - loss: 0.6906 - 0s/epoch - 0s/step\n",
      "Epoch 17/100\n",
      "2/2 - 0s - loss: 0.6670 - 0s/epoch - 0s/step\n",
      "Epoch 18/100\n",
      "2/2 - 0s - loss: 0.5898 - 16ms/epoch - 8ms/step\n",
      "Epoch 19/100\n",
      "2/2 - 0s - loss: 0.4681 - 0s/epoch - 0s/step\n",
      "Epoch 20/100\n",
      "2/2 - 0s - loss: 0.3929 - 0s/epoch - 0s/step\n",
      "Epoch 21/100\n",
      "2/2 - 0s - loss: 0.3291 - 0s/epoch - 0s/step\n",
      "Epoch 22/100\n",
      "2/2 - 0s - loss: 0.2607 - 16ms/epoch - 8ms/step\n",
      "Epoch 23/100\n",
      "2/2 - 0s - loss: 0.2698 - 0s/epoch - 0s/step\n",
      "Epoch 24/100\n",
      "2/2 - 0s - loss: 0.2520 - 0s/epoch - 0s/step\n",
      "Epoch 25/100\n",
      "2/2 - 0s - loss: 0.1600 - 0s/epoch - 0s/step\n",
      "Epoch 26/100\n",
      "2/2 - 0s - loss: 0.1254 - 0s/epoch - 0s/step\n",
      "Epoch 27/100\n",
      "2/2 - 0s - loss: 0.0967 - 16ms/epoch - 8ms/step\n",
      "Epoch 28/100\n",
      "2/2 - 0s - loss: 0.0773 - 0s/epoch - 0s/step\n",
      "Epoch 29/100\n",
      "2/2 - 0s - loss: 0.0628 - 0s/epoch - 0s/step\n",
      "Epoch 30/100\n",
      "2/2 - 0s - loss: 0.0987 - 0s/epoch - 0s/step\n",
      "Epoch 31/100\n",
      "2/2 - 0s - loss: 0.0736 - 0s/epoch - 0s/step\n",
      "Epoch 32/100\n",
      "2/2 - 0s - loss: 0.0970 - 16ms/epoch - 8ms/step\n",
      "Epoch 33/100\n",
      "2/2 - 0s - loss: 0.0581 - 0s/epoch - 0s/step\n",
      "Epoch 34/100\n",
      "2/2 - 0s - loss: 0.0255 - 0s/epoch - 0s/step\n",
      "Epoch 35/100\n",
      "2/2 - 0s - loss: 0.0179 - 0s/epoch - 0s/step\n",
      "Epoch 36/100\n",
      "2/2 - 0s - loss: 0.0271 - 0s/epoch - 0s/step\n",
      "Epoch 37/100\n",
      "2/2 - 0s - loss: 0.1038 - 16ms/epoch - 8ms/step\n",
      "Epoch 38/100\n",
      "2/2 - 0s - loss: 0.0771 - 0s/epoch - 0s/step\n",
      "Epoch 39/100\n",
      "2/2 - 0s - loss: 0.0601 - 0s/epoch - 0s/step\n",
      "Epoch 40/100\n",
      "2/2 - 0s - loss: 0.0368 - 0s/epoch - 0s/step\n",
      "Epoch 41/100\n",
      "2/2 - 0s - loss: 0.0173 - 0s/epoch - 0s/step\n",
      "Epoch 42/100\n",
      "2/2 - 0s - loss: 0.0184 - 0s/epoch - 0s/step\n",
      "Epoch 43/100\n",
      "2/2 - 0s - loss: 0.0353 - 0s/epoch - 0s/step\n",
      "Epoch 44/100\n",
      "2/2 - 0s - loss: 0.0461 - 0s/epoch - 0s/step\n",
      "Epoch 45/100\n",
      "2/2 - 0s - loss: 0.0539 - 0s/epoch - 0s/step\n",
      "Epoch 46/100\n",
      "2/2 - 0s - loss: 0.1159 - 16ms/epoch - 8ms/step\n",
      "Epoch 47/100\n",
      "2/2 - 0s - loss: 0.0296 - 0s/epoch - 0s/step\n",
      "Epoch 48/100\n",
      "2/2 - 0s - loss: 0.0114 - 0s/epoch - 0s/step\n",
      "Epoch 49/100\n",
      "2/2 - 0s - loss: 6.7525e-04 - 0s/epoch - 0s/step\n",
      "Epoch 50/100\n",
      "2/2 - 0s - loss: 0.0021 - 0s/epoch - 0s/step\n",
      "Epoch 51/100\n",
      "2/2 - 0s - loss: 0.0150 - 16ms/epoch - 8ms/step\n",
      "Epoch 52/100\n",
      "2/2 - 0s - loss: 0.0508 - 0s/epoch - 0s/step\n",
      "Epoch 53/100\n",
      "2/2 - 0s - loss: 0.1569 - 0s/epoch - 0s/step\n",
      "Epoch 54/100\n",
      "2/2 - 0s - loss: 0.0662 - 0s/epoch - 0s/step\n",
      "Epoch 55/100\n",
      "2/2 - 0s - loss: 0.0174 - 0s/epoch - 0s/step\n",
      "Epoch 56/100\n",
      "2/2 - 0s - loss: 0.0111 - 16ms/epoch - 8ms/step\n",
      "Epoch 57/100\n",
      "2/2 - 0s - loss: 0.0170 - 0s/epoch - 0s/step\n",
      "Epoch 58/100\n",
      "2/2 - 0s - loss: 0.0360 - 0s/epoch - 0s/step\n",
      "Epoch 59/100\n",
      "2/2 - 0s - loss: 0.0434 - 0s/epoch - 0s/step\n",
      "Epoch 60/100\n",
      "2/2 - 0s - loss: 0.0213 - 16ms/epoch - 8ms/step\n",
      "Epoch 61/100\n",
      "2/2 - 0s - loss: 0.0637 - 0s/epoch - 0s/step\n",
      "Epoch 62/100\n",
      "2/2 - 0s - loss: 0.0819 - 0s/epoch - 0s/step\n",
      "Epoch 63/100\n",
      "2/2 - 0s - loss: 0.0231 - 0s/epoch - 0s/step\n",
      "Epoch 64/100\n",
      "2/2 - 0s - loss: 0.0246 - 16ms/epoch - 8ms/step\n",
      "Epoch 65/100\n",
      "2/2 - 0s - loss: 0.0225 - 0s/epoch - 0s/step\n",
      "Epoch 66/100\n",
      "2/2 - 0s - loss: 0.0357 - 0s/epoch - 0s/step\n",
      "Epoch 67/100\n",
      "2/2 - 0s - loss: 0.0230 - 16ms/epoch - 8ms/step\n",
      "Epoch 68/100\n",
      "2/2 - 0s - loss: 0.0049 - 0s/epoch - 0s/step\n",
      "Epoch 69/100\n",
      "2/2 - 0s - loss: 0.0158 - 0s/epoch - 0s/step\n",
      "Epoch 70/100\n",
      "2/2 - 0s - loss: 0.1152 - 0s/epoch - 0s/step\n",
      "Epoch 71/100\n",
      "2/2 - 0s - loss: 0.1553 - 0s/epoch - 0s/step\n",
      "Epoch 72/100\n",
      "2/2 - 0s - loss: 0.0193 - 0s/epoch - 0s/step\n",
      "Epoch 73/100\n",
      "2/2 - 0s - loss: 0.0082 - 0s/epoch - 0s/step\n",
      "Epoch 74/100\n",
      "2/2 - 0s - loss: 0.0070 - 16ms/epoch - 8ms/step\n",
      "Epoch 75/100\n",
      "2/2 - 0s - loss: 0.0022 - 0s/epoch - 0s/step\n",
      "Epoch 76/100\n",
      "2/2 - 0s - loss: 0.0102 - 0s/epoch - 0s/step\n",
      "Epoch 77/100\n",
      "2/2 - 0s - loss: 0.0452 - 0s/epoch - 0s/step\n",
      "Epoch 78/100\n",
      "2/2 - 0s - loss: 0.1402 - 16ms/epoch - 8ms/step\n",
      "Epoch 79/100\n",
      "2/2 - 0s - loss: 0.1061 - 0s/epoch - 0s/step\n",
      "Epoch 80/100\n",
      "2/2 - 0s - loss: 0.0032 - 0s/epoch - 0s/step\n",
      "Epoch 81/100\n",
      "2/2 - 0s - loss: 0.0068 - 0s/epoch - 0s/step\n",
      "Epoch 82/100\n",
      "2/2 - 0s - loss: 0.0010 - 0s/epoch - 0s/step\n",
      "Epoch 83/100\n",
      "2/2 - 0s - loss: 2.9436e-04 - 0s/epoch - 0s/step\n",
      "Epoch 84/100\n",
      "2/2 - 0s - loss: 2.4522e-04 - 7ms/epoch - 3ms/step\n",
      "Epoch 85/100\n",
      "2/2 - 0s - loss: 0.0014 - 0s/epoch - 0s/step\n",
      "Epoch 86/100\n",
      "2/2 - 0s - loss: 0.0048 - 0s/epoch - 0s/step\n",
      "Epoch 87/100\n",
      "2/2 - 0s - loss: 0.0459 - 0s/epoch - 0s/step\n",
      "Epoch 88/100\n",
      "2/2 - 0s - loss: 0.1908 - 0s/epoch - 0s/step\n",
      "Epoch 89/100\n",
      "2/2 - 0s - loss: 0.0689 - 16ms/epoch - 8ms/step\n",
      "Epoch 90/100\n",
      "2/2 - 0s - loss: 0.0218 - 0s/epoch - 0s/step\n",
      "Epoch 91/100\n",
      "2/2 - 0s - loss: 0.0022 - 0s/epoch - 0s/step\n",
      "Epoch 92/100\n",
      "2/2 - 0s - loss: 0.0037 - 0s/epoch - 0s/step\n",
      "Epoch 93/100\n",
      "2/2 - 0s - loss: 8.1970e-04 - 16ms/epoch - 8ms/step\n",
      "Epoch 94/100\n",
      "2/2 - 0s - loss: 0.0023 - 0s/epoch - 0s/step\n",
      "Epoch 95/100\n",
      "2/2 - 0s - loss: 0.0028 - 0s/epoch - 0s/step\n",
      "Epoch 96/100\n",
      "2/2 - 0s - loss: 0.0024 - 0s/epoch - 0s/step\n",
      "Epoch 97/100\n",
      "2/2 - 0s - loss: 0.0398 - 0s/epoch - 0s/step\n",
      "Epoch 98/100\n",
      "2/2 - 0s - loss: 0.3209 - 16ms/epoch - 8ms/step\n",
      "Epoch 99/100\n",
      "2/2 - 0s - loss: 0.0159 - 0s/epoch - 0s/step\n",
      "Epoch 100/100\n",
      "2/2 - 0s - loss: 0.0020 - 0s/epoch - 0s/step\n",
      "1/1 [==============================] - 0s 31ms/step\n",
      "y_pred: [[3.9658291]\n",
      " [4.969633 ]\n",
      " [5.9734373]\n",
      " [6.977241 ]\n",
      " [5.9546537]\n",
      " [6.958458 ]\n",
      " [7.9622617]\n",
      " [8.966066 ]]\n",
      "len(model.layers): 2\n"
     ]
    }
   ],
   "source": [
    "ret = model.fit(X, y_true, epochs=100, batch_size=4, verbose=2) # 2: one line per epoch\n",
    "y_pred = model.predict(X)\n",
    "print(\"y_pred:\", y_pred)\n",
    "print(\"len(model.layers):\", len(model.layers)) # 2"
   ],
   "metadata": {
    "collapsed": false,
    "ExecuteTime": {
     "start_time": "2023-04-21T16:29:26.548950Z",
     "end_time": "2023-04-21T16:29:27.165123Z"
    }
   }
  },
  {
   "cell_type": "markdown",
   "source": [
    "### 결과값 확인"
   ],
   "metadata": {
    "collapsed": false
   }
  },
  {
   "cell_type": "code",
   "execution_count": 19,
   "outputs": [
    {
     "name": "stdout",
     "output_type": "stream",
     "text": [
      "loss: 0.002023575361818075\n",
      "weights: [[1.003804 ]\n",
      " [1.9888246]]\n",
      "bias: [2.9620252]\n"
     ]
    }
   ],
   "source": [
    "loss = ret.history['loss']\n",
    "print(\"loss:\", loss[-1])\n",
    "#print(model.get_weights())\n",
    "print(\"weights:\", model.layers[1].weights[0].numpy())\n",
    "print(\"bias:\", model.layers[1].weights[1].numpy()) # model.layers[1].bias.numpy()"
   ],
   "metadata": {
    "collapsed": false,
    "ExecuteTime": {
     "start_time": "2023-04-21T16:29:44.132736Z",
     "end_time": "2023-04-21T16:29:44.229520Z"
    }
   }
  },
  {
   "cell_type": "markdown",
   "source": [
    "### 시각화"
   ],
   "metadata": {
    "collapsed": false
   }
  },
  {
   "cell_type": "code",
   "execution_count": 20,
   "outputs": [
    {
     "data": {
      "text/plain": "<Figure size 640x480 with 1 Axes>",
      "image/png": "[encoded data removed]"
     },
     "metadata": {},
     "output_type": "display_data"
    }
   ],
   "source": [
    "plt.plot(loss)\n",
    "plt.xlabel('epochs')\n",
    "plt.ylabel('loss')\n",
    "plt.show()"
   ],
   "metadata": {
    "collapsed": false,
    "ExecuteTime": {
     "start_time": "2023-04-21T16:29:58.084769Z",
     "end_time": "2023-04-21T16:29:58.194144Z"
    }
   }
  },
  {
   "cell_type": "markdown",
   "source": [
    "## 3. Polynomial Regression"
   ],
   "metadata": {
    "collapsed": false
   }
  },
  {
   "cell_type": "markdown",
   "source": [
    "### DATA 만들기"
   ],
   "metadata": {
    "collapsed": false
   }
  },
  {
   "cell_type": "code",
   "execution_count": 21,
   "outputs": [],
   "source": [
    "def dataset(train_size=100): # tensorflow\n",
    "     tf.random.set_seed(1)\n",
    "     x = tf.linspace(-5.0, 5.0, num=train_size)\n",
    "     y = 3.0*x**3 + 2.0*x**2 + x + 4.0\n",
    "     y += tf.random.normal([train_size], mean=0.0, stddev = 30.0)\n",
    "     return x, y\n",
    "x, y_true = dataset(20)"
   ],
   "metadata": {
    "collapsed": false,
    "ExecuteTime": {
     "start_time": "2023-04-21T16:30:47.921935Z",
     "end_time": "2023-04-21T16:30:48.000045Z"
    }
   }
  },
  {
   "cell_type": "code",
   "execution_count": 22,
   "outputs": [],
   "source": [
    "# n-차 다항식 회귀\n",
    "n = 3\n",
    "X = np.ones(shape = (len(x), n+1), dtype=np.float32)\n",
    "##X[:, 0] = 1.0\n",
    "##X[:, 1] = x\n",
    "##X[:, 2] = x**2\n",
    "##X[:, 3] = x**3\n",
    "for i in range(1, n+1):\n",
    "     X[:, i] = x**i"
   ],
   "metadata": {
    "collapsed": false,
    "ExecuteTime": {
     "start_time": "2023-04-21T16:30:55.537469Z",
     "end_time": "2023-04-21T16:30:55.568712Z"
    }
   }
  },
  {
   "cell_type": "markdown",
   "source": [
    "### Model 만들기"
   ],
   "metadata": {
    "collapsed": false
   }
  },
  {
   "cell_type": "code",
   "execution_count": 23,
   "outputs": [
    {
     "name": "stdout",
     "output_type": "stream",
     "text": [
      "Model: \"model_5\"\n",
      "_________________________________________________________________\n",
      " Layer (type)                Output Shape              Param #   \n",
      "=================================================================\n",
      " input_6 (InputLayer)        [(None, 4)]               0         \n",
      "                                                                 \n",
      " dense_5 (Dense)             (None, 1)                 4         \n",
      "                                                                 \n",
      "=================================================================\n",
      "Total params: 4\n",
      "Trainable params: 4\n",
      "Non-trainable params: 0\n",
      "_________________________________________________________________\n"
     ]
    }
   ],
   "source": [
    "inputs = tf.keras.layers.Input(shape=(n+1,))\n",
    "outputs = tf.keras.layers.Dense(units=1, use_bias=False)(inputs)\n",
    "model = tf.keras.Model(inputs=inputs, outputs=outputs)\n",
    "model.summary()"
   ],
   "metadata": {
    "collapsed": false,
    "ExecuteTime": {
     "start_time": "2023-04-21T16:31:03.151434Z",
     "end_time": "2023-04-21T16:31:03.213919Z"
    }
   }
  },
  {
   "cell_type": "markdown",
   "source": [
    "### 학습 시키기"
   ],
   "metadata": {
    "collapsed": false
   }
  },
  {
   "cell_type": "code",
   "execution_count": 25,
   "outputs": [],
   "source": [
    "opt = tf.keras.optimizers.RMSprop(learning_rate=0.1)\n",
    "model.compile(optimizer=opt, loss='mse')"
   ],
   "metadata": {
    "collapsed": false,
    "ExecuteTime": {
     "start_time": "2023-04-21T16:31:18.187147Z",
     "end_time": "2023-04-21T16:31:18.234128Z"
    }
   }
  },
  {
   "cell_type": "code",
   "execution_count": 26,
   "outputs": [
    {
     "name": "stdout",
     "output_type": "stream",
     "text": [
      "Epoch 1/100\n",
      "1/1 - 0s - loss: 41968.4766 - 172ms/epoch - 172ms/step\n",
      "Epoch 2/100\n",
      "1/1 - 0s - loss: 34795.1562 - 0s/epoch - 0s/step\n",
      "Epoch 3/100\n",
      "1/1 - 0s - loss: 30240.2871 - 0s/epoch - 0s/step\n",
      "Epoch 4/100\n",
      "1/1 - 0s - loss: 26786.2188 - 0s/epoch - 0s/step\n",
      "Epoch 5/100\n",
      "1/1 - 0s - loss: 23971.6836 - 0s/epoch - 0s/step\n",
      "Epoch 6/100\n",
      "1/1 - 0s - loss: 21587.0469 - 0s/epoch - 0s/step\n",
      "Epoch 7/100\n",
      "1/1 - 0s - loss: 19516.9629 - 0s/epoch - 0s/step\n",
      "Epoch 8/100\n",
      "1/1 - 0s - loss: 17690.2812 - 0s/epoch - 0s/step\n",
      "Epoch 9/100\n",
      "1/1 - 0s - loss: 16059.6074 - 0s/epoch - 0s/step\n",
      "Epoch 10/100\n",
      "1/1 - 0s - loss: 14591.5781 - 0s/epoch - 0s/step\n",
      "Epoch 11/100\n",
      "1/1 - 0s - loss: 13261.7002 - 0s/epoch - 0s/step\n",
      "Epoch 12/100\n",
      "1/1 - 0s - loss: 12051.3799 - 0s/epoch - 0s/step\n",
      "Epoch 13/100\n",
      "1/1 - 0s - loss: 10946.1230 - 0s/epoch - 0s/step\n",
      "Epoch 14/100\n",
      "1/1 - 0s - loss: 9934.3691 - 0s/epoch - 0s/step\n",
      "Epoch 15/100\n",
      "1/1 - 0s - loss: 9006.7031 - 0s/epoch - 0s/step\n",
      "Epoch 16/100\n",
      "1/1 - 0s - loss: 8155.3350 - 16ms/epoch - 16ms/step\n",
      "Epoch 17/100\n",
      "1/1 - 0s - loss: 7373.7017 - 0s/epoch - 0s/step\n",
      "Epoch 18/100\n",
      "1/1 - 0s - loss: 6656.1924 - 0s/epoch - 0s/step\n",
      "Epoch 19/100\n",
      "1/1 - 0s - loss: 5997.9399 - 0s/epoch - 0s/step\n",
      "Epoch 20/100\n",
      "1/1 - 0s - loss: 5394.6680 - 0s/epoch - 0s/step\n",
      "Epoch 21/100\n",
      "1/1 - 0s - loss: 4842.5693 - 16ms/epoch - 16ms/step\n",
      "Epoch 22/100\n",
      "1/1 - 0s - loss: 4338.2124 - 0s/epoch - 0s/step\n",
      "Epoch 23/100\n",
      "1/1 - 0s - loss: 3878.4688 - 0s/epoch - 0s/step\n",
      "Epoch 24/100\n",
      "1/1 - 0s - loss: 3460.4570 - 0s/epoch - 0s/step\n",
      "Epoch 25/100\n",
      "1/1 - 0s - loss: 3081.4976 - 16ms/epoch - 16ms/step\n",
      "Epoch 26/100\n",
      "1/1 - 0s - loss: 2739.0708 - 0s/epoch - 0s/step\n",
      "Epoch 27/100\n",
      "1/1 - 0s - loss: 2430.7969 - 0s/epoch - 0s/step\n",
      "Epoch 28/100\n",
      "1/1 - 0s - loss: 2154.4043 - 0s/epoch - 0s/step\n",
      "Epoch 29/100\n",
      "1/1 - 0s - loss: 1907.7133 - 0s/epoch - 0s/step\n",
      "Epoch 30/100\n",
      "1/1 - 0s - loss: 1688.6266 - 0s/epoch - 0s/step\n",
      "Epoch 31/100\n",
      "1/1 - 0s - loss: 1495.1119 - 16ms/epoch - 16ms/step\n",
      "Epoch 32/100\n",
      "1/1 - 0s - loss: 1325.2002 - 0s/epoch - 0s/step\n",
      "Epoch 33/100\n",
      "1/1 - 0s - loss: 1176.9772 - 0s/epoch - 0s/step\n",
      "Epoch 34/100\n",
      "1/1 - 0s - loss: 1048.5852 - 0s/epoch - 0s/step\n",
      "Epoch 35/100\n",
      "1/1 - 0s - loss: 938.2205 - 0s/epoch - 0s/step\n",
      "Epoch 36/100\n",
      "1/1 - 0s - loss: 844.1378 - 0s/epoch - 0s/step\n",
      "Epoch 37/100\n",
      "1/1 - 0s - loss: 764.6532 - 16ms/epoch - 16ms/step\n",
      "Epoch 38/100\n",
      "1/1 - 0s - loss: 698.1508 - 0s/epoch - 0s/step\n",
      "Epoch 39/100\n",
      "1/1 - 0s - loss: 643.0901 - 0s/epoch - 0s/step\n",
      "Epoch 40/100\n",
      "1/1 - 0s - loss: 598.0122 - 0s/epoch - 0s/step\n",
      "Epoch 41/100\n",
      "1/1 - 0s - loss: 561.5495 - 0s/epoch - 0s/step\n",
      "Epoch 42/100\n",
      "1/1 - 0s - loss: 532.4323 - 0s/epoch - 0s/step\n",
      "Epoch 43/100\n",
      "1/1 - 0s - loss: 509.4958 - 16ms/epoch - 16ms/step\n",
      "Epoch 44/100\n",
      "1/1 - 0s - loss: 491.6852 - 0s/epoch - 0s/step\n",
      "Epoch 45/100\n",
      "1/1 - 0s - loss: 478.0605 - 0s/epoch - 0s/step\n",
      "Epoch 46/100\n",
      "1/1 - 0s - loss: 467.7951 - 0s/epoch - 0s/step\n",
      "Epoch 47/100\n",
      "1/1 - 0s - loss: 460.1780 - 0s/epoch - 0s/step\n",
      "Epoch 48/100\n",
      "1/1 - 0s - loss: 454.6073 - 0s/epoch - 0s/step\n",
      "Epoch 49/100\n",
      "1/1 - 0s - loss: 450.5843 - 0s/epoch - 0s/step\n",
      "Epoch 50/100\n",
      "1/1 - 0s - loss: 447.7060 - 0s/epoch - 0s/step\n",
      "Epoch 51/100\n",
      "1/1 - 0s - loss: 445.6528 - 0s/epoch - 0s/step\n",
      "Epoch 52/100\n",
      "1/1 - 0s - loss: 444.1807 - 0s/epoch - 0s/step\n",
      "Epoch 53/100\n",
      "1/1 - 0s - loss: 443.1052 - 0s/epoch - 0s/step\n",
      "Epoch 54/100\n",
      "1/1 - 0s - loss: 442.2936 - 0s/epoch - 0s/step\n",
      "Epoch 55/100\n",
      "1/1 - 0s - loss: 441.6518 - 16ms/epoch - 16ms/step\n",
      "Epoch 56/100\n",
      "1/1 - 0s - loss: 441.1159 - 0s/epoch - 0s/step\n",
      "Epoch 57/100\n",
      "1/1 - 0s - loss: 440.6444 - 0s/epoch - 0s/step\n",
      "Epoch 58/100\n",
      "1/1 - 0s - loss: 440.2108 - 0s/epoch - 0s/step\n",
      "Epoch 59/100\n",
      "1/1 - 0s - loss: 439.7980 - 0s/epoch - 0s/step\n",
      "Epoch 60/100\n",
      "1/1 - 0s - loss: 439.3976 - 0s/epoch - 0s/step\n",
      "Epoch 61/100\n",
      "1/1 - 0s - loss: 439.0041 - 16ms/epoch - 16ms/step\n",
      "Epoch 62/100\n",
      "1/1 - 0s - loss: 438.6143 - 0s/epoch - 0s/step\n",
      "Epoch 63/100\n",
      "1/1 - 0s - loss: 438.2267 - 0s/epoch - 0s/step\n",
      "Epoch 64/100\n",
      "1/1 - 0s - loss: 437.8405 - 0s/epoch - 0s/step\n",
      "Epoch 65/100\n",
      "1/1 - 0s - loss: 437.4554 - 12ms/epoch - 12ms/step\n",
      "Epoch 66/100\n",
      "1/1 - 0s - loss: 437.0707 - 0s/epoch - 0s/step\n",
      "Epoch 67/100\n",
      "1/1 - 0s - loss: 436.6857 - 0s/epoch - 0s/step\n",
      "Epoch 68/100\n",
      "1/1 - 0s - loss: 436.3010 - 0s/epoch - 0s/step\n",
      "Epoch 69/100\n",
      "1/1 - 0s - loss: 435.9155 - 0s/epoch - 0s/step\n",
      "Epoch 70/100\n",
      "1/1 - 0s - loss: 435.5297 - 0s/epoch - 0s/step\n",
      "Epoch 71/100\n",
      "1/1 - 0s - loss: 435.1439 - 0s/epoch - 0s/step\n",
      "Epoch 72/100\n",
      "1/1 - 0s - loss: 434.7666 - 0s/epoch - 0s/step\n",
      "Epoch 73/100\n",
      "1/1 - 0s - loss: 434.5142 - 0s/epoch - 0s/step\n",
      "Epoch 74/100\n",
      "1/1 - 0s - loss: 435.5121 - 0s/epoch - 0s/step\n",
      "Epoch 75/100\n",
      "1/1 - 0s - loss: 437.6315 - 0s/epoch - 0s/step\n",
      "Epoch 76/100\n",
      "1/1 - 0s - loss: 434.7008 - 16ms/epoch - 16ms/step\n",
      "Epoch 77/100\n",
      "1/1 - 0s - loss: 433.2406 - 0s/epoch - 0s/step\n",
      "Epoch 78/100\n",
      "1/1 - 0s - loss: 432.5761 - 0s/epoch - 0s/step\n",
      "Epoch 79/100\n",
      "1/1 - 0s - loss: 432.1098 - 0s/epoch - 0s/step\n",
      "Epoch 80/100\n",
      "1/1 - 0s - loss: 431.6866 - 16ms/epoch - 16ms/step\n",
      "Epoch 81/100\n",
      "1/1 - 0s - loss: 431.2741 - 0s/epoch - 0s/step\n",
      "Epoch 82/100\n",
      "1/1 - 0s - loss: 430.8617 - 0s/epoch - 0s/step\n",
      "Epoch 83/100\n",
      "1/1 - 0s - loss: 430.4483 - 0s/epoch - 0s/step\n",
      "Epoch 84/100\n",
      "1/1 - 0s - loss: 430.0319 - 0s/epoch - 0s/step\n",
      "Epoch 85/100\n",
      "1/1 - 0s - loss: 429.6151 - 0s/epoch - 0s/step\n",
      "Epoch 86/100\n",
      "1/1 - 0s - loss: 429.1994 - 0s/epoch - 0s/step\n",
      "Epoch 87/100\n",
      "1/1 - 0s - loss: 428.7947 - 0s/epoch - 0s/step\n",
      "Epoch 88/100\n",
      "1/1 - 0s - loss: 428.4236 - 0s/epoch - 0s/step\n",
      "Epoch 89/100\n",
      "1/1 - 0s - loss: 428.1563 - 0s/epoch - 0s/step\n",
      "Epoch 90/100\n",
      "1/1 - 0s - loss: 428.1112 - 0s/epoch - 0s/step\n",
      "Epoch 91/100\n",
      "1/1 - 0s - loss: 428.2739 - 5ms/epoch - 5ms/step\n",
      "Epoch 92/100\n",
      "1/1 - 0s - loss: 427.9472 - 0s/epoch - 0s/step\n",
      "Epoch 93/100\n",
      "1/1 - 0s - loss: 427.0992 - 0s/epoch - 0s/step\n",
      "Epoch 94/100\n",
      "1/1 - 0s - loss: 426.2388 - 0s/epoch - 0s/step\n",
      "Epoch 95/100\n",
      "1/1 - 0s - loss: 425.5688 - 0s/epoch - 0s/step\n",
      "Epoch 96/100\n",
      "1/1 - 0s - loss: 425.0140 - 16ms/epoch - 16ms/step\n",
      "Epoch 97/100\n",
      "1/1 - 0s - loss: 424.5228 - 0s/epoch - 0s/step\n",
      "Epoch 98/100\n",
      "1/1 - 0s - loss: 424.0615 - 0s/epoch - 0s/step\n",
      "Epoch 99/100\n",
      "1/1 - 0s - loss: 423.6227 - 0s/epoch - 0s/step\n",
      "Epoch 100/100\n",
      "1/1 - 0s - loss: 423.2020 - 0s/epoch - 0s/step\n",
      "len(model.layers): 2\n"
     ]
    }
   ],
   "source": [
    "ret = model.fit(X, y_true, epochs=100, verbose=2)\n",
    "print(\"len(model.layers):\", len(model.layers)) # 2"
   ],
   "metadata": {
    "collapsed": false,
    "ExecuteTime": {
     "start_time": "2023-04-21T16:31:18.558547Z",
     "end_time": "2023-04-21T16:31:19.077640Z"
    }
   }
  },
  {
   "cell_type": "markdown",
   "source": [
    "### 결과값 확인"
   ],
   "metadata": {
    "collapsed": false
   }
  },
  {
   "cell_type": "code",
   "execution_count": 27,
   "outputs": [
    {
     "name": "stdout",
     "output_type": "stream",
     "text": [
      "loss: 423.2019958496094\n",
      "weights: [[-7.268168 ]\n",
      " [ 4.347743 ]\n",
      " [ 2.7314148]\n",
      " [ 2.904482 ]]\n"
     ]
    }
   ],
   "source": [
    "loss = ret.history['loss']\n",
    "print(\"loss:\", loss[-1])\n",
    "#print(model.get_weights())  # weights\n",
    "print(\"weights:\", model.layers[1].weights[0].numpy())"
   ],
   "metadata": {
    "collapsed": false,
    "ExecuteTime": {
     "start_time": "2023-04-21T16:31:28.035681Z",
     "end_time": "2023-04-21T16:31:28.067043Z"
    }
   }
  },
  {
   "cell_type": "markdown",
   "source": [
    "### 시각화"
   ],
   "metadata": {
    "collapsed": false
   }
  },
  {
   "cell_type": "code",
   "execution_count": 28,
   "outputs": [
    {
     "name": "stdout",
     "output_type": "stream",
     "text": [
      "1/1 [==============================] - 0s 24ms/step\n"
     ]
    },
    {
     "data": {
      "text/plain": "<Figure size 1000x500 with 2 Axes>",
      "image/png": "[encoded data removed]"
     },
     "metadata": {},
     "output_type": "display_data"
    }
   ],
   "source": [
    "fig, axs = plt.subplots(1,2, figsize=(10, 5))\n",
    "axs[0].plot(loss)\n",
    "axs[0].set_xlabel('epochs')\n",
    "axs[0].set_ylabel('loss')\n",
    "\n",
    "axs[1].scatter(x, y_true)\n",
    "y_pred = model.predict(X)\n",
    "axs[1].plot(x, y_pred, color='red')\n",
    "axs[1].set_xlabel('x')\n",
    "axs[1].set_ylabel('y')\n",
    "plt.show()"
   ],
   "metadata": {
    "collapsed": false,
    "ExecuteTime": {
     "start_time": "2023-04-21T16:31:41.628891Z",
     "end_time": "2023-04-21T16:31:41.872032Z"
    }
   }
  },
  {
   "cell_type": "markdown",
   "source": [
    "## Model Save and Load"
   ],
   "metadata": {
    "collapsed": false
   }
  },
  {
   "cell_type": "code",
   "execution_count": 32,
   "outputs": [],
   "source": [
    "#1: 모델 전체 저장\n",
    "import os\n",
    "if not os.path.exists(\"./RES\"):\n",
    "     os.mkdir(\"./RES\")\n",
    "model.save(\"./RES/1401.h5\")   # HDF5, keras format\n",
    "\n",
    "#2: 모델 구조 저장\n",
    "json_string = model.to_json()\n",
    "import json\n",
    "file = open(\"./RES/1401.model\", 'w')\n",
    "json.dump(json_string, file)\n",
    "file.close()\n",
    "\n",
    "#3: 가중치 저장\n",
    "model.save_weights(\"./RES/weights/1401\")\n",
    "\n",
    "#4: 학습중에 체크포인트 저장\n",
    "filepath = \"RES/ckpt/1401-{epoch:04d}.ckpt\"\n",
    "cp_callback = tf.keras.callbacks.ModelCheckpoint(\n",
    "              filepath, verbose=0, save_weights_only=True, save_freq=5) # 저장 주기\n",
    "ret = model.fit(X, y_true, epochs=100, callbacks = [cp_callback], verbose=0)"
   ],
   "metadata": {
    "collapsed": false,
    "ExecuteTime": {
     "start_time": "2023-04-21T16:37:25.009333Z",
     "end_time": "2023-04-21T16:37:28.197594Z"
    }
   }
  },
  {
   "cell_type": "code",
   "execution_count": 33,
   "outputs": [],
   "source": [
    "def create_checkpoint_callback(path, monitor='loss',\\\n",
    "                               save_best_only=True,\\\n",
    "                               save_weights_only=False,\\\n",
    "                               save_freq='epoch', **kargs):\n",
    "  import os\n",
    "  checkpoint_path = path\n",
    "  checkpoint_dir = os.path.dirname(checkpoint_path)\n",
    "\n",
    "  # Create a callback that saves the model's weights\n",
    "  cp_callback = tf.keras.callbacks.ModelCheckpoint(filepath=checkpoint_path,\n",
    "                                                  monitor=monitor,\n",
    "                                                  save_best_only = save_best_only,\n",
    "                                                  save_weights_only=save_weights_only,\n",
    "                                                  verbose=1)\n",
    "  return cp_callback\n",
    "\n",
    "checkpoint_path = \"training_1/cp.ckpt\"\n",
    "checkpoint_dir = os.path.dirname(checkpoint_path)\n",
    "cp_callback = create_checkpoint_callback(checkpoint_path)"
   ],
   "metadata": {
    "collapsed": false,
    "ExecuteTime": {
     "start_time": "2023-04-21T16:42:50.973218Z",
     "end_time": "2023-04-21T16:42:50.988833Z"
    }
   }
  },
  {
   "cell_type": "code",
   "execution_count": 34,
   "outputs": [],
   "source": [
    "train(model, X, y_true, epochs=60, callbacks=[cp_callback])"
   ],
   "metadata": {
    "collapsed": false
   }
  },
  {
   "cell_type": "code",
   "execution_count": 35,
   "outputs": [],
   "source": [
    "os.listdir(checkpoint_dir)"
   ],
   "metadata": {
    "collapsed": false
   }
  }
 ],
 "metadata": {
  "kernelspec": {
   "display_name": "Python 3",
   "language": "python",
   "name": "python3"
  },
  "language_info": {
   "codemirror_mode": {
    "name": "ipython",
    "version": 2
   },
   "file_extension": ".py",
   "mimetype": "text/x-python",
   "name": "python",
   "nbconvert_exporter": "python",
   "pygments_lexer": "ipython2",
   "version": "2.7.6"
  }
 },
 "nbformat": 4,
 "nbformat_minor": 0
}
