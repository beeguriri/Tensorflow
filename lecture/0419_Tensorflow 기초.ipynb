{
 "cells": [
  {
   "cell_type": "markdown",
   "source": [
    "## 텐서 생성"
   ],
   "metadata": {
    "collapsed": false
   }
  },
  {
   "cell_type": "code",
   "execution_count": 8,
   "metadata": {
    "collapsed": true,
    "ExecuteTime": {
     "start_time": "2023-04-19T14:32:04.916438Z",
     "end_time": "2023-04-19T14:32:04.947681Z"
    }
   },
   "outputs": [
    {
     "name": "stdout",
     "output_type": "stream",
     "text": [
      "a\n",
      " tf.Tensor(1, shape=(), dtype=int32) <dtype: 'int32'> 0 ()\n",
      "b\n",
      " tf.Tensor([1 2 3 4], shape=(4,), dtype=int32) <dtype: 'int32'> 1 (4,)\n",
      "c\n",
      " tf.Tensor(\n",
      "[[1 2]\n",
      " [3 4]], shape=(2, 2), dtype=int32) <dtype: 'int32'> 2 (2, 2)\n",
      "d\n",
      " tf.Tensor(\n",
      "[[[1 2]\n",
      "  [3 4]]], shape=(1, 2, 2), dtype=int32) <dtype: 'int32'> 3 (1, 2, 2)\n",
      "\n",
      "b[0]:  tf.Tensor(1, shape=(), dtype=int32)\n",
      "b[:2]:  tf.Tensor([1 2], shape=(2,), dtype=int32)\n",
      "c[0, 0]:  tf.Tensor(1, shape=(), dtype=int32)\n",
      "c[:,0]:  tf.Tensor([1 3], shape=(2,), dtype=int32)\n"
     ]
    }
   ],
   "source": [
    "#텐서의 rank(ndim), type, shape\n",
    "import tensorflow as tf\n",
    "#1\n",
    "a = tf.constant(1)\n",
    "b = tf.constant([1, 2, 3, 4])\n",
    "c = tf.constant([[1, 2], [3, 4]])\n",
    "d = tf.constant([[[1, 2], [3, 4]]])\n",
    "\n",
    "#2\n",
    "print('a\\n', a, a.dtype, a.ndim, a.shape)\n",
    "print('b\\n',b, b.dtype, b.ndim, b.shape)\n",
    "print('c\\n',c, c.dtype, c.ndim, c.shape)\n",
    "print('d\\n',d, d.dtype, d.ndim, d.shape)\n",
    "print()\n",
    "\n",
    "#3: indexing, slicing\n",
    "#dataset에서 train, test data 추출\n",
    "print('b[0]: ', b[0])\n",
    "print('b[:2]: ', b[:2])\n",
    "print('c[0, 0]: ', c[0, 0])\n",
    "print('c[:,0]: ', c[:,0])"
   ]
  },
  {
   "cell_type": "code",
   "execution_count": 9,
   "outputs": [
    {
     "name": "stdout",
     "output_type": "stream",
     "text": [
      "<dtype: 'int32'>\n",
      "() (4,) (2, 2) (1, 2, 2)\n",
      "<tf.Variable 'Variable:0' shape=() dtype=int32, numpy=1>\n",
      "tf.Tensor(1, shape=(), dtype=int32)\n",
      "True\n",
      "tf.Tensor(1, shape=(), dtype=int32)\n",
      "tf.Tensor([1 2], shape=(2,), dtype=int32)\n",
      "tf.Tensor(1, shape=(), dtype=int32)\n",
      "tf.Tensor([1 3], shape=(2,), dtype=int32)\n",
      "2482299292448\n",
      "<tf.Variable 'UnreadVariable' shape=() dtype=int32, numpy=10>\n",
      "<tf.Variable 'UnreadVariable' shape=() dtype=int32, numpy=30>\n",
      "<tf.Variable 'UnreadVariable' shape=() dtype=int32, numpy=20>\n",
      "2482299292448\n"
     ]
    }
   ],
   "source": [
    "#0304\n",
    "#1\n",
    "a = tf.Variable(1)\n",
    "b = tf.Variable([1, 2, 3, 4])\n",
    "c = tf.Variable([[1, 2], [3, 4]])\n",
    "d = tf.Variable([[[1, 2], [3, 4]]])\n",
    "print(a.dtype)\n",
    "print(a.shape, b.shape, c.shape, d.shape)\n",
    "\n",
    "#2\n",
    "print(a)\n",
    "print(a.read_value()) # a.value()\n",
    "print(a.trainable)\n",
    "\n",
    "#3: indexing, slicing\n",
    "print(b[0])\n",
    "print(b[:2])\n",
    "print(c[0, 0])\n",
    "print(c[:,0])\n",
    "\n",
    "#4: assign(), assign_add(), assign_sub()\n",
    "print(id(a))\n",
    "print(a.assign(10)) # a.assign(20, read_value=False) : no return\n",
    "print(a.assign_add(20))\n",
    "print(a.assign_sub(10))\n",
    "print(id(a))\n"
   ],
   "metadata": {
    "collapsed": false,
    "ExecuteTime": {
     "start_time": "2023-04-19T14:32:08.952060Z",
     "end_time": "2023-04-19T14:32:09.022427Z"
    }
   }
  },
  {
   "cell_type": "code",
   "execution_count": 11,
   "outputs": [
    {
     "name": "stdout",
     "output_type": "stream",
     "text": [
      "tf.Tensor(\n",
      "[[0. 0. 0.]\n",
      " [0. 0. 0.]], shape=(2, 3), dtype=float32)\n",
      "tf.Tensor(\n",
      "[[1. 1. 1.]\n",
      " [1. 1. 1.]], shape=(2, 3), dtype=float32)\n",
      "tf.Tensor(\n",
      "[[0. 0. 0.]\n",
      " [0. 0. 0.]], shape=(2, 3), dtype=float32)\n",
      "tf.Tensor(\n",
      "[[1. 1. 1.]\n",
      " [1. 1. 1.]], shape=(2, 3), dtype=float32)\n",
      "<tf.Variable 'Variable:0' shape=(2, 3) dtype=float32, numpy=\n",
      "array([[1., 1., 1.],\n",
      "       [1., 1., 1.]], dtype=float32)>\n"
     ]
    }
   ],
   "source": [
    "#0305 텐서값 초기화\n",
    "\n",
    "a = tf.zeros(shape = (2, 3)) # dtype = tf.float32\n",
    "a\n",
    "print(a)\n",
    "\n",
    "b = tf.ones(shape = (2, 3))\n",
    "print(b)\n",
    "\n",
    "c = tf.zeros_like(b)\n",
    "print(c)\n",
    "\n",
    "d = tf.ones_like(c)\n",
    "print(d)\n",
    "\n",
    "w = tf.Variable( d )\n",
    "print(w)\n"
   ],
   "metadata": {
    "collapsed": false,
    "ExecuteTime": {
     "start_time": "2023-04-19T14:32:55.379875Z",
     "end_time": "2023-04-19T14:32:55.395496Z"
    }
   }
  },
  {
   "cell_type": "code",
   "execution_count": 13,
   "outputs": [
    {
     "name": "stdout",
     "output_type": "stream",
     "text": [
      "tf.Tensor([0 1 2 3 4 5], shape=(6,), dtype=int32)\n",
      "tf.Tensor(\n",
      "[[0 1]\n",
      " [2 3]\n",
      " [4 5]], shape=(3, 2), dtype=int32)\n",
      "tf.Tensor([0 1 2 3 4 5], shape=(6,), dtype=int32)\n",
      "tf.Tensor(\n",
      "[[0 2 4]\n",
      " [1 3 5]], shape=(2, 3), dtype=int32)\n"
     ]
    }
   ],
   "source": [
    "#0307 reshape 사용법\n",
    "#1\n",
    "a = tf.range(6)\n",
    "print(a)\n",
    "\n",
    "#b = tf.reshape(a, shape=(2, 3))\n",
    "b = tf.reshape(a, shape=(-1, 2))\n",
    "print(b)\n",
    "\n",
    "c = tf.reshape(b, shape=(-1,))\n",
    "print(c)\n",
    "\n",
    "#2\n",
    "d = tf.transpose(b) # tf.transpose(b, perm=[1, 0])\n",
    "print(d)\n"
   ],
   "metadata": {
    "collapsed": false,
    "ExecuteTime": {
     "start_time": "2023-04-19T14:35:47.037713Z",
     "end_time": "2023-04-19T14:35:47.055294Z"
    }
   }
  },
  {
   "cell_type": "code",
   "execution_count": 19,
   "outputs": [
    {
     "name": "stdout",
     "output_type": "stream",
     "text": [
      "tf.stack([a, b]): \n",
      " tf.Tensor(\n",
      "[[1 2]\n",
      " [3 4]], shape=(2, 2), dtype=int32)\n",
      "tf.stack([a, b], axis = 1): \n",
      " tf.Tensor(\n",
      "[[1 3]\n",
      " [2 4]], shape=(2, 2), dtype=int32)\n",
      "\n",
      "tf.concat([a, b],axis =0): \n",
      " tf.Tensor([1 2 3 4], shape=(4,), dtype=int32)\n",
      "\n",
      "tf.concat([a, b],axis =1): \n",
      " tf.Tensor([[1 2 3 4]], shape=(1, 4), dtype=int32)\n",
      "tf.concat([c, b],axis =0): \n",
      " tf.Tensor(\n",
      "[[1 2]\n",
      " [3 4]\n",
      " [3 4]], shape=(3, 2), dtype=int32)\n",
      "tf.reshape(b, shape=(2,1)): \n",
      " tf.Tensor(\n",
      "[[3]\n",
      " [4]], shape=(2, 1), dtype=int32)\n",
      "tf.concat([c, b],axis =1): \n",
      " tf.Tensor(\n",
      "[[1 2 3]\n",
      " [3 4 4]], shape=(2, 3), dtype=int32)\n"
     ]
    }
   ],
   "source": [
    "#0308 Stack, Concat\n",
    "\n",
    "#1\n",
    "a = tf.constant([1, 2])\n",
    "b = tf.constant([3, 4])\n",
    "\n",
    "#2\n",
    "print('tf.stack([a, b]): \\n', tf.stack([a, b])) # axis = 0\n",
    "print('tf.stack([a, b], axis = 1): \\n', tf.stack([a, b], axis = 1))\n",
    "print()\n",
    "#3\n",
    "print('tf.concat([a, b],axis =0): \\n', tf.concat([a, b],axis =0))\n",
    "a = tf.reshape(a, shape=(1,2))\n",
    "b = tf.reshape(b, shape=(1,2))\n",
    "c = tf.concat([a, b],axis =0)\n",
    "# print(c)\n",
    "print()\n",
    "\n",
    "print('tf.concat([a, b],axis =1): \\n', tf.concat([a, b],axis =1))\n",
    "print('tf.concat([c, b],axis =0): \\n', tf.concat([c, b],axis =0))\n",
    "\n",
    "b = tf.reshape(b, shape=(2,1))\n",
    "print('tf.reshape(b, shape=(2,1)): \\n', b)\n",
    "\n",
    "print('tf.concat([c, b],axis =1): \\n', tf.concat([c, b],axis =1))\n"
   ],
   "metadata": {
    "collapsed": false,
    "ExecuteTime": {
     "start_time": "2023-04-19T14:41:46.361263Z",
     "end_time": "2023-04-19T14:41:46.376855Z"
    }
   }
  },
  {
   "cell_type": "code",
   "execution_count": 20,
   "outputs": [
    {
     "name": "stdout",
     "output_type": "stream",
     "text": [
      "tf.Tensor([1 2], shape=(2,), dtype=int32)\n",
      "tf.Tensor([[1 2]], shape=(1, 2), dtype=int32)\n",
      "tf.Tensor(\n",
      "[[1]\n",
      " [2]], shape=(2, 1), dtype=int32)\n",
      "tf.Tensor(\n",
      "[[[1]\n",
      "  [2]]], shape=(1, 2, 1), dtype=int32)\n",
      "tf.Tensor([1 2], shape=(2,), dtype=int32)\n",
      "tf.Tensor([[1 2]], shape=(1, 2), dtype=int32)\n"
     ]
    }
   ],
   "source": [
    "#0309 데이터 전처리에 차원 확장\n",
    "#1\n",
    "a = tf.constant([1, 2])\n",
    "print(a)\n",
    "\n",
    "b = tf.expand_dims(a, axis = 0) # 행으로 차원 확장\n",
    "print(b)\n",
    "\n",
    "c = tf.expand_dims(a, axis = 1) # 열로 차원 확장\n",
    "print(c)\n",
    "\n",
    "d = tf.expand_dims(c, axis = 0) # 행으로 차원 확장\n",
    "print(d)\n",
    "\n",
    "#2\n",
    "e = tf.squeeze(d) # remove all axes of shape size = 1\n",
    "print(e)\n",
    "\n",
    "f = tf.squeeze(d, axis = 2)\n",
    "print(f)\n"
   ],
   "metadata": {
    "collapsed": false,
    "ExecuteTime": {
     "start_time": "2023-04-19T14:49:46.975968Z",
     "end_time": "2023-04-19T14:49:46.991598Z"
    }
   }
  },
  {
   "cell_type": "markdown",
   "source": [
    "## 텐서플로 연산 기초"
   ],
   "metadata": {
    "collapsed": false
   }
  },
  {
   "cell_type": "code",
   "execution_count": 23,
   "outputs": [
    {
     "name": "stdout",
     "output_type": "stream",
     "text": [
      "a\n",
      "tf.Tensor(\n",
      "[[ 0  1  2  3]\n",
      " [ 4  5  6  7]\n",
      " [ 8  9 10 11]], shape=(3, 4), dtype=int32)\n"
     ]
    }
   ],
   "source": [
    "#0402\n",
    "#1\n",
    "print('a')\n",
    "a = tf.reshape(tf.range(12), shape = (3, 4))\n",
    "print(a)"
   ],
   "metadata": {
    "collapsed": false,
    "ExecuteTime": {
     "start_time": "2023-04-19T15:00:40.948452Z",
     "end_time": "2023-04-19T15:00:41.010938Z"
    }
   }
  },
  {
   "cell_type": "code",
   "execution_count": 24,
   "outputs": [
    {
     "name": "stdout",
     "output_type": "stream",
     "text": [
      "reduce_min\n",
      "tf.Tensor(0, shape=(), dtype=int32)\n",
      "tf.Tensor([0 1 2 3], shape=(4,), dtype=int32)\n",
      "tf.Tensor([0 4 8], shape=(3,), dtype=int32)\n"
     ]
    }
   ],
   "source": [
    "#2\n",
    "print('reduce_min')\n",
    "print(tf.reduce_min(a))\n",
    "print(tf.reduce_min(a, axis= 0))\n",
    "print(tf.reduce_min(a, axis= 1))"
   ],
   "metadata": {
    "collapsed": false,
    "ExecuteTime": {
     "start_time": "2023-04-19T15:00:41.392107Z",
     "end_time": "2023-04-19T15:00:41.407730Z"
    }
   }
  },
  {
   "cell_type": "code",
   "execution_count": 25,
   "outputs": [
    {
     "name": "stdout",
     "output_type": "stream",
     "text": [
      "reduce_max\n",
      "tf.Tensor(11, shape=(), dtype=int32)\n",
      "tf.Tensor([ 8  9 10 11], shape=(4,), dtype=int32)\n",
      "tf.Tensor([ 3  7 11], shape=(3,), dtype=int32)\n"
     ]
    }
   ],
   "source": [
    "#3\n",
    "print('reduce_max')\n",
    "print(tf.reduce_max(a))\n",
    "print(tf.reduce_max(a, axis= 0))\n",
    "print(tf.reduce_max(a, axis= 1))"
   ],
   "metadata": {
    "collapsed": false,
    "ExecuteTime": {
     "start_time": "2023-04-19T15:00:41.728112Z",
     "end_time": "2023-04-19T15:00:41.743735Z"
    }
   }
  },
  {
   "cell_type": "code",
   "execution_count": 26,
   "outputs": [
    {
     "name": "stdout",
     "output_type": "stream",
     "text": [
      "reduce_sum\n",
      "tf.Tensor(66, shape=(), dtype=int32)\n",
      "tf.Tensor([12 15 18 21], shape=(4,), dtype=int32)\n",
      "tf.Tensor([ 6 22 38], shape=(3,), dtype=int32)\n"
     ]
    }
   ],
   "source": [
    "#4\n",
    "print('reduce_sum')\n",
    "print(tf.reduce_sum(a))\n",
    "print(tf.reduce_sum(a, axis= 0))\n",
    "print(tf.reduce_sum(a, axis= 1))"
   ],
   "metadata": {
    "collapsed": false,
    "ExecuteTime": {
     "start_time": "2023-04-19T15:00:41.968681Z",
     "end_time": "2023-04-19T15:00:41.984273Z"
    }
   }
  },
  {
   "cell_type": "code",
   "execution_count": 27,
   "outputs": [
    {
     "name": "stdout",
     "output_type": "stream",
     "text": [
      "reduce_mean\n",
      "tf.Tensor(5, shape=(), dtype=int32)\n",
      "tf.Tensor([4 5 6 7], shape=(4,), dtype=int32)\n",
      "tf.Tensor([1 5 9], shape=(3,), dtype=int32)\n"
     ]
    }
   ],
   "source": [
    "#5 - 경사하강법에서 사용\n",
    "print('reduce_mean')\n",
    "print(tf.reduce_mean(a))\n",
    "print(tf.reduce_mean(a, axis= 0))\n",
    "print(tf.reduce_mean(a, axis= 1))"
   ],
   "metadata": {
    "collapsed": false,
    "ExecuteTime": {
     "start_time": "2023-04-19T15:00:42.218618Z",
     "end_time": "2023-04-19T15:00:42.234240Z"
    }
   }
  },
  {
   "cell_type": "code",
   "execution_count": 28,
   "outputs": [
    {
     "name": "stdout",
     "output_type": "stream",
     "text": [
      "reduce_prod\n",
      "tf.Tensor(0, shape=(), dtype=int32)\n",
      "tf.Tensor([  0  45 120 231], shape=(4,), dtype=int32)\n",
      "tf.Tensor([   0  840 7920], shape=(3,), dtype=int32)\n"
     ]
    }
   ],
   "source": [
    "#6\n",
    "print('reduce_prod')\n",
    "print(tf.reduce_prod(a))\n",
    "print(tf.reduce_prod(a, axis= 0))\n",
    "print(tf.reduce_prod(a, axis= 1))"
   ],
   "metadata": {
    "collapsed": false,
    "ExecuteTime": {
     "start_time": "2023-04-19T15:00:42.484389Z",
     "end_time": "2023-04-19T15:00:42.500086Z"
    }
   }
  },
  {
   "cell_type": "code",
   "execution_count": 29,
   "outputs": [
    {
     "name": "stdout",
     "output_type": "stream",
     "text": [
      "shuffle\n",
      "tf.Tensor(\n",
      "[[ 6  9  7  8]\n",
      " [ 1 10  5 11]\n",
      " [ 0  2  4  3]], shape=(3, 4), dtype=int32)\n"
     ]
    }
   ],
   "source": [
    "#7 - 학습시에 shuffle\n",
    "print('shuffle')\n",
    "a = tf.reshape(tf.random.shuffle(tf.range(12)), shape = (3, 4))\n",
    "print(a)"
   ],
   "metadata": {
    "collapsed": false,
    "ExecuteTime": {
     "start_time": "2023-04-19T15:00:42.978138Z",
     "end_time": "2023-04-19T15:00:42.993760Z"
    }
   }
  },
  {
   "cell_type": "code",
   "execution_count": 30,
   "outputs": [
    {
     "name": "stdout",
     "output_type": "stream",
     "text": [
      "argmin, argmax\n",
      "tf.Tensor([2 2 2 2], shape=(4,), dtype=int64)\n",
      "tf.Tensor([0 0 0], shape=(3,), dtype=int64)\n",
      "tf.Tensor([0 1 0 1], shape=(4,), dtype=int64)\n",
      "tf.Tensor([1 3 2], shape=(3,), dtype=int64)\n"
     ]
    }
   ],
   "source": [
    "# argmin, argmax : 텐서의 최소/최고값을 갖는 인덱스 반환\n",
    "print('argmin, argmax')\n",
    "print(tf.argmin(a)) #  tf.argmin(a, axis =0)\n",
    "print(tf.argmin(a, axis =1))\n",
    "print(tf.argmax(a)) # tf.argmax(a, axis =0)\n",
    "print(tf.argmax(a, axis =1))"
   ],
   "metadata": {
    "collapsed": false,
    "ExecuteTime": {
     "start_time": "2023-04-19T15:00:43.377193Z",
     "end_time": "2023-04-19T15:00:43.392815Z"
    }
   }
  },
  {
   "cell_type": "code",
   "execution_count": 31,
   "outputs": [
    {
     "name": "stdout",
     "output_type": "stream",
     "text": [
      "shuffle, sort\n",
      "tf.Tensor([ 6  9  0 10  1  5  7  4  3 11  2  8], shape=(12,), dtype=int32)\n",
      "tf.Tensor([ 0  1  2  3  4  5  6  7  8  9 10 11], shape=(12,), dtype=int32)\n",
      "tf.Tensor([11 10  9  8  7  6  5  4  3  2  1  0], shape=(12,), dtype=int32)\n"
     ]
    }
   ],
   "source": [
    "#8\n",
    "print('shuffle, sort')\n",
    "a = tf.random.shuffle(tf.range(12))\n",
    "print(a)\n",
    "print(tf.sort(a)) # direction=\"ASCENDING\"\n",
    "print(tf.sort(a, direction=\"DESCENDING\"))"
   ],
   "metadata": {
    "collapsed": false,
    "ExecuteTime": {
     "start_time": "2023-04-19T15:00:43.848452Z",
     "end_time": "2023-04-19T15:00:43.864071Z"
    }
   }
  },
  {
   "cell_type": "code",
   "execution_count": 32,
   "outputs": [
    {
     "name": "stdout",
     "output_type": "stream",
     "text": [
      "reshape, sort\n",
      "tf.Tensor(\n",
      "[[ 6  9  0 10]\n",
      " [ 1  5  7  4]\n",
      " [ 3 11  2  8]], shape=(3, 4), dtype=int32)\n",
      "tf.Tensor(\n",
      "[[ 0  6  9 10]\n",
      " [ 1  4  5  7]\n",
      " [ 2  3  8 11]], shape=(3, 4), dtype=int32)\n",
      "tf.Tensor(\n",
      "[[ 1  5  0  4]\n",
      " [ 3  9  2  8]\n",
      " [ 6 11  7 10]], shape=(3, 4), dtype=int32)\n"
     ]
    }
   ],
   "source": [
    "print('reshape, sort')\n",
    "a = tf.reshape(a, shape=(3, 4))\n",
    "print(a)\n",
    "print(tf.sort(a)) # tf.sort(a, axis = 1)\n",
    "print(tf.sort(a, axis = 0))"
   ],
   "metadata": {
    "collapsed": false,
    "ExecuteTime": {
     "start_time": "2023-04-19T15:00:44.775071Z",
     "end_time": "2023-04-19T15:00:44.837641Z"
    }
   }
  },
  {
   "cell_type": "markdown",
   "source": [
    "## 경사하강법"
   ],
   "metadata": {
    "collapsed": false
   }
  },
  {
   "cell_type": "code",
   "execution_count": 35,
   "outputs": [
    {
     "name": "stdout",
     "output_type": "stream",
     "text": [
      "k=336: f(2.250152587890625)=-6.542968514237657\n",
      "[f(0), f(9/4), f(-2), f(4)]= [2, -6.54296875, 42, 66]\n"
     ]
    }
   ],
   "source": [
    "#0407\n",
    "import tensorflow as tf\n",
    "import numpy as np\n",
    "import matplotlib.pyplot as plt\n",
    "\n",
    "#1\n",
    "def f(x):\n",
    "    return x**4 - 3*x**3 +2\n",
    "\n",
    "def fprime(x): # forward difference\n",
    "    h = 0.001\n",
    "    return (f(x+h) - f(x))/h\n",
    "\n",
    "#2\n",
    "k = 0\n",
    "max_iters = 1000\n",
    "lr = 0.001\n",
    "tol = 1e-5\n",
    "\n",
    "x_old = 0.0\n",
    "x_new = 4.0  # -2.0\n",
    "x_list= [x_new]  # list of x_new\n",
    "x = tf.Variable(x_new, dtype = tf.float32) # initial value\n",
    "\n",
    "# x_old - x_new = h\n",
    "while abs(x_old-x_new)>tol and  k < max_iters:\n",
    "    k+=1\n",
    "    x_old= x.numpy()\n",
    "    step = lr * fprime(x)\n",
    "    x.assign_sub(step, read_value=False) # update value by gradient decent method\n",
    "    x_new= x.numpy()\n",
    "    x_list.append(x_new)\n",
    "##    print('k={}: f({})={}'.format(k, x_new, f(x_new)))\n",
    "print('k={}: f({})={}'.format(k, x_new, f(x_new))) # final solution\n",
    "\n",
    "#3: check solutions\n",
    "print(\"[f(0), f(9/4), f(-2), f(4)]=\", [f(0), f(9/4), f(-2), f(4)])\n",
    "# [f(0), f(9/4), f(-2), f(4)]: [2, -6.54296875, 42, 66]"
   ],
   "metadata": {
    "collapsed": false,
    "ExecuteTime": {
     "start_time": "2023-04-19T15:01:45.892241Z",
     "end_time": "2023-04-19T15:01:46.215399Z"
    }
   }
  },
  {
   "cell_type": "code",
   "execution_count": 36,
   "outputs": [
    {
     "data": {
      "text/plain": "<Figure size 640x480 with 1 Axes>",
      "image/png": "[encoded data removed]"
     },
     "metadata": {},
     "output_type": "display_data"
    }
   ],
   "source": [
    "#4: draw graph\n",
    "#4-1: graph f(x)\n",
    "##x_values = np.linspace(-2.0, 4.0, num = 101) # numpy.ndarray\n",
    "xs = tf.linspace(-2.0, 4.0, num = 101) # Tensor\n",
    "ys = f(xs)\n",
    "plt.plot(xs, ys,  'b-')\n",
    "\n",
    "#4-2: f(x_new), updated solutions\n",
    "##x_list =np.array(x_list) # numpy.ndarray\n",
    "x_list =tf.constant(x_list, dtype=tf.float32)  # Tensor\n",
    "y_list = f(x_list)\n",
    "plt.plot(x_list, y_list, 'ro')\n",
    "plt.show()"
   ],
   "metadata": {
    "collapsed": false,
    "ExecuteTime": {
     "start_time": "2023-04-19T15:01:47.658997Z",
     "end_time": "2023-04-19T15:01:47.877669Z"
    }
   }
  }
 ],
 "metadata": {
  "kernelspec": {
   "display_name": "Python 3",
   "language": "python",
   "name": "python3"
  },
  "language_info": {
   "codemirror_mode": {
    "name": "ipython",
    "version": 2
   },
   "file_extension": ".py",
   "mimetype": "text/x-python",
   "name": "python",
   "nbconvert_exporter": "python",
   "pygments_lexer": "ipython2",
   "version": "2.7.6"
  }
 },
 "nbformat": 4,
 "nbformat_minor": 0
}
