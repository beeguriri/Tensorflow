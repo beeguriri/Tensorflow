{
 "cells": [
  {
   "cell_type": "code",
   "execution_count": 16,
   "outputs": [],
   "source": [
    "import tensorflow as tf\n",
    "import numpy as np\n",
    "import matplotlib.pyplot as plt"
   ],
   "metadata": {
    "collapsed": false,
    "ExecuteTime": {
     "start_time": "2023-04-24T16:36:08.176079Z",
     "end_time": "2023-04-24T16:36:08.588974Z"
    }
   }
  },
  {
   "cell_type": "markdown",
   "source": [
    "### 원-핫 인코딩\n",
    "+ 인덱스 위치만 1이고 나머지는 모두 0을 갖는 길이 K의 벡터"
   ],
   "metadata": {
    "collapsed": false
   }
  },
  {
   "cell_type": "code",
   "execution_count": 2,
   "metadata": {
    "collapsed": true,
    "ExecuteTime": {
     "start_time": "2023-04-24T14:29:10.843876Z",
     "end_time": "2023-04-24T14:29:10.859473Z"
    }
   },
   "outputs": [
    {
     "name": "stdout",
     "output_type": "stream",
     "text": [
      "y= [0 1 2 3 4 5 6 7 8 9]\n",
      "y1= [[1. 0. 0. 0. 0. 0. 0. 0. 0. 0.]\n",
      " [0. 1. 0. 0. 0. 0. 0. 0. 0. 0.]\n",
      " [0. 0. 1. 0. 0. 0. 0. 0. 0. 0.]\n",
      " [0. 0. 0. 1. 0. 0. 0. 0. 0. 0.]\n",
      " [0. 0. 0. 0. 1. 0. 0. 0. 0. 0.]\n",
      " [0. 0. 0. 0. 0. 1. 0. 0. 0. 0.]\n",
      " [0. 0. 0. 0. 0. 0. 1. 0. 0. 0.]\n",
      " [0. 0. 0. 0. 0. 0. 0. 1. 0. 0.]\n",
      " [0. 0. 0. 0. 0. 0. 0. 0. 1. 0.]\n",
      " [0. 0. 0. 0. 0. 0. 0. 0. 0. 1.]]\n"
     ]
    }
   ],
   "source": [
    "y = np.arange(10) # integer label\n",
    "print(\"y=\", y)\n",
    "\n",
    "y1 = tf.keras.utils.to_categorical(y) # keras one-hot label\n",
    "print(\"y1=\", y1)"
   ]
  },
  {
   "cell_type": "markdown",
   "source": [
    "### 카테고리 교차 엔트로피 오차\n",
    "##### 엔트로피\n",
    "+ 사건 A를 반복 실행하였을때 얻을 수 있는 \"평균정보량\", \"정보량의 기대값\"\n",
    "+ 어떤 상태에서의 불확실성\n",
    "+ 확률의 역수에 로그값을 취함 (h(x) = -log p(x))\n",
    "\n",
    "##### 교차 엔트로피\n",
    "+ 교차 엔트로피는 머신러닝 분류 모델의 손실함수 중의 하나\n",
    "+ 모델이 예측한 확률 분포와 실제 레이블의 확률 분포 간의 차이를 측정하는 손실함수\n",
    "+ t : 실제 레이블 (0 또는 1)\n",
    "+ y : 모델이 예측한 확률 (0~1 사이의 값)\n",
    "\n",
    "##### 교차 엔트로피 오차\n",
    "+ 특정 클래스에 속할 정보량을 이용\n",
    "+ 정보량이 0에 가까워져 발생확률이 1에 가깝게 만드는 것이 목적"
   ],
   "metadata": {
    "collapsed": false
   }
  },
  {
   "cell_type": "markdown",
   "source": [],
   "metadata": {
    "collapsed": false
   }
  },
  {
   "cell_type": "code",
   "execution_count": 3,
   "outputs": [
    {
     "name": "stdout",
     "output_type": "stream",
     "text": [
      "CCE(t[i], y[0])\n",
      "CCE(t[0], y[0])= 0.916290731874155\n",
      "CCE(t[1], y[0])= 1.203972804325936\n",
      "CCE(t[2], y[0])= 1.6094379124341003\n",
      "CCE(t[3], y[0])= 2.3025850929940455\n",
      "CCE(t[i], y[1])\n",
      "CCE(t[0], y[1])= 2.3025850929940455\n",
      "CCE(t[1], y[1])= 1.203972804325936\n",
      "CCE(t[2], y[1])= 1.6094379124341003\n",
      "CCE(t[3], y[1])= 0.916290731874155\n",
      "CCE(np.vstack((t[1], t[1])), y)= 1.203972804325936\n"
     ]
    }
   ],
   "source": [
    "CCE = tf.keras.losses.CategoricalCrossentropy()\n",
    "t= np.array([[1,   0,   0,   0],   #t[0] 출력층의 정답 label\n",
    "             [0,   1,   0,   0],   #t[1]\n",
    "             [0,   0,   1,   0],   #t[2]\n",
    "             [0,   0,   0,   1]])  #t[3]\n",
    "\n",
    "y =np.array([[0.4, 0.3, 0.2, 0.1], #y[0] - 예측값\n",
    "             [0.1, 0.3, 0.2, 0.4]])#y[1]\n",
    "#1\n",
    "print(\"CCE(t[i], y[0])\")\n",
    "print(\"CCE(t[0], y[0])=\", CCE(t[0], y[0]).numpy() )\n",
    "print(\"CCE(t[1], y[0])=\", CCE(t[1], y[0]).numpy() )\n",
    "print(\"CCE(t[2], y[0])=\", CCE(t[2], y[0]).numpy() )\n",
    "print(\"CCE(t[3], y[0])=\", CCE(t[3], y[0]).numpy() )\n",
    "\n",
    "#2\n",
    "print(\"CCE(t[i], y[1])\")\n",
    "print(\"CCE(t[0], y[1])=\", CCE(t[0], y[1]).numpy() )\n",
    "print(\"CCE(t[1], y[1])=\", CCE(t[1], y[1]).numpy() )\n",
    "print(\"CCE(t[2], y[1])=\", CCE(t[2], y[1]).numpy() )\n",
    "print(\"CCE(t[3], y[1])=\", CCE(t[3], y[1]).numpy() )\n",
    "\n",
    "#3\n",
    "print(\"CCE(np.vstack((t[1], t[1])), y)=\",\n",
    "       CCE(np.vstack((t[1], t[1])), y).numpy() )\n"
   ],
   "metadata": {
    "collapsed": false,
    "ExecuteTime": {
     "start_time": "2023-04-24T14:52:22.250540Z",
     "end_time": "2023-04-24T14:52:22.297406Z"
    }
   }
  },
  {
   "cell_type": "code",
   "execution_count": 4,
   "outputs": [
    {
     "name": "stdout",
     "output_type": "stream",
     "text": [
      "SCE(t[i], y[0])\n",
      "SCE(t[0], y[0])= 0.91629076\n",
      "SCE(t[1], y[0])= 1.2039728\n",
      "SCE(t[2], y[0])= 1.609438\n",
      "SCE(t[3], y[0])= 2.3025851\n",
      "SCE(t[i], y[1])\n",
      "SCE(t[0], y[1])= 2.3025851\n",
      "SCE(t[1], y[1])= 1.2039728\n",
      "SCE(t[2], y[1])= 1.609438\n",
      "SCE(t[3], y[1])= 0.91629076\n",
      "SCE(tf.stack((t[1], t[1])), y)= 1.2039728\n"
     ]
    }
   ],
   "source": [
    "SCE = tf.keras.losses.SparseCategoricalCrossentropy()\n",
    "\n",
    "t = tf.convert_to_tensor([0, 1, 2, 3])\n",
    "y =tf.convert_to_tensor([[0.4, 0.3, 0.2, 0.1], #y[0]\n",
    "                         [0.1, 0.3, 0.2, 0.4]])#y[1]\n",
    "\n",
    "#1\n",
    "print(\"SCE(t[i], y[0])\")\n",
    "print(\"SCE(t[0], y[0])=\", SCE(t[0], y[0]).numpy() )\n",
    "print(\"SCE(t[1], y[0])=\", SCE(t[1], y[0]).numpy() )\n",
    "print(\"SCE(t[2], y[0])=\", SCE(t[2], y[0]).numpy() )\n",
    "print(\"SCE(t[3], y[0])=\", SCE(t[3], y[0]).numpy() )\n",
    "\n",
    "#2\n",
    "print(\"SCE(t[i], y[1])\")\n",
    "print(\"SCE(t[0], y[1])=\", SCE(t[0], y[1]).numpy() )\n",
    "print(\"SCE(t[1], y[1])=\", SCE(t[1], y[1]).numpy() )\n",
    "print(\"SCE(t[2], y[1])=\", SCE(t[2], y[1]).numpy() )\n",
    "print(\"SCE(t[3], y[1])=\", SCE(t[3], y[1]).numpy() )\n",
    "\n",
    "#3\n",
    "print(\"SCE(tf.stack((t[1], t[1])), y)=\",\n",
    "       SCE(tf.stack((t[1], t[1])), y).numpy() )"
   ],
   "metadata": {
    "collapsed": false,
    "ExecuteTime": {
     "start_time": "2023-04-24T15:37:04.489294Z",
     "end_time": "2023-04-24T15:37:04.550867Z"
    }
   }
  },
  {
   "cell_type": "markdown",
   "source": [
    "### 이진 교차 엔트로피"
   ],
   "metadata": {
    "collapsed": false
   }
  },
  {
   "cell_type": "code",
   "execution_count": 5,
   "outputs": [
    {
     "name": "stdout",
     "output_type": "stream",
     "text": [
      "BCE(t[i], y[0])\n",
      "BCE(t[0], y[0])= 0.6121916959319459\n",
      "BCE(t[1], y[0])= 0.8573989362682357\n",
      "BCE(t[2], y[0])= 1.194880440902427\n",
      "BCE(t[3], y[0])= 1.0601313618501897\n",
      "BCE(t[i], y[1])\n",
      "BCE(t[0], y[1])= 1.0601313618501897\n",
      "BCE(t[1], y[1])= 0.8573989362682357\n",
      "BCE(t[2], y[1])= 0.7469407749841832\n",
      "BCE(t[3], y[1])= 0.6121916959319459\n",
      "BCE(np.vstack((t[0], t[0])), y)= 0.8361615288910678\n"
     ]
    }
   ],
   "source": [
    "BCE = tf.keras.losses.BinaryCrossentropy()\n",
    "t= np.array([[1,   1,   0,   0],   #t[0]\n",
    "             [0,   1,   1,   0],   #t[1]\n",
    "             [0,   0,   1,   1],   #t[2]\n",
    "             [0,   1,   0,   1]])  #t[3]\n",
    "\n",
    "y =np.array([[0.4, 0.3, 0.2, 0.1], #y[0]\n",
    "             [0.1, 0.3, 0.2, 0.4]])#y[1]\n",
    "#1\n",
    "print(\"BCE(t[i], y[0])\")\n",
    "print(\"BCE(t[0], y[0])=\", BCE(t[0], y[0]).numpy() )\n",
    "print(\"BCE(t[1], y[0])=\", BCE(t[1], y[0]).numpy() )\n",
    "print(\"BCE(t[2], y[0])=\", BCE(t[2], y[0]).numpy() )\n",
    "print(\"BCE(t[3], y[0])=\", BCE(t[3], y[0]).numpy() )\n",
    "\n",
    "#2\n",
    "print(\"BCE(t[i], y[1])\")\n",
    "print(\"BCE(t[0], y[1])=\", BCE(t[0], y[1]).numpy() )\n",
    "print(\"BCE(t[1], y[1])=\", BCE(t[1], y[1]).numpy() )\n",
    "print(\"BCE(t[2], y[1])=\", BCE(t[2], y[1]).numpy() )\n",
    "print(\"BCE(t[3], y[1])=\", BCE(t[3], y[1]).numpy() )\n",
    "\n",
    "#3\n",
    "print(\"BCE(np.vstack((t[0], t[0])), y)=\",\n",
    "       BCE(np.vstack((t[0], t[0])), y).numpy() )"
   ],
   "metadata": {
    "collapsed": false,
    "ExecuteTime": {
     "start_time": "2023-04-24T16:14:46.484114Z",
     "end_time": "2023-04-24T16:14:46.546696Z"
    }
   }
  },
  {
   "cell_type": "markdown",
   "source": [
    "### 활성화함수\n",
    "+ linear : f(x) = x\n",
    "+ sigmoid : f(x) = 1/(1+exp(-x))\n",
    "+ tanh : f(x) = sinh(x) / cosh(x)\n",
    "+ relu : f(x) = max(x) = 0 if x<0, x if x>=0\n",
    "+ leakyrelu : f(x) = a*x if x<0, x if x>=0\n",
    "+ softmax : 지수함수 사용, 입력 벡터 x를 확률로 변환하여 출력 (분류)"
   ],
   "metadata": {
    "collapsed": false
   }
  },
  {
   "cell_type": "code",
   "execution_count": 11,
   "outputs": [],
   "source": [
    "def sigmoid_function(x):\n",
    "  return 1/(1+np.exp(-x))\n",
    "\n",
    "def tanh_function(x):\n",
    "  return np.tanh(x)\n",
    "\n",
    "def relu_function(x):\n",
    "  return np.where(x <= 0, 0, x)\n",
    "\n",
    "def softmax(x):\n",
    "    exp_x = np.exp(x)\n",
    "    result = exp_x / np.sum(exp_x)\n",
    "    return result"
   ],
   "metadata": {
    "collapsed": false,
    "ExecuteTime": {
     "start_time": "2023-04-24T16:29:19.589078Z",
     "end_time": "2023-04-24T16:29:19.604700Z"
    }
   }
  },
  {
   "cell_type": "code",
   "execution_count": 20,
   "outputs": [
    {
     "data": {
      "text/plain": "<Figure size 640x480 with 1 Axes>",
      "image/png": "[encoded data removed]"
     },
     "metadata": {},
     "output_type": "display_data"
    },
    {
     "data": {
      "text/plain": "<Figure size 640x480 with 1 Axes>",
      "image/png": "[encoded data removed]"
     },
     "metadata": {},
     "output_type": "display_data"
    },
    {
     "data": {
      "text/plain": "<Figure size 640x480 with 1 Axes>",
      "image/png": "[encoded data removed]"
     },
     "metadata": {},
     "output_type": "display_data"
    },
    {
     "data": {
      "text/plain": "<Figure size 640x480 with 1 Axes>",
      "image/png": "[encoded data removed]"
     },
     "metadata": {},
     "output_type": "display_data"
    }
   ],
   "source": [
    "x = np.linspace(-20, 20)\n",
    "\n",
    "sigmoid_y = sigmoid_function(x)\n",
    "plt.plot(x, sigmoid_y)\n",
    "plt.title('sigmoid')\n",
    "plt.show()\n",
    "\n",
    "tanh_y = tanh_function(x)\n",
    "plt.plot(x, tanh_y)\n",
    "plt.title('Hyperbolic Tangent')\n",
    "plt.show()\n",
    "\n",
    "relu_y = relu_function(x)\n",
    "plt.plot(x, relu_y)\n",
    "plt.title('relu Function')\n",
    "plt.show()\n",
    "\n",
    "soft_y = softmax(x)\n",
    "plt.plot(x,soft_y)\n",
    "plt.title('soft max')\n",
    "plt.show()"
   ],
   "metadata": {
    "collapsed": false,
    "ExecuteTime": {
     "start_time": "2023-04-24T16:38:54.822889Z",
     "end_time": "2023-04-24T16:38:55.341812Z"
    }
   }
  },
  {
   "cell_type": "markdown",
   "source": [
    "### 분류 성능 평가"
   ],
   "metadata": {
    "collapsed": false
   }
  },
  {
   "cell_type": "markdown",
   "source": [
    "##### 정확도, 정밀도 재현율"
   ],
   "metadata": {
    "collapsed": false
   }
  },
  {
   "cell_type": "code",
   "execution_count": 26,
   "outputs": [],
   "source": [
    "#1\n",
    "y_true = np.array([[1, 0, 0], #0\n",
    "                   [0, 1, 0], #1\n",
    "                   [0, 0, 1], #2\n",
    "                   [1, 0, 0], #0\n",
    "                   [0, 1, 0], #1\n",
    "                   [0, 0, 1]]);#2\n",
    "\n",
    "# binary: 1 above threshold=0.5, 0 below threshold= 0.5\n",
    "y_pred = np.array([[0.3, 0.6, 0.1], #1\n",
    "                   [0.6, 0.3, 0.1], #0\n",
    "                   [0.1, 0.3, 0.6], #2\n",
    "                   [0.3, 0.6, 0.1], #1\n",
    "                   [0.1, 0.6, 0.3], #1\n",
    "                   [0.3, 0.1, 0.6]]);#2"
   ],
   "metadata": {
    "collapsed": false,
    "ExecuteTime": {
     "start_time": "2023-04-24T16:48:10.465966Z",
     "end_time": "2023-04-24T16:48:10.475968Z"
    }
   }
  },
  {
   "cell_type": "code",
   "execution_count": 29,
   "outputs": [
    {
     "name": "stdout",
     "output_type": "stream",
     "text": [
      "accuracy1= tf.Tensor([0.33333334 0.33333334 1.         0.33333334 1.         1.        ], shape=(6,), dtype=float32)\n",
      "m.total=12.0, m.count=18.0\n",
      "accuracy2= 0.6666667\n"
     ]
    }
   ],
   "source": [
    "#2 각 행에 대하여 각각 정확도를 계산\n",
    "accuracy1 =tf.keras.metrics.binary_accuracy(y_true, y_pred)\n",
    "print(\"accuracy1=\", accuracy1)\n",
    "\n",
    "#2-1\n",
    "m= tf.keras.metrics.BinaryAccuracy() #accuracy1 관계없음\n",
    "m.update_state(y_true, y_pred)\n",
    "# m.total = tf.reduce_sum(accuracy1)\n",
    "# print(m.total)\n",
    "# m.count = accuracy1.shape[0]\n",
    "# print(m.count)\n",
    "accuracy2 = m.result() # m.total/m.count\n",
    "print(\"m.total={}, m.count={}\".format(m.total.numpy(), m.count.numpy()))\n",
    "print(\"accuracy2=\", accuracy2.numpy())\n",
    "\n",
    "#m.total : y_true * y_pred 의 연산결과 true의 개수 (매칭되는 이진수의 개수)\n",
    "#m.count : 전체 개수"
   ],
   "metadata": {
    "collapsed": false,
    "ExecuteTime": {
     "start_time": "2023-04-24T17:18:51.286203Z",
     "end_time": "2023-04-24T17:18:51.301257Z"
    }
   }
  },
  {
   "cell_type": "markdown",
   "source": [
    "##### 정밀도, 재현율"
   ],
   "metadata": {
    "collapsed": false
   }
  },
  {
   "cell_type": "code",
   "execution_count": 30,
   "outputs": [],
   "source": [
    "#1\n",
    "##y_true = np.array([0, 1, 2, 0, 1, 2])\n",
    "##y_true = tf.keras.utils.to_categorical(y_true) # one-hot\n",
    "y_true = np.array([[1, 0, 0], #argmax = 0\n",
    "                   [0, 1, 0], #argmax = 1\n",
    "                   [0, 0, 1], #argmax = 2\n",
    "                   [1, 0, 0], #argmax = 0\n",
    "                   [0, 1, 0], #argmax = 1\n",
    "                   [0, 0, 1]]); #argmax = 2\n",
    "\n",
    "y_pred = np.array([[0.3, 0.6, 0.1],  #1 가장큰 레코드 인덱스\n",
    "                   [0.6, 0.3, 0.1],  #0\n",
    "                   [0.1, 0.3, 0.6],  #2\n",
    "                   [0.3, 0.6, 0.1],  #1\n",
    "                   [0.1, 0.6, 0.3],  #1\n",
    "                   [0.3, 0.1, 0.6]]);#2\n",
    "num_class = y_true.shape[1] # 3"
   ],
   "metadata": {
    "collapsed": false,
    "ExecuteTime": {
     "start_time": "2023-04-24T17:21:26.837383Z",
     "end_time": "2023-04-24T17:21:26.849351Z"
    }
   }
  },
  {
   "cell_type": "code",
   "execution_count": 39,
   "outputs": [
    {
     "name": "stdout",
     "output_type": "stream",
     "text": [
      "y_true1= [0 1 2 0 1 2]\n",
      "y_pred1= [1 0 2 1 1 2]\n",
      "confusion_matrix(C)= tf.Tensor(\n",
      "[[0 2 0]\n",
      " [1 1 0]\n",
      " [0 0 2]], shape=(3, 3), dtype=int32)\n"
     ]
    }
   ],
   "source": [
    "#2: C and TOP_k\n",
    "#2-1: threshold, and C in # 3-1, #4-1, and #6 in [step1701]\n",
    "y_true1 = np.argmax(y_true, axis=1).flatten()\n",
    "y_pred1 = np.argmax(np.cast['int'](y_pred>0.5), axis=1).flatten()\n",
    "C = tf.math.confusion_matrix(y_true1, y_pred1)\n",
    "print(\"y_true1=\",y_true1) # y_true1= [0 1 2 0 1 2]\n",
    "print(\"y_pred1=\",y_pred1) # y_pred1= [1 0 2 1 1 2]\n",
    "print(\"confusion_matrix(C)=\", C)"
   ],
   "metadata": {
    "collapsed": false,
    "ExecuteTime": {
     "start_time": "2023-04-24T17:28:46.407430Z",
     "end_time": "2023-04-24T17:28:46.414436Z"
    }
   }
  },
  {
   "cell_type": "code",
   "execution_count": 40,
   "outputs": [
    {
     "name": "stdout",
     "output_type": "stream",
     "text": [
      "index =  tf.Tensor(\n",
      "[[1 0 2]\n",
      " [0 1 2]\n",
      " [2 1 0]\n",
      " [1 0 2]\n",
      " [1 2 0]\n",
      " [2 0 1]], shape=(6, 3), dtype=int32)\n",
      "TOP_k =  tf.Tensor(\n",
      "[[1 0]\n",
      " [0 1]\n",
      " [2 1]\n",
      " [1 0]\n",
      " [1 2]\n",
      " [2 0]], shape=(6, 2), dtype=int32)\n"
     ]
    }
   ],
   "source": [
    "#2-2: to find top-k index, in #3-2, #4-2\n",
    "#argsort() : returns the indexes of a tensor that give its sorted order\n",
    "#정렬 후 인덱스 반환\n",
    "#axis =0 : row별, axis =1 : col별\n",
    "k=2\n",
    "indx = tf.argsort(y_pred, axis=1, direction='DESCENDING') #column\n",
    "print('index = ', indx)\n",
    "TOP_k = indx[:,:k] # slicing : coloum의 0 ~ k-1까지\n",
    "print(\"TOP_k = \", TOP_k)"
   ],
   "metadata": {
    "collapsed": false,
    "ExecuteTime": {
     "start_time": "2023-04-24T17:28:48.888596Z",
     "end_time": "2023-04-24T17:28:48.898567Z"
    }
   }
  },
  {
   "cell_type": "code",
   "execution_count": 32,
   "outputs": [
    {
     "name": "stdout",
     "output_type": "stream",
     "text": [
      "In each class, precision!\n",
      " p_0 =0.0, tp=[0.], fp= [1.]\n",
      " p_1 =0.3333333432674408, tp=[1.], fp= [2.]\n",
      " p_2 =1.0, tp=[2.], fp= [0.]\n",
      "In each class, precision with top_k= 2\n",
      " p_0 =0.5, tp=[2.], fp= [2.]\n",
      " p_1 =0.4000000059604645, tp=[2.], fp= [3.]\n",
      " p_2 =0.6666666865348816, tp=[2.], fp= [1.]\n"
     ]
    }
   ],
   "source": [
    "#3\n",
    "print(\"In each class, precision!\")\n",
    "#3-1: binary(1 above threshold=0.5, 0 below threshold= 0.5)\n",
    "for i in range(num_class):\n",
    "    m = tf.keras.metrics.Precision(class_id = i) #i = 0,1,2\n",
    "    m.update_state(y_true, y_pred)\n",
    "    tp = m.true_positives.numpy()\n",
    "    fp = m.false_positives.numpy()\n",
    "    p = m.result().numpy() # 정밀도\n",
    "    print(\" p_{} ={}, tp={}, fp= {}\".format(i,p, tp, fp))\n",
    "\n",
    "#3-2: the top-k classes with the highest predicted values\n",
    "print(\"In each class, precision with top_k=\", k)\n",
    "for i in range(num_class):\n",
    "    m = tf.keras.metrics.Precision(top_k=k, class_id = i)\n",
    "    m.update_state(y_true, y_pred)\n",
    "    tp = m.true_positives.numpy()\n",
    "    fp = m.false_positives.numpy()\n",
    "    p = m.result().numpy()\n",
    "    print(\" p_{} ={}, tp={}, fp= {}\".format(i,p, tp, fp))"
   ],
   "metadata": {
    "collapsed": false,
    "ExecuteTime": {
     "start_time": "2023-04-24T17:22:08.790671Z",
     "end_time": "2023-04-24T17:22:08.963238Z"
    }
   }
  },
  {
   "cell_type": "code",
   "execution_count": 33,
   "outputs": [
    {
     "name": "stdout",
     "output_type": "stream",
     "text": [
      "In each class, recall!\n",
      " recall_0 =0.0, tp=[0.], fn= [2.]\n",
      " recall_1 =0.5, tp=[1.], fn= [1.]\n",
      " recall_2 =1.0, tp=[2.], fn= [0.]\n",
      "In each class, recall with top_k= 2\n",
      " recall_0 =1.0, tp=[2.], fn= [0.]\n",
      " recall_1 =1.0, tp=[2.], fn= [0.]\n",
      " recall_2 =1.0, tp=[2.], fn= [0.]\n"
     ]
    }
   ],
   "source": [
    "#4\n",
    "print(\"In each class, recall!\")\n",
    "#4-1: binary(1 above threshold=0.5, 0 below threshold= 0.5)\n",
    "for i in range(num_class):\n",
    "    m = tf.keras.metrics.Recall(class_id = i)\n",
    "    m.update_state(y_true, y_pred)\n",
    "    tp = m.true_positives.numpy()\n",
    "    fn = m.false_negatives.numpy()\n",
    "    r = m.result().numpy()\n",
    "    print(\" recall_{} ={}, tp={}, fn= {}\".format(i,r, tp, fn))\n",
    "\n",
    "#4-2: the top-k classes with the highest predicted values\n",
    "print(\"In each class, recall with top_k=\", k)\n",
    "for i in range(num_class):\n",
    "    m = tf.keras.metrics.Recall(top_k=k, class_id = i)\n",
    "    m.update_state(y_true, y_pred)\n",
    "    r = m.result().numpy()\n",
    "    print(\" recall_{} ={}, tp={}, fn= {}\".format(i,r, tp, fn))"
   ],
   "metadata": {
    "collapsed": false,
    "ExecuteTime": {
     "start_time": "2023-04-24T17:22:47.280612Z",
     "end_time": "2023-04-24T17:22:47.321503Z"
    }
   }
  },
  {
   "cell_type": "markdown",
   "source": [
    "+ model.compile(optimization 경사하강법)\n",
    "+ model.fit() : 학습\n",
    "+ model.evaluate() : 성능평가 (정확도)\n",
    "+ feedback -> optimization 변경 등 반복"
   ],
   "metadata": {
    "collapsed": false
   }
  },
  {
   "cell_type": "markdown",
   "source": [
    "### 1-Dense층(1뉴런) AND, OR 분류"
   ],
   "metadata": {
    "collapsed": false
   }
  },
  {
   "cell_type": "code",
   "execution_count": 41,
   "outputs": [],
   "source": [
    "#1 입력단자 2개, 출력 1개\n",
    "X = np.array([[0, 0],\n",
    "              [0, 1],\n",
    "              [1, 0],\n",
    "              [1, 1]], dtype = np.float32)\n",
    "y_true = np.array([[0],[0], [0],[1]], dtype = np.float32)   # AND\n",
    "##y_true = np.array([[0],[1],[1],[1]], dtype = np.float32)  # OR"
   ],
   "metadata": {
    "collapsed": false,
    "ExecuteTime": {
     "start_time": "2023-04-24T17:45:01.909043Z",
     "end_time": "2023-04-24T17:45:01.924683Z"
    }
   }
  },
  {
   "cell_type": "code",
   "execution_count": 42,
   "outputs": [
    {
     "name": "stdout",
     "output_type": "stream",
     "text": [
      "Model: \"sequential\"\n",
      "_________________________________________________________________\n",
      " Layer (type)                Output Shape              Param #   \n",
      "=================================================================\n",
      " dense (Dense)               (None, 1)                 3         \n",
      "                                                                 \n",
      "=================================================================\n",
      "Total params: 3\n",
      "Trainable params: 3\n",
      "Non-trainable params: 0\n",
      "_________________________________________________________________\n"
     ]
    }
   ],
   "source": [
    "#2 모델 정의\n",
    "model = tf.keras.Sequential()\n",
    "# activation=tf.keras.activations.sigmoid\n",
    "model.add(tf.keras.layers.Dense(units=1, input_dim=2, activation='sigmoid'))\n",
    "model.summary()"
   ],
   "metadata": {
    "collapsed": false,
    "ExecuteTime": {
     "start_time": "2023-04-24T17:45:13.445203Z",
     "end_time": "2023-04-24T17:45:13.622317Z"
    }
   }
  },
  {
   "cell_type": "code",
   "execution_count": 46,
   "outputs": [
    {
     "data": {
      "text/plain": "<Figure size 640x480 with 1 Axes>",
      "image/png": "[encoded data removed]"
     },
     "metadata": {},
     "output_type": "display_data"
    }
   ],
   "source": [
    "#3 손실함수 뭐 쓸지 정함 (optimize, compile)\n",
    "# model.optimizer.lr: 0.001\n",
    "##model.compile(optimizer='rmsprop', loss='mse', metrics=['accuracy'])\n",
    "opt = tf.keras.optimizers.RMSprop(learning_rate=0.1)\n",
    "model.compile(optimizer=opt, loss='mse', metrics=['accuracy'])\n",
    "##model.compile(optimizer=opt, loss='binary_crossentropy', metrics=['accuracy'])\n",
    "\n",
    "ret = model.fit(X, y_true, epochs=100, batch_size=4, verbose=0) #silent\n",
    "##print(\"len(model.layers):\", len(model.layers)) # 1\n",
    "loss = ret.history['loss']\n",
    "plt.plot(loss)\n",
    "plt.xlabel('epochs')\n",
    "plt.ylabel('loss')\n",
    "plt.show()"
   ],
   "metadata": {
    "collapsed": false,
    "ExecuteTime": {
     "start_time": "2023-04-24T17:46:06.462295Z",
     "end_time": "2023-04-24T17:46:07.777478Z"
    }
   }
  },
  {
   "cell_type": "code",
   "execution_count": 47,
   "outputs": [
    {
     "name": "stdout",
     "output_type": "stream",
     "text": [
      "1/1 - 0s - loss: 5.1509e-05 - accuracy: 1.0000 - 79ms/epoch - 79ms/step\n",
      "test_loss: 5.150860670255497e-05\n",
      "test_acc: 1.0\n",
      "1/1 [==============================] - 0s 47ms/step\n",
      "y_pred: [[5.7212867e-07]\n",
      " [7.7823624e-03]\n",
      " [7.7823624e-03]\n",
      " [9.9078566e-01]]\n",
      "y_label: [[0]\n",
      " [0]\n",
      " [0]\n",
      " [1]]\n"
     ]
    }
   ],
   "source": [
    "#4\n",
    "test_loss, test_acc = model.evaluate(X, y_true, verbose=2)\n",
    "print(\"test_loss:\", test_loss)\n",
    "print(\"test_acc:\", test_acc)\n",
    "\n",
    "y_pred = model.predict(X)\n",
    "print(\"y_pred:\", y_pred)\n",
    "\n",
    "y_label = (y_pred> 0.5).astype(int) # Z = np.round(Z)\n",
    "print(\"y_label:\", y_label)"
   ],
   "metadata": {
    "collapsed": false,
    "ExecuteTime": {
     "start_time": "2023-04-24T17:46:17.353145Z",
     "end_time": "2023-04-24T17:46:17.552852Z"
    }
   }
  },
  {
   "cell_type": "code",
   "execution_count": 48,
   "outputs": [
    {
     "name": "stdout",
     "output_type": "stream",
     "text": [
      "9.53*x +9.53*y -14.37 = 0\n"
     ]
    },
    {
     "data": {
      "text/plain": "<matplotlib.collections.PathCollection at 0x189596a2260>"
     },
     "execution_count": 48,
     "metadata": {},
     "output_type": "execute_result"
    },
    {
     "data": {
      "text/plain": "<Figure size 600x600 with 1 Axes>",
      "image/png": "[encoded data removed]"
     },
     "metadata": {},
     "output_type": "display_data"
    }
   ],
   "source": [
    "#5: calculate the decision boundary line, w0*x + w1*y + b = 0\n",
    "##print(model.get_weights())\n",
    "w0, w1 = model.layers[0].weights[0].numpy().flatten()\n",
    "b = model.layers[0].bias.numpy()[0]\n",
    "print(\"{:>.2f}*x {:+.2f}*y {:+.2f} = 0\".format(w0, w1, b))\n",
    "\n",
    "fig = plt.gcf()\n",
    "fig.set_size_inches(6, 6)\n",
    "plt.gca().set_aspect('equal')\n",
    "\n",
    "label = y_true.flatten()\n",
    "##plt.scatter(X[:, 0], X[:,1], c=label, s = 100)\n",
    "plt.scatter(X[label==0, 0], X[label==0, 1], marker='x', c=\"blue\", s= 100)\n",
    "plt.scatter(X[label==1, 0], X[label==1, 1], marker='o', c=\"green\",s= 100)\n",
    "##for x,target in zip(X, y_true):\n",
    "##        plt.plot(x[0],x[1],'go' if (target == 1.0) else 'bx', markersize= 10)"
   ],
   "metadata": {
    "collapsed": false,
    "ExecuteTime": {
     "start_time": "2023-04-24T17:46:30.000000Z",
     "end_time": "2023-04-24T17:46:30.142891Z"
    }
   }
  },
  {
   "cell_type": "code",
   "execution_count": 49,
   "outputs": [
    {
     "data": {
      "text/plain": "<Figure size 640x480 with 1 Axes>",
      "image/png": "[encoded data removed]"
     },
     "metadata": {},
     "output_type": "display_data"
    }
   ],
   "source": [
    "def clippingLineBox(line, box):\n",
    "    w0, w1, b = line\n",
    "    xmin, xmax, ymin, ymax = box\n",
    "\n",
    "    y0 =-(w0*xmin + b)/w1\n",
    "    y1 =-(w0*xmax + b)/w1\n",
    "\n",
    "    x0 = -(w1*ymin + b)/w0\n",
    "    x1 = -(w1*ymax + b)/w0\n",
    "\n",
    "    xpoints = []\n",
    "    ypoints = []\n",
    "    if ymin <= y0 <= ymax:\n",
    "        xpoints.append(xmin)\n",
    "        ypoints.append(y0)\n",
    "    if ymin <= y1 <= ymax:\n",
    "        xpoints.append(xmax)\n",
    "        ypoints.append(y1)\n",
    "\n",
    "    if xmin <= x0 <= xmax:\n",
    "        xpoints.append(x0)\n",
    "        ypoints.append(ymin)\n",
    "    if xmin <= x1 <= xmax:\n",
    "        xpoints.append(x1)\n",
    "        ypoints.append(ymax)\n",
    "    return xpoints, ypoints\n",
    "\n",
    "# clip the line against a box, and draw\n",
    "xpoints, ypoints = clippingLineBox(line=(w0, w1, b), box=(0, 1, 0, 1))\n",
    "plt.plot(xpoints, ypoints, color='red')\n",
    "plt.show()"
   ],
   "metadata": {
    "collapsed": false,
    "ExecuteTime": {
     "start_time": "2023-04-24T17:46:41.129140Z",
     "end_time": "2023-04-24T17:46:41.239736Z"
    }
   }
  }
 ],
 "metadata": {
  "kernelspec": {
   "display_name": "Python 3",
   "language": "python",
   "name": "python3"
  },
  "language_info": {
   "codemirror_mode": {
    "name": "ipython",
    "version": 2
   },
   "file_extension": ".py",
   "mimetype": "text/x-python",
   "name": "python",
   "nbconvert_exporter": "python",
   "pygments_lexer": "ipython2",
   "version": "2.7.6"
  }
 },
 "nbformat": 4,
 "nbformat_minor": 0
}
