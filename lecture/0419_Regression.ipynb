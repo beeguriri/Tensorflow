{
 "cells": [
  {
   "cell_type": "markdown",
   "source": [
    "## Regression\n",
    "+ training data의 오차를 최소화하는 모델을 찾는 방법\n",
    "+ y = wx + b\n",
    "+ 학습 : w와 b 를 찾는것\n",
    "+ 방법 : MSE (Mean squared error)"
   ],
   "metadata": {
    "collapsed": false
   }
  },
  {
   "cell_type": "markdown",
   "source": [
    "### MSE 계산"
   ],
   "metadata": {
    "collapsed": false
   }
  },
  {
   "cell_type": "code",
   "execution_count": 41,
   "outputs": [],
   "source": [
    "import numpy as np\n",
    "import tensorflow as tf\n",
    "import matplotlib.pyplot as plt"
   ],
   "metadata": {
    "collapsed": false,
    "ExecuteTime": {
     "start_time": "2023-04-19T16:45:08.999481Z",
     "end_time": "2023-04-19T16:45:09.015429Z"
    }
   }
  },
  {
   "cell_type": "code",
   "execution_count": 3,
   "metadata": {
    "collapsed": true,
    "ExecuteTime": {
     "start_time": "2023-04-19T15:32:37.469789Z",
     "end_time": "2023-04-19T15:32:37.485506Z"
    }
   },
   "outputs": [
    {
     "name": "stdout",
     "output_type": "stream",
     "text": [
      "MSE(t, y1)= 1.875\n",
      "MSE(t, y2)= 0.25\n"
     ]
    }
   ],
   "source": [
    "#0501 수식을 이용한 MSE계산\n",
    "def MSE(y, t):\n",
    "    return np.sum((y-t)**2)/t.size\n",
    "\n",
    "t = np.array([1, 2, 3, 4])\n",
    "y1 = np.array([0.5, 1, 1.5, 2])\n",
    "\n",
    "print(\"MSE(t, y1)=\", MSE(t, y1))\n",
    "\n",
    "y2 = np.array([0.5, 1.5, 2.5, 3.5])\n",
    "print(\"MSE(t, y2)=\", MSE(t, y2))\n",
    "\n",
    "#MSE(t, y1)= 1.875\n",
    "#MSE(t, y2)= 0.25\n",
    "#y1.보다 y2가 더 t에 가까운 값"
   ]
  },
  {
   "cell_type": "code",
   "execution_count": 10,
   "outputs": [
    {
     "name": "stdout",
     "output_type": "stream",
     "text": [
      "MSE(t, y1)= 1.875\n",
      "MSE(t, y2)= 0.25\n"
     ]
    }
   ],
   "source": [
    "#0502 reduce_mean을 사용한 MSE 계산\n",
    "def MSE(y, t):\n",
    "    return tf.reduce_mean(tf.square(y - t))   # (y - t)**2\n",
    "\n",
    "t = np.array([1, 2, 3, 4])\n",
    "\n",
    "y1 = np.array([0.5, 1, 1.5, 2])\n",
    "print(\"MSE(t, y1)=\", MSE(t, y1).numpy())\n",
    "\n",
    "y2 = np.array([0.5, 1.5, 2.5, 3.5])\n",
    "print(\"MSE(t, y2)=\", MSE(t, y2).numpy())"
   ],
   "metadata": {
    "collapsed": false,
    "ExecuteTime": {
     "start_time": "2023-04-19T15:34:08.940993Z",
     "end_time": "2023-04-19T15:34:08.956611Z"
    }
   }
  },
  {
   "cell_type": "code",
   "execution_count": 8,
   "outputs": [
    {
     "name": "stdout",
     "output_type": "stream",
     "text": [
      "MSE(t, y1)= 1.875\n",
      "MSE(t, y2)= 0.25\n"
     ]
    }
   ],
   "source": [
    "#0503 tf.keras.losses.MeanSquaredError를 사용한 MSE 계산\n",
    "t = np.array([1, 2, 3, 4])\n",
    "\n",
    "y1 = np.array([0.5, 1, 1.5, 2])\n",
    "MSE = tf.keras.losses.MeanSquaredError()\n",
    "print(\"MSE(t, y1)=\", MSE(t, y1).numpy())\n",
    "\n",
    "y2 = np.array([0.5, 1.5, 2.5, 3.5])\n",
    "print(\"MSE(t, y2)=\", MSE(t, y2).numpy())"
   ],
   "metadata": {
    "collapsed": false,
    "ExecuteTime": {
     "start_time": "2023-04-19T15:33:31.357134Z",
     "end_time": "2023-04-19T15:33:31.388495Z"
    }
   }
  },
  {
   "cell_type": "markdown",
   "source": [
    "### 경사하강법"
   ],
   "metadata": {
    "collapsed": false
   }
  },
  {
   "cell_type": "code",
   "execution_count": 28,
   "outputs": [
    {
     "name": "stdout",
     "output_type": "stream",
     "text": [
      "w=0.9853. b=0.0619, loss=0.0029\n"
     ]
    }
   ],
   "source": [
    "#0601 numpy를 이용한 경사하강법\n",
    "def MSE(y, t):\n",
    "    return np.sum((y-t)**2)/t.size\n",
    "\n",
    "x = np.arange(12) # 입력데이터\n",
    "t = np.arange(12) # 테스트데이터\n",
    "\n",
    "w = 0.5     # 초기값 임의 설정\n",
    "b = 0       # 초기값 임의 설정\n",
    "lr = 0.001  # 학습률\n",
    "\n",
    "loss_list = [ ]\n",
    "for epoch in range(200):\n",
    "    y = w*x + b                      # calculate the output\n",
    "    dW = np.sum((y-t)*x)/(2*x.size)  # gradients\n",
    "    dB = np.sum((y-t))/(2*x.size)\n",
    "\n",
    "    w = w - lr*dW     # update parameters\n",
    "    b = b - lr*dB\n",
    "\n",
    "    y = w*x + b       # calculate the output\n",
    "    loss = MSE(y, t)\n",
    "    loss_list.append(loss)\n",
    "##    if not epoch%10:\n",
    "##        print(\"epoch={}: w={:>8.4f}. b={:>8.4f}, loss={}\".format(epoch, w, b, loss))\n",
    "\n",
    "print(\"w={:>.4f}. b={:>.4f}, loss={:>.4f}\".format(w, b, loss))\n",
    "\n",
    "# lr = 0.01 => w=0.9936. b=0.0489, loss=0.0007\n",
    "# lr = 0.001 => w=0.9853. b=0.0619, loss=0.0029\n",
    "# lt = 0.01, 분자에 2가 갔을때 => w=0.9972. b=0.0212, loss=0.0001\n",
    "# lr = 0.001, 분자에 2가 갔을때 => w=0.9924. b=0.0577, loss=0.0009"
   ],
   "metadata": {
    "collapsed": false,
    "ExecuteTime": {
     "start_time": "2023-04-19T16:31:20.374362Z",
     "end_time": "2023-04-19T16:31:20.390068Z"
    }
   }
  },
  {
   "cell_type": "code",
   "execution_count": 29,
   "outputs": [
    {
     "data": {
      "text/plain": "<Figure size 640x480 with 1 Axes>",
      "image/png": "[encoded data removed]"
     },
     "metadata": {},
     "output_type": "display_data"
    }
   ],
   "source": [
    "plt.plot(loss_list)\n",
    "plt.show()"
   ],
   "metadata": {
    "collapsed": false,
    "ExecuteTime": {
     "start_time": "2023-04-19T16:31:23.461774Z",
     "end_time": "2023-04-19T16:31:23.571125Z"
    }
   }
  },
  {
   "cell_type": "markdown",
   "source": [
    "### 확률적 경사하강법"
   ],
   "metadata": {
    "collapsed": false
   }
  },
  {
   "cell_type": "code",
   "execution_count": 33,
   "outputs": [
    {
     "name": "stdout",
     "output_type": "stream",
     "text": [
      "epoch=0: w=  0.5187. b=  0.0027, loss=5.922037777644628\n",
      "epoch=10: w=  0.7298. b=  0.0307, loss=2.432347911107002\n",
      "epoch=20: w=  0.8547. b=  0.0466, loss=0.722258613566107\n",
      "epoch=30: w=  0.9231. b=  0.0549, loss=0.13755973455495696\n",
      "epoch=40: w=  0.9561. b=  0.0590, loss=0.055050983593270535\n",
      "epoch=50: w=  0.9741. b=  0.0611, loss=0.022527344907995336\n",
      "epoch=60: w=  0.9819. b=  0.0619, loss=0.004971309827670759\n",
      "epoch=70: w=  0.9871. b=  0.0623, loss=0.0020347521948107104\n",
      "epoch=80: w=  0.9895. b=  0.0623, loss=0.001767971031683184\n",
      "epoch=90: w=  0.9906. b=  0.0622, loss=0.0010943141682766904\n",
      "w=  0.9909. b=  0.0620, loss=0.0020658835264169904\n"
     ]
    }
   ],
   "source": [
    "#0602\n",
    "def MSE(y, t):\n",
    "    return np.sum((y-t)**2)/t.size\n",
    "\n",
    "x = np.arange(12)\n",
    "t = np.arange(12)\n",
    "\n",
    "w = 0.5\n",
    "b = 0\n",
    "lr = 0.001  # 0.01, learning rate\n",
    "loss_list = [ ]\n",
    "\n",
    "train_size = t.size # 12\n",
    "batch_size = 4\n",
    "K = train_size// batch_size # 3\n",
    "\n",
    "for epoch in range(100):\n",
    "    loss = 0\n",
    "    for step in range(K): # K=3 (12//4)\n",
    "        mask = np.random.choice(train_size, batch_size) # 샘플링대상 (12개에서 4개 뽑기)\n",
    "        x_batch = x[mask]\n",
    "        t_batch = t[mask]\n",
    "\n",
    "        y = w*x_batch + b                               # calculate the output\n",
    "        dW = np.sum((y-t_batch)*x_batch)/(2*batch_size) # gradients\n",
    "        dB = np.sum((y-t_batch))/(2*batch_size)\n",
    "\n",
    "        w = w - lr*dW   # update parameters\n",
    "        b = b - lr*dB\n",
    "\n",
    "        y = w*x_batch + b       # calculate the output\n",
    "        loss += MSE(y, t_batch) # calculate MSE\n",
    "\n",
    "    loss /= K  # average loss\n",
    "    loss_list.append(loss)\n",
    "    if not epoch%10:\n",
    "        print(\"epoch={}: w={:>8.4f}. b={:>8.4f}, loss={}\".format(epoch, w, b, loss))\n",
    "\n",
    "print(\"w={:>8.4f}. b={:>8.4f}, loss={}\".format(w, b, loss))"
   ],
   "metadata": {
    "collapsed": false,
    "ExecuteTime": {
     "start_time": "2023-04-19T16:32:48.064431Z",
     "end_time": "2023-04-19T16:32:48.094868Z"
    }
   }
  },
  {
   "cell_type": "code",
   "execution_count": 34,
   "outputs": [
    {
     "data": {
      "text/plain": "<Figure size 640x480 with 1 Axes>",
      "image/png": "[encoded data removed]"
     },
     "metadata": {},
     "output_type": "display_data"
    }
   ],
   "source": [
    "plt.plot(loss_list)\n",
    "plt.show()"
   ],
   "metadata": {
    "collapsed": false,
    "ExecuteTime": {
     "start_time": "2023-04-19T16:32:49.450429Z",
     "end_time": "2023-04-19T16:32:49.554583Z"
    }
   }
  },
  {
   "cell_type": "markdown",
   "source": [
    "### 자동 미분 계산\n",
    "+ tf.GradientTape 로 연산을 테이프에 기록하고\n",
    "+ GradientTape.gradient()로 기록된 연산의 미분을 자동으로 계산"
   ],
   "metadata": {
    "collapsed": false
   }
  },
  {
   "cell_type": "code",
   "execution_count": 38,
   "outputs": [
    {
     "name": "stdout",
     "output_type": "stream",
     "text": [
      "dx= 4.0\n",
      "dy= 6.0\n"
     ]
    }
   ],
   "source": [
    "# 자동미분계산1 : tf.GradientTape()\n",
    "x = tf.Variable(2.0) # tf.Variable(2.0, trainable=True)\n",
    "y = tf.Variable(3.0) # tf.Variable(3.0, trainable=True)\n",
    "# 주어진 입력변수 x,y에 대한 그래디언트를 계산\n",
    "with tf.GradientTape() as tape:\n",
    "    z = x**2 + y**2\n",
    "\n",
    "dx, dy = tape.gradient(z, [x, y])\n",
    "\n",
    "print('dx=', dx.numpy())\n",
    "print('dy=', dy.numpy())"
   ],
   "metadata": {
    "collapsed": false,
    "ExecuteTime": {
     "start_time": "2023-04-19T16:44:08.110649Z",
     "end_time": "2023-04-19T16:44:08.126252Z"
    }
   }
  },
  {
   "cell_type": "code",
   "execution_count": 39,
   "outputs": [
    {
     "name": "stdout",
     "output_type": "stream",
     "text": [
      "dx= 4.0\n",
      "dy= 6.0\n"
     ]
    }
   ],
   "source": [
    "# 자동미분계산2 : tf.GradientTape(persistent=True)\n",
    "\n",
    "x = tf.constant(2.0)\n",
    "y = tf.constant(3.0)\n",
    "#print(x)\n",
    "# gradient tape는 \"watched\"로 설정된 변수만 추적할 수 있다\n",
    "with tf.GradientTape(persistent=True) as tape:\n",
    "    tape.watch(x)\n",
    "    tape.watch(y)\n",
    "    z = x**2 + y**2\n",
    "\n",
    "dx, dy = tape.gradient(z, [x, y])\n",
    "\n",
    "print('dx=', dx.numpy())\n",
    "print('dy=', dy.numpy())"
   ],
   "metadata": {
    "collapsed": false,
    "ExecuteTime": {
     "start_time": "2023-04-19T16:44:10.325925Z",
     "end_time": "2023-04-19T16:44:10.341539Z"
    }
   }
  },
  {
   "cell_type": "code",
   "execution_count": 43,
   "outputs": [
    {
     "name": "stdout",
     "output_type": "stream",
     "text": [
      "dx= 4.0\n",
      "dy= 6.0\n"
     ]
    }
   ],
   "source": [
    "#0703 - \"watched\" 사용\n",
    "\n",
    "x = tf.Variable(2.0) # tf.Variable(2.0, trainable=True) - \"watched\"로 설정된 텐서이다\n",
    "y = tf.Variable(3.0) # tf.Variable(3.0, trainable=True)\n",
    "\n",
    "# \"watched\"가 없으면 dx,dy는 none을 반환한다\n",
    "with tf.GradientTape(watch_accessed_variables=False) as tape:\n",
    "    tape.watch(x)\n",
    "    tape.watch(y)\n",
    "    z = x**2 + y**2\n",
    "dx, dy = tape.gradient(z, [x, y])\n",
    "\n",
    "print('dx=', dx.numpy())\n",
    "print('dy=', dy.numpy())"
   ],
   "metadata": {
    "collapsed": false,
    "ExecuteTime": {
     "start_time": "2023-04-19T16:45:37.150619Z",
     "end_time": "2023-04-19T16:45:37.166473Z"
    }
   }
  },
  {
   "cell_type": "code",
   "execution_count": 44,
   "outputs": [
    {
     "name": "stdout",
     "output_type": "stream",
     "text": [
      "dy= 27.0\n",
      "dy2= 18.0\n"
     ]
    }
   ],
   "source": [
    "#0704 - 2차 미분\n",
    "\n",
    "x = tf.Variable(3.0)\n",
    "\n",
    "with tf.GradientTape() as tape2:\n",
    "    with tf.GradientTape() as tape1:\n",
    "        y = x**3\n",
    "    dy = tape1.gradient(y, x) # dy = 3x**2\n",
    "dy2 = tape2.gradient(dy, x) # dy2 = 6x\n",
    "\n",
    "print('dy=', dy.numpy())\n",
    "print('dy2=', dy2.numpy())"
   ],
   "metadata": {
    "collapsed": false,
    "ExecuteTime": {
     "start_time": "2023-04-19T16:46:35.392910Z",
     "end_time": "2023-04-19T16:46:35.408559Z"
    }
   }
  },
  {
   "cell_type": "markdown",
   "source": [
    "### 텐서플로 단순 선형 회귀"
   ],
   "metadata": {
    "collapsed": false
   }
  },
  {
   "cell_type": "code",
   "execution_count": 48,
   "outputs": [
    {
     "name": "stdout",
     "output_type": "stream",
     "text": [
      "epoch=0: w=0.5422. b=0.0055, loss=10.541666984558105\n",
      "epoch=10: w=0.8083. b=0.0401, loss=1.7546306848526\n",
      "epoch=20: w=0.9169. b=0.0540, loss=0.29284951090812683\n",
      "epoch=30: w=0.9612. b=0.0594, loss=0.049664050340652466\n",
      "epoch=40: w=0.9793. b=0.0615, loss=0.009198411367833614\n",
      "epoch=50: w=0.9867. b=0.0621, loss=0.0024564294144511223\n",
      "epoch=60: w=0.9897. b=0.0621, loss=0.0013246409362182021\n",
      "epoch=70: w=0.9910. b=0.0619, loss=0.0011262428015470505\n",
      "epoch=80: w=0.9916. b=0.0617, loss=0.001083222683519125\n",
      "epoch=90: w=0.9918. b=0.0613, loss=0.001066161785274744\n",
      "w=0.9919. b=0.0610, loss=0.0010547313140705228\n"
     ]
    }
   ],
   "source": [
    "# step 08 - 텐서플로 단순 선형 회귀\n",
    "#0801 - 자동 미분 계산 2 : y = xw + b의 가중치 w, b를 손실함수를 사용한 경사하강법으로 구현\n",
    "\n",
    "x = np.arange(12)   #x = tf.convert_to_tensor(x, dtype=tf.float32)\n",
    "t = np.arange(12)   #t = tf.convert_to_tensor(t, dtype=tf.float32)\n",
    "\n",
    "w = tf.Variable(0.5)    #임의값\n",
    "b = tf.Variable(0.0)    #임의값\n",
    "lr = 0.001   # 학습률\n",
    "\n",
    "loss_list = [ ]  # for graph\n",
    "for epoch in range(100):\n",
    "    with tf.GradientTape() as tape:# y, loss를 tape에 기록\n",
    "        y = x*w + b # 단순 선형 회귀 모델\n",
    "        loss = tf.reduce_mean(tf.square(y - t))\n",
    "\n",
    "    loss_list.append(loss.numpy())\n",
    "\n",
    "    dW, dB = tape.gradient(loss, [w, b])\n",
    "    w.assign_sub(lr * dW) # w = w + x * lr * error 갱신\n",
    "    b.assign_sub(lr * dB)\n",
    "\n",
    "    if not epoch%10:\n",
    "        print(\"epoch={}: w={:>.4f}. b={:>.4f}, loss={}\".format(\n",
    "            epoch, w.numpy(), b.numpy(), loss.numpy()))\n",
    "\n",
    "print(\"w={:>.4f}. b={:>.4f}, loss={}\".format(w.numpy(), b.numpy(), loss.numpy()))"
   ],
   "metadata": {
    "collapsed": false,
    "ExecuteTime": {
     "start_time": "2023-04-19T16:49:27.921785Z",
     "end_time": "2023-04-19T16:49:28.099730Z"
    }
   }
  },
  {
   "cell_type": "code",
   "execution_count": 47,
   "outputs": [
    {
     "data": {
      "text/plain": "<Figure size 640x480 with 1 Axes>",
      "image/png": "[encoded data removed]"
     },
     "metadata": {},
     "output_type": "display_data"
    }
   ],
   "source": [
    "plt.plot(loss_list)\n",
    "plt.show()"
   ],
   "metadata": {
    "collapsed": false,
    "ExecuteTime": {
     "start_time": "2023-04-19T16:48:30.495764Z",
     "end_time": "2023-04-19T16:48:30.589528Z"
    }
   }
  },
  {
   "cell_type": "markdown",
   "source": [
    "### 미니배치에 의한 확률적 경사하강법\n",
    "+ 확률적 경사하강법, 미니배치 경사하강법 구글링으로 공부하기\n",
    "+ 구글링: <a href='https://yhyun225.tistory.com/7'>모델이 학습하는 방법 - 확률적 경사하강법(Stochastic Gradient Descent, SGD)와 미니배치 경사하강법(mini-batch Gradient Descent)</a>\n",
    "+ 구글링: <a href='https://skyil.tistory.com/68'>배치와 미니 배치, 확률적 경사하강법</a>"
   ],
   "metadata": {
    "collapsed": false
   }
  },
  {
   "cell_type": "code",
   "execution_count": 53,
   "outputs": [
    {
     "name": "stdout",
     "output_type": "stream",
     "text": [
      "epoch=0: w=0.6242. b=0.0158, batch_loss=9.597347577412924\n",
      "epoch=10: w=0.9709. b=0.0587, batch_loss=0.017959410324692726\n",
      "epoch=20: w=0.9901. b=0.0603, batch_loss=0.0008330010459758341\n",
      "epoch=30: w=0.9926. b=0.0594, batch_loss=0.0008312852975601951\n",
      "epoch=40: w=0.9922. b=0.0584, batch_loss=0.0010941329722603161\n",
      "epoch=50: w=0.9927. b=0.0574, batch_loss=0.0007285699830390513\n",
      "epoch=60: w=0.9927. b=0.0566, batch_loss=0.0005316767007267723\n",
      "epoch=70: w=0.9926. b=0.0557, batch_loss=0.0004201761039439589\n",
      "epoch=80: w=0.9928. b=0.0548, batch_loss=0.0006404278489450613\n",
      "epoch=90: w=0.9931. b=0.0539, batch_loss=0.0006931432581041008\n",
      "w=0.9930. b=0.0531, batch_loss=0.00047746390919201076\n"
     ]
    }
   ],
   "source": [
    "#0802 - 미니배치에 의한 확률적 경사하강법\n",
    "\n",
    "x = np.arange(12)\n",
    "t = np.arange(12)\n",
    "\n",
    "w = tf.Variable(0.5)\n",
    "b = tf.Variable(0.0)\n",
    "lr= 0.001   # learning rate, 0.0001\n",
    "\n",
    "train_size = x.size # 12\n",
    "batch_size = 4 # mini-batch\n",
    "K = train_size// batch_size\n",
    "\n",
    "loss_list = [ ]\n",
    "for epoch in range(100):\n",
    "    batch_loss = 0.0\n",
    "    for step in range(K): # 4번 돈다\n",
    "        mask = np.random.choice(train_size, batch_size) # t의 샘플링 (12개 중에 4개)\n",
    "        x_batch = x[mask] # stochastic\n",
    "        t_batch = t[mask]\n",
    "\n",
    "        with tf.GradientTape() as tape:\n",
    "            y = w*x_batch + b\n",
    "            loss = tf.reduce_mean(tf.square(y - t_batch))\n",
    "\n",
    "        dW, dB = tape.gradient(loss, [w, b])\n",
    "        w.assign_sub(lr * dW)\n",
    "        b.assign_sub(lr * dB)\n",
    "\n",
    "        batch_loss += loss.numpy() # pre-update loss\n",
    "    batch_loss /= K #  average loss\n",
    "    loss_list.append(batch_loss)\n",
    "\n",
    "    if not epoch%10:\n",
    "        print(\"epoch={}: w={:>.4f}. b={:>.4f}, batch_loss={}\".format(\n",
    "                epoch, w.numpy(), b.numpy(), batch_loss))\n",
    "\n",
    "print(\"w={:>.4f}. b={:>.4f}, batch_loss={}\".format(w.numpy(), b.numpy(), batch_loss))"
   ],
   "metadata": {
    "collapsed": false,
    "ExecuteTime": {
     "start_time": "2023-04-19T16:55:57.368688Z",
     "end_time": "2023-04-19T16:55:57.899157Z"
    }
   }
  },
  {
   "cell_type": "code",
   "execution_count": 51,
   "outputs": [
    {
     "data": {
      "text/plain": "<Figure size 640x480 with 1 Axes>",
      "image/png": "[encoded data removed]"
     },
     "metadata": {},
     "output_type": "display_data"
    }
   ],
   "source": [
    "plt.plot(loss_list)\n",
    "plt.show()"
   ],
   "metadata": {
    "collapsed": false,
    "ExecuteTime": {
     "start_time": "2023-04-19T16:53:33.965776Z",
     "end_time": "2023-04-19T16:53:34.076362Z"
    }
   }
  },
  {
   "cell_type": "markdown",
   "source": [
    "### 다변수 선형회귀\n",
    "+ x1, x2, t"
   ],
   "metadata": {
    "collapsed": false
   }
  },
  {
   "cell_type": "code",
   "execution_count": 55,
   "outputs": [
    {
     "name": "stdout",
     "output_type": "stream",
     "text": [
      "W= [[-1.1012203]\n",
      " [ 1.5457517]]\n",
      "b= [0.40308788]\n",
      "y= [[-0.6981324 ]\n",
      " [-1.7993526 ]\n",
      " [-2.900573  ]\n",
      " [-4.001793  ]\n",
      " [ 0.8476193 ]\n",
      " [-0.25360093]\n",
      " [-1.3548213 ]\n",
      " [-2.4560416 ]]\n",
      "MSE(y, t)= 70.80983\n"
     ]
    }
   ],
   "source": [
    "#0901 - step09 - 다변수 선형 회귀 > 2변수 선형 모델 MSE\n",
    "\n",
    "#학습 전\n",
    "##def MSE(y, t):\n",
    "##    return tf.reduce_mean(tf.square(y - t)) # (y - t)**2\n",
    "MSE = tf.keras.losses.MeanSquaredError()\n",
    "\n",
    "train_data = np.array([ # t = 1*x1 + 2*x2 + 3\n",
    "#  x1, x2, t\n",
    " [ 1,  0,  4],\n",
    " [ 2,  0,  5],\n",
    " [ 3,  0,  6],\n",
    " [ 4,  0,  7],\n",
    " [ 1,  1,  6],\n",
    " [ 2,  1,  7],\n",
    " [ 3,  1,  8],\n",
    " [ 4,  1,  9]], dtype=np.float32)\n",
    "\n",
    "X = train_data[:, :-1] # 슬라이싱\n",
    "t = train_data[:, -1:]  # 슬라이싱\n",
    "#X = tf.convert_to_tensor(X, dtype=tf.float32)\n",
    "#t = tf.convert_to_tensor(t, dtype=tf.float32)\n",
    "# print(\"X=\", X)\n",
    "# print(\"t=\", t)\n",
    "\n",
    "tf.random.set_seed(1) # 난수열 초기화\n",
    "W = tf.Variable(tf.random.normal(shape=[2, 1]), )\n",
    "b = tf.Variable(tf.random.normal(shape=[1]))\n",
    "##W = tf.Variable([[0.5],[0.5]], dtype=tf.float32)\n",
    "##b = tf.Variable(0.0)\n",
    "print(\"W=\", W.numpy()) # w[0] = 1, w[2] = 2\n",
    "print(\"b=\", b.numpy()) # b = 3 << t = 1 * x1 + 2 * x2 + 3 이므로\n",
    "\n",
    "y = tf.matmul(X, W) + b #  y = x * w + b\n",
    "print(\"y=\", y.numpy())\n",
    "\n",
    "loss = MSE(y, t)\n",
    "print(\"MSE(y, t)=\", loss.numpy())\n"
   ],
   "metadata": {
    "collapsed": false,
    "ExecuteTime": {
     "start_time": "2023-04-19T17:22:55.784486Z",
     "end_time": "2023-04-19T17:22:55.815729Z"
    }
   }
  },
  {
   "cell_type": "code",
   "execution_count": 56,
   "outputs": [
    {
     "name": "stdout",
     "output_type": "stream",
     "text": [
      "W=[[1.0032761]\n",
      " [2.005639 ]]. b=[2.9875078], loss=2.3675645934417844e-05\n"
     ]
    }
   ],
   "source": [
    "#0902 - 2변수 선형 회귀\n",
    "# 목표값에 대하여 경사하강법으로 훈련 데이터 학습 목표 값과 비교\n",
    "MSE = tf.keras.losses.MeanSquaredError()\n",
    "\n",
    "train_data = np.array([ # t = 1*x1 + 2*x2 + 3\n",
    "#  x1, x2, t\n",
    " [ 1,  0,  4],\n",
    " [ 2,  0,  5],\n",
    " [ 3,  0,  6],\n",
    " [ 4,  0,  7],\n",
    " [ 1,  1,  6],\n",
    " [ 2,  1,  7],\n",
    " [ 3,  1,  8],\n",
    " [ 4,  1,  9]], dtype=np.float32)\n",
    "\n",
    "X = train_data[:, :-1]\n",
    "t = train_data[:, -1:]\n",
    "\n",
    "tf.random.set_seed(1) # 난수열 초기화\n",
    "W = tf.Variable(tf.random.normal(shape=[2, 1]), )\n",
    "b = tf.Variable(tf.random.normal(shape=[1]))\n",
    "lr = 0.01  # learning rate, 0.001\n",
    "\n",
    "loss_list = [ ]\n",
    "for epoch in range(2000):\n",
    "    with tf.GradientTape() as tape:\n",
    "        y = tf.matmul(X, W) + b\n",
    "        loss = MSE(y, t)\n",
    "    loss_list.append(loss.numpy())\n",
    "\n",
    "    dW, dB = tape.gradient(loss, [W, b])\n",
    "    W.assign_sub(lr * dW)\n",
    "    b.assign_sub(lr * dB)\n",
    "\n",
    "##    if not epoch%100:\n",
    "##        print(\"epoch={}: loss={}\".format(epoch, loss.numpy()))\n",
    "\n",
    "print(\"W={}. b={}, loss={}\".format(W.numpy(), b.numpy(), loss.numpy()))"
   ],
   "metadata": {
    "collapsed": false,
    "ExecuteTime": {
     "start_time": "2023-04-19T17:24:19.422638Z",
     "end_time": "2023-04-19T17:24:25.157553Z"
    }
   }
  },
  {
   "cell_type": "code",
   "execution_count": 57,
   "outputs": [
    {
     "data": {
      "text/plain": "<Figure size 640x480 with 1 Axes>",
      "image/png": "[encoded data removed]"
     },
     "metadata": {},
     "output_type": "display_data"
    }
   ],
   "source": [
    "plt.plot(loss_list)\n",
    "plt.show()"
   ],
   "metadata": {
    "collapsed": false,
    "ExecuteTime": {
     "start_time": "2023-04-19T17:25:23.508210Z",
     "end_time": "2023-04-19T17:25:23.639377Z"
    }
   }
  },
  {
   "cell_type": "code",
   "execution_count": 58,
   "outputs": [
    {
     "name": "stdout",
     "output_type": "stream",
     "text": [
      "W=[[1.0030948]\n",
      " [2.0049906]]. b=[2.9883814], loss=7.600438266308629e-06\n"
     ]
    }
   ],
   "source": [
    "#0903 - 2변수 선형 회귀의 미니배치 학습\n",
    "\n",
    "MSE = tf.keras.losses.MeanSquaredError()\n",
    "\n",
    "train_data = np.array([ # t = 1*x1 + 2*x2 + 3\n",
    "#  x1, x2, t\n",
    " [ 1,  0,  4],\n",
    " [ 2,  0,  5],\n",
    " [ 3,  0,  6],\n",
    " [ 4,  0,  7],\n",
    " [ 1,  1,  6],\n",
    " [ 2,  1,  7],\n",
    " [ 3,  1,  8],\n",
    " [ 4,  1,  9]], dtype=np.float32)\n",
    "\n",
    "X = train_data[:, :-1]\n",
    "t = train_data[:, -1:]\n",
    "\n",
    "tf.random.set_seed(1)\n",
    "W = tf.Variable(tf.random.normal(shape=[2, 1]), )\n",
    "b = tf.Variable(tf.random.normal(shape=[1]))\n",
    "lr = 0.01   # learning rate, 0.001\n",
    "\n",
    "train_size = X.shape[0]\n",
    "batch_size = 4\n",
    "K = train_size// batch_size\n",
    "\n",
    "loss_list = [ ]\n",
    "for epoch in range(1000):\n",
    "    batch_loss = 0.0\n",
    "    for step in range(K):\n",
    "      # 미니배치로 확률적 경사 하강법 구현 - 랜덤 샘플링\n",
    "        mask = np.random.choice(train_size, batch_size)\n",
    "        x_batch = X[mask] # 미니 배치 데이터를 추출하여 계산\n",
    "        t_batch = t[mask]\n",
    "\n",
    "        with tf.GradientTape() as tape:\n",
    "            y = tf.matmul(x_batch, W) + b\n",
    "            loss = MSE(y, t_batch)\n",
    "\n",
    "        batch_loss += loss.numpy()\n",
    "\n",
    "        dW, dB = tape.gradient(loss, [W, b])\n",
    "        W.assign_sub(lr * dW)\n",
    "        b.assign_sub(lr * dB)\n",
    "\n",
    "    batch_loss /= K\n",
    "    loss_list.append(batch_loss) # average loss\n",
    "##    if not epoch%100:\n",
    "##            print(\"epoch={}, batch_loss={}\".format(epoch, batch_loss))\n",
    "\n",
    "print(\"W={}. b={}, loss={}\".format(W.numpy(), b.numpy(), batch_loss))"
   ],
   "metadata": {
    "collapsed": false,
    "ExecuteTime": {
     "start_time": "2023-04-19T17:28:25.634610Z",
     "end_time": "2023-04-19T17:28:31.315477Z"
    }
   }
  },
  {
   "cell_type": "code",
   "execution_count": 59,
   "outputs": [
    {
     "data": {
      "text/plain": "<Figure size 640x480 with 1 Axes>",
      "image/png": "[encoded data removed]"
     },
     "metadata": {},
     "output_type": "display_data"
    }
   ],
   "source": [
    "plt.plot(loss_list)\n",
    "plt.show()"
   ],
   "metadata": {
    "collapsed": false,
    "ExecuteTime": {
     "start_time": "2023-04-19T17:28:33.471224Z",
     "end_time": "2023-04-19T17:28:33.564994Z"
    }
   }
  },
  {
   "cell_type": "markdown",
   "source": [
    "### tf.keras.optimizers\n",
    "+ default learning rate = 0.001\n",
    "+ 대부분 손실함수 최적화 문제에서 Adam(), RMSprop() 등을 사용"
   ],
   "metadata": {
    "collapsed": false
   }
  },
  {
   "cell_type": "code",
   "execution_count": 60,
   "outputs": [
    {
     "name": "stdout",
     "output_type": "stream",
     "text": [
      "x=0.00000, y=0.00000, loss=8.428705744119335e-19\n"
     ]
    }
   ],
   "source": [
    "#1001 - tf.keras.optimizers를 이용한 학습 > 함수 최적화\n",
    "# loss = x**2 + y ** 2의 최소해를 구하는 문제이다\n",
    "\n",
    "x = tf.Variable(2.0)\n",
    "y = tf.Variable(3.0)\n",
    "\n",
    "opt = tf.keras.optimizers.SGD(learning_rate=0.1) # learning_rate=0.001\n",
    "##opt = tf.keras.optimizers.Adagrad(0.1)\n",
    "##opt = tf.keras.optimizers.Adam(0.1)\n",
    "##opt = tf.keras.optimizers.RMSprop(0.1)\n",
    "\n",
    "loss_list = [ ]\n",
    "for epoch in range(100):\n",
    "        with tf.GradientTape() as tape:\n",
    "                loss = x**2 + y**2\n",
    "        loss_list.append(loss.numpy())\n",
    "\n",
    "##        grads = tape.gradient(loss, [x, y])\n",
    "##        grads_list = [g for g in grads]\n",
    "##        grads_and_vars = zip(grads_list, [x, y])\n",
    "\n",
    "        dx, dy = tape.gradient(loss, [x, y])\n",
    "        grads_and_vars = zip([dx, dy], [x, y]) # 순서쌍을 묶는다\n",
    "        opt.apply_gradients(grads_and_vars) # 최적화 수행\n",
    "\n",
    "##        if not epoch%10:\n",
    "##                print(\"epoch={}: loss={}\".format(epoch, loss.numpy()))\n",
    "\n",
    "print (\"x={:.5f}, y={:.5f}, loss={}\".format(\n",
    "        x.numpy(), y.numpy(), loss.numpy()))"
   ],
   "metadata": {
    "collapsed": false,
    "ExecuteTime": {
     "start_time": "2023-04-19T17:31:50.710392Z",
     "end_time": "2023-04-19T17:31:50.938197Z"
    }
   }
  },
  {
   "cell_type": "code",
   "execution_count": 61,
   "outputs": [
    {
     "data": {
      "text/plain": "<Figure size 640x480 with 1 Axes>",
      "image/png": "[encoded data removed]"
     },
     "metadata": {},
     "output_type": "display_data"
    }
   ],
   "source": [
    "plt.plot(loss_list)\n",
    "plt.show()"
   ],
   "metadata": {
    "collapsed": false,
    "ExecuteTime": {
     "start_time": "2023-04-19T17:31:52.097345Z",
     "end_time": "2023-04-19T17:31:52.191318Z"
    }
   }
  },
  {
   "cell_type": "code",
   "execution_count": 64,
   "outputs": [
    {
     "name": "stdout",
     "output_type": "stream",
     "text": [
      "x=0.00000, y=0.00000, loss=5.394372027788135e-19\n"
     ]
    }
   ],
   "source": [
    "#1002 - 함수 최적화 2\n",
    "\n",
    "x = tf.Variable(2.0)\n",
    "y = tf.Variable(3.0)\n",
    "\n",
    "opt = tf.keras.optimizers.SGD(learning_rate=0.1) # learning_rate=0.001\n",
    "##opt = tf.keras.optimizers.Adagrad(0.1)\n",
    "##opt = tf.keras.optimizers.Adam(0.1)\n",
    "##opt = tf.keras.optimizers.RMSprop(0.1)\n",
    "\n",
    "loss_list = [ ]\n",
    "for epoch in range(100):\n",
    "        # 람다식은 매개변수 없는 수식\n",
    "        loss = lambda : x**2+ y**2   # function\n",
    "        loss_list.append(loss().numpy())\n",
    "        # 함수 loss에서 변수 리스트 [x,y] 최적화\n",
    "        opt.minimize(loss, var_list=[x, y])\n",
    "\n",
    "        # if not epoch%10:\n",
    "        #         print(\"epoch={}: loss={}\".format(epoch, loss().numpy()))\n",
    "\n",
    "print (\"x={:.5f}, y={:.5f}, loss={}\".format(\n",
    "        x.numpy(), y.numpy(), loss().numpy()))"
   ],
   "metadata": {
    "collapsed": false,
    "ExecuteTime": {
     "start_time": "2023-04-19T17:36:17.479675Z",
     "end_time": "2023-04-19T17:36:17.729796Z"
    }
   }
  },
  {
   "cell_type": "code",
   "execution_count": 63,
   "outputs": [
    {
     "data": {
      "text/plain": "<Figure size 640x480 with 1 Axes>",
      "image/png": "[encoded data removed]"
     },
     "metadata": {},
     "output_type": "display_data"
    }
   ],
   "source": [
    "plt.plot(loss_list)\n",
    "plt.show()"
   ],
   "metadata": {
    "collapsed": false,
    "ExecuteTime": {
     "start_time": "2023-04-19T17:36:10.236879Z",
     "end_time": "2023-04-19T17:36:10.346229Z"
    }
   }
  },
  {
   "cell_type": "code",
   "execution_count": 71,
   "outputs": [
    {
     "name": "stdout",
     "output_type": "stream",
     "text": [
      "W=[[0.995    ]\n",
      " [1.9950006]], b=[2.9950001], loss=0.00043748487951233983\n"
     ]
    }
   ],
   "source": [
    "#1003 - 2변수 선형 회귀 : MSE에 의한 경사 하강법\n",
    "\n",
    "MSE = tf.keras.losses.MeanSquaredError()\n",
    "def mse_loss():\n",
    "    y = tf.matmul(X, W) + b\n",
    "    return MSE(y, t)\n",
    "##    return tf.reduce_mean(tf.square(y - t))\n",
    "\n",
    "train_data = np.array([ # t = 1*x1 + 2*x2 + 3\n",
    "#  x1, x2, t\n",
    " [ 1,  0,  4],\n",
    " [ 2,  0,  5],\n",
    " [ 3,  0,  6],\n",
    " [ 4,  0,  7],\n",
    " [ 1,  1,  6],\n",
    " [ 2,  1,  7],\n",
    " [ 3,  1,  8],\n",
    " [ 4,  1,  9]], dtype=np.float32)\n",
    "\n",
    "X = train_data[:, :-1]\n",
    "t = train_data[:, -1:]\n",
    "\n",
    "tf.random.set_seed(1)\n",
    "W = tf.Variable(tf.random.normal(shape=[2, 1]), )\n",
    "b = tf.Variable(tf.random.normal(shape=[1]))\n",
    "\n",
    "opt = tf.keras.optimizers.SGD(learning_rate=0.01) # W=[[1.0356467] [2.059366 ]], b=[2.8650992], loss=0.0027286838740110397\n",
    "#opt = tf.keras.optimizers.Adagrad(0.01) # W=[[-0.51919657] [ 2.1235433 ]], b=[0.9849223], loss=35.9661865234375\n",
    "#opt = tf.keras.optimizers.Adam(0.01) # W=[[1.0618159] [2.4080844]], b=[2.593033], loss=0.04875081777572632\n",
    "opt = tf.keras.optimizers.RMSprop(0.01) # W=[[0.995] [1.9950006]], b=[2.9950001], loss=0.00043748487951233983\n",
    "\n",
    "loss_list = [ ]\n",
    "for epoch in range(1000):\n",
    "    opt.minimize(mse_loss, var_list= [W, b])\n",
    "\n",
    "    loss = mse_loss().numpy()\n",
    "    loss_list.append(loss)\n",
    "##    if not epoch % 100:\n",
    "##            print (\"epoch={}: loss={:.5f}\".format(epoch, loss))\n",
    "\n",
    "print (\"W={}, b={}, loss={}\".format(\n",
    "        W.numpy(), b.numpy(), loss))"
   ],
   "metadata": {
    "collapsed": false,
    "ExecuteTime": {
     "start_time": "2023-04-19T17:41:35.111874Z",
     "end_time": "2023-04-19T17:41:40.282770Z"
    }
   }
  },
  {
   "cell_type": "code",
   "execution_count": 66,
   "outputs": [
    {
     "data": {
      "text/plain": "<Figure size 640x480 with 1 Axes>",
      "image/png": "[encoded data removed]"
     },
     "metadata": {},
     "output_type": "display_data"
    }
   ],
   "source": [
    "plt.plot(loss_list)\n",
    "plt.show()"
   ],
   "metadata": {
    "collapsed": false,
    "ExecuteTime": {
     "start_time": "2023-04-19T17:39:13.337436Z",
     "end_time": "2023-04-19T17:39:13.446763Z"
    }
   }
  },
  {
   "cell_type": "code",
   "execution_count": 72,
   "outputs": [
    {
     "name": "stdout",
     "output_type": "stream",
     "text": [
      "W=[[1.0031085]\n",
      " [2.0058105]], b=[2.987382], loss=3.1403714274347294e-05\n"
     ]
    }
   ],
   "source": [
    "#1004\n",
    "\n",
    "MSE = tf.keras.losses.MeanSquaredError()\n",
    "def mse_loss():\n",
    "    y = tf.matmul(x_batch, W) + b\n",
    "    return MSE(y, t_batch)\n",
    "##    return tf.reduce_mean(tf.square(y - t_batch))\n",
    "\n",
    "train_data = np.array([ # t = 1*x1 + 2*x2 + 3\n",
    "#  x1, x2, t\n",
    " [ 1,  0,  4],\n",
    " [ 2,  0,  5],\n",
    " [ 3,  0,  6],\n",
    " [ 4,  0,  7],\n",
    " [ 1,  1,  6],\n",
    " [ 2,  1,  7],\n",
    " [ 3,  1,  8],\n",
    " [ 4,  1,  9]], dtype=np.float32)\n",
    "\n",
    "X = train_data[:, :-1]\n",
    "t = train_data[:, -1:]\n",
    "\n",
    "tf.random.set_seed(1)\n",
    "W = tf.Variable(tf.random.normal(shape=[2, 1]), )\n",
    "b = tf.Variable(tf.random.normal(shape=[1]))\n",
    "\n",
    "opt = tf.keras.optimizers.SGD(learning_rate=0.01)\n",
    "##opt = tf.keras.optimizers.Adagrad(0.01)\n",
    "##opt = tf.keras.optimizers.Adam(0.01)\n",
    "##opt = tf.keras.optimizers.RMSprop(0.01)\n",
    "\n",
    "train_size = X.shape[0]\n",
    "batch_size = 4\n",
    "K = train_size// batch_size\n",
    "\n",
    "loss_list = [ ]\n",
    "for epoch in range(1000):\n",
    "    batch_loss = 0.0\n",
    "    for  step  in range(K):\n",
    "        mask = np.random.choice(train_size, batch_size)\n",
    "        x_batch = X[mask]\n",
    "        t_batch = t[mask]\n",
    "\n",
    "        opt.minimize(mse_loss, var_list= [W, b])\n",
    "        loss = mse_loss().numpy()\n",
    "        batch_loss += loss\n",
    "\n",
    "    batch_loss /= K # average loss\n",
    "    loss_list.append(batch_loss)\n",
    "##    if not epoch % 100:\n",
    "##            print (\"epoch={}: batch_loss={:.5f}\".format(epoch, batch_loss))\n",
    "\n",
    "print (\"W={}, b={}, loss={}\".format(\n",
    "        W.numpy(), b.numpy(), batch_loss))"
   ],
   "metadata": {
    "collapsed": false,
    "ExecuteTime": {
     "start_time": "2023-04-19T17:42:47.858058Z",
     "end_time": "2023-04-19T17:42:57.363956Z"
    }
   }
  },
  {
   "cell_type": "code",
   "execution_count": 73,
   "outputs": [
    {
     "data": {
      "text/plain": "<Figure size 640x480 with 1 Axes>",
      "image/png": "[encoded data removed]"
     },
     "metadata": {},
     "output_type": "display_data"
    }
   ],
   "source": [
    "plt.plot(loss_list)\n",
    "plt.show()"
   ],
   "metadata": {
    "collapsed": false,
    "ExecuteTime": {
     "start_time": "2023-04-19T17:42:59.617214Z",
     "end_time": "2023-04-19T17:42:59.710980Z"
    }
   }
  },
  {
   "cell_type": "markdown",
   "source": [
    "### 다항식 회귀"
   ],
   "metadata": {
    "collapsed": false
   }
  },
  {
   "cell_type": "code",
   "execution_count": 75,
   "outputs": [
    {
     "name": "stdout",
     "output_type": "stream",
     "text": [
      "tf.Tensor(\n",
      "[ 0.         0.5263158  1.0526316  1.5789474  2.1052632  2.631579\n",
      "  3.1578948  3.6842108  4.2105265  4.736842   5.263158   5.789474\n",
      "  6.3157897  6.8421054  7.3684216  7.8947372  8.421053   8.947369\n",
      "  9.473684  10.       ], shape=(20,), dtype=float32)\n",
      "tf.Tensor(\n",
      "[-12.20244     -5.32955     -6.0748167   -7.0224733   -6.1335545\n",
      "  -4.0675054   -0.35070002   0.6461116    1.515267     2.7694383\n",
      "   4.537489     5.9383698    8.25066      9.853376    12.470416\n",
      "  15.901402    17.822475    16.799154    17.781675    20.74665   ], shape=(20,), dtype=float32)\n",
      "w=3.1359. b=-10.9725, loss=2.1445038318634033\n"
     ]
    }
   ],
   "source": [
    "#1101 - 다항식 회귀  n= 1인 다항식: y = wx + b\n",
    "\n",
    "MSE = tf.keras.losses.MeanSquaredError()\n",
    "def mse_loss():\n",
    "     y = x*w + b # y = 3x - 10\n",
    "     return MSE(y, t) # tf.reduce_mean(tf.square(y - t))\n",
    "\n",
    "EPOCH = 1000\n",
    "train_size = 20\n",
    "\n",
    "# create the train data\n",
    "tf.random.set_seed(1) # np.random.seed(1)\n",
    "x = tf.linspace(0.0, 10.0, num=train_size) #np.linspace(0.0, 10.0, num=20)\n",
    "w_true, b_true = 3, -10  # truth, line parameters\n",
    "t = x*w_true + b_true + tf.random.normal([train_size], mean=0.0, stddev=2.0)\n",
    "print(x)\n",
    "print(t)\n",
    "# train parameters\n",
    "w = tf.Variable(tf.random.normal([]))\n",
    "b = tf.Variable(tf.random.normal([]))\n",
    "\n",
    "opt = tf.keras.optimizers.SGD(learning_rate=0.01)\n",
    "\n",
    "loss_list = [ ]\n",
    "for epoch in range(EPOCH):\n",
    "    opt.minimize(mse_loss, var_list= [w, b]) # 손실함수 mse_loss에서 [w,b]로 최적화한다\n",
    "\n",
    "    loss = mse_loss().numpy()\n",
    "    loss_list.append(loss)\n",
    "    # if not epoch%100:\n",
    "    #     print(\"epoch={}: loss={}\".format(epoch, loss))\n",
    "\n",
    "print(\"w={:>.4f}. b={:>.4f}, loss={}\".format(w.numpy(), b.numpy(), loss))"
   ],
   "metadata": {
    "collapsed": false,
    "ExecuteTime": {
     "start_time": "2023-04-19T17:45:50.901728Z",
     "end_time": "2023-04-19T17:45:55.834234Z"
    }
   }
  },
  {
   "cell_type": "code",
   "execution_count": 77,
   "outputs": [
    {
     "data": {
      "text/plain": "<Figure size 800x300 with 2 Axes>",
      "image/png": "[encoded data removed]"
     },
     "metadata": {},
     "output_type": "display_data"
    }
   ],
   "source": [
    "fig, axs = plt.subplots(1, 2, figsize=(8, 3), layout='constrained')\n",
    "axs[0].plot(loss_list)\n",
    "\n",
    "axs[1].scatter(x, t.numpy())  # train data plot\n",
    "w_pred, b_pred = w.numpy(), b.numpy() # predicted, line parameters\n",
    "t_pred= x*w_pred + b_pred\n",
    "axs[1].plot(x, t_pred, 'r-')\n",
    "plt.show()"
   ],
   "metadata": {
    "collapsed": false,
    "ExecuteTime": {
     "start_time": "2023-04-19T17:48:06.649149Z",
     "end_time": "2023-04-19T17:48:06.883745Z"
    }
   }
  },
  {
   "cell_type": "code",
   "execution_count": 78,
   "outputs": [
    {
     "name": "stdout",
     "output_type": "stream",
     "text": [
      "a=3.0130. b=2.1439, c=0.8757, loss=2.1510555744171143\n"
     ]
    }
   ],
   "source": [
    "#1102 - n= 2 : 2차 함수 회귀\n",
    "\n",
    "MSE = tf.keras.losses.MeanSquaredError()\n",
    "def mse_loss():\n",
    "     y = a*x**2 + b*x+c\n",
    "##     y = a*tf.pow(x, 2) + b**x + c\n",
    "     return MSE(y, t) # tf.reduce_mean(tf.square(y - t))\n",
    "\n",
    "EPOCH = 1000\n",
    "train_size = 20\n",
    "\n",
    "# create the train data\n",
    "tf.random.set_seed(1) # np.random.seed(1)\n",
    "x = tf.linspace(-5.0, 5.0, num=train_size)\n",
    "# 다항식 y = 3x**2 + 2x + 1에 대하여 학습\n",
    "a_true = tf.Variable(3.0)\n",
    "b_true = tf.Variable(2.0)\n",
    "c_true = tf.Variable(1.0)\n",
    "t = a_true*tf.pow(x, 2) + b_true*x+c_true\n",
    "t += tf.random.normal([train_size], mean=0.0, stddev = 2) # t 함수에 정규 분포 노이즈를 추가\n",
    "#t = tf.add(t, np.random.normal(0, 2.0, train_size))\n",
    "\n",
    "a = tf.Variable(tf.random.normal([]))\n",
    "b = tf.Variable(tf.random.normal([]))\n",
    "c = tf.Variable(tf.random.normal([]))\n",
    "\n",
    "opt = tf.keras.optimizers.SGD(learning_rate=0.001)\n",
    "#opt = tf.keras.optimizers.Adam(learning_rate=0.01)\n",
    "##opt = tf.keras.optimizers.RMSprop(0.01)\n",
    "\n",
    "loss_list = [ ]\n",
    "for epoch in range(EPOCH):\n",
    "    opt.minimize(mse_loss, var_list= [a, b, c]) # 최적화\n",
    "\n",
    "    loss = mse_loss().numpy()\n",
    "    loss_list.append(loss)\n",
    "\n",
    "    # if not epoch%100:\n",
    "    #     print(\"epoch={}: loss={}\".format(epoch, loss))\n",
    "\n",
    "print(\"a={:>.4f}. b={:>.4f}, c={:>.4f}, loss={}\".format(\n",
    "       a.numpy(), b.numpy(), c.numpy(),loss))"
   ],
   "metadata": {
    "collapsed": false,
    "ExecuteTime": {
     "start_time": "2023-04-19T17:48:52.356024Z",
     "end_time": "2023-04-19T17:48:58.649281Z"
    }
   }
  },
  {
   "cell_type": "code",
   "execution_count": 79,
   "outputs": [
    {
     "data": {
      "text/plain": "<Figure size 800x300 with 2 Axes>",
      "image/png": "[encoded data removed]"
     },
     "metadata": {},
     "output_type": "display_data"
    }
   ],
   "source": [
    "fig, axs = plt.subplots(1, 2, figsize=(8, 3), layout='constrained')\n",
    "axs[0].plot(loss_list)\n",
    "\n",
    "axs[1].scatter(x, t.numpy())  # train data plot\n",
    "t_pred = a*tf.pow(x, 2) + b*x + c # parabola curve\n",
    "axs[1].plot(x, t_pred, 'r-')\n",
    "plt.show()"
   ],
   "metadata": {
    "collapsed": false,
    "ExecuteTime": {
     "start_time": "2023-04-19T17:49:37.695893Z",
     "end_time": "2023-04-19T17:49:37.930213Z"
    }
   }
  },
  {
   "cell_type": "code",
   "execution_count": 80,
   "outputs": [
    {
     "name": "stdout",
     "output_type": "stream",
     "text": [
      "W=[ 6.217233   3.2541513  2.8085194 -0.0326881]. b=-5.52933931350708, loss=401.86627197265625\n"
     ]
    }
   ],
   "source": [
    "#1103 - n차 다항식\n",
    "\n",
    "MSE = tf.keras.losses.MeanSquaredError()\n",
    "def mse_loss():\n",
    "     y = tf.zeros_like(x)\n",
    "     for i in range(W.shape[0]):\n",
    "          y += W[i]*(x**(i+1)) # y = 3x**3 +2x**2+x+4\n",
    "     y += b # bias\n",
    "     return MSE(y, t) # tf.reduce_mean(tf.square(y - t))\n",
    "\n",
    "EPOCH = 5000\n",
    "train_size = 20\n",
    "\n",
    "# create the train data\n",
    "tf.random.set_seed(1)\n",
    "x = tf.linspace(-5.0, 5.0, num=train_size)\n",
    "\n",
    "w_true = tf.Variable([1.0, 2.0, 3.0])\n",
    "b_true = tf.Variable(4.0)\n",
    "t = w_true[2]*x**3 + w_true[1]*x**2 + w_true[0]*x + b_true\n",
    "t += tf.random.normal([train_size], mean=0.0, stddev = 30)\n",
    "\n",
    "# train variables -  훈련 변수 생성\n",
    "n = 4 # n-th polynomial curve\n",
    "W = tf.Variable(tf.random.normal([n]))\n",
    "b = tf.Variable(tf.random.normal([]))\n",
    "\n",
    "opt = tf.keras.optimizers.Adam(learning_rate=0.01)\n",
    "##opt = tf.keras.optimizers.RMSprop(0.01)\n",
    "\n",
    "loss_list = [ ]\n",
    "for epoch in range(EPOCH):\n",
    "    opt.minimize(mse_loss, var_list= [W, b])\n",
    "\n",
    "    loss = mse_loss().numpy()\n",
    "    loss_list.append(loss)\n",
    "\n",
    "    # if not epoch%100:\n",
    "    #     print(\"epoch={}: loss={}\".format(epoch, loss))\n",
    "\n",
    "print(\"W={}. b={}, loss={}\".format(W.numpy(), b.numpy(),loss))"
   ],
   "metadata": {
    "collapsed": false,
    "ExecuteTime": {
     "start_time": "2023-04-19T17:50:04.005710Z",
     "end_time": "2023-04-19T17:50:58.701542Z"
    }
   }
  },
  {
   "cell_type": "code",
   "execution_count": 81,
   "outputs": [
    {
     "data": {
      "text/plain": "<Figure size 800x300 with 2 Axes>",
      "image/png": "[encoded data removed]"
     },
     "metadata": {},
     "output_type": "display_data"
    }
   ],
   "source": [
    "fig, axs = plt.subplots(1, 2, figsize=(8, 3), layout='constrained')\n",
    "axs[0].plot(loss_list)\n",
    "\n",
    "axs[1].scatter(x, t.numpy())  # train data plot\n",
    "\n",
    "# polynomial curve\n",
    "t_pred = tf.zeros_like(x)\n",
    "for i in range(W.shape[0]): # n = W.shape[0]\n",
    "     t_pred += W[i]*(x**(i+1))\n",
    "t_pred += b # bias\n",
    "\n",
    "axs[1].plot(x, t_pred, 'r-')\n",
    "plt.show()"
   ],
   "metadata": {
    "collapsed": false,
    "ExecuteTime": {
     "start_time": "2023-04-19T17:51:19.516234Z",
     "end_time": "2023-04-19T17:51:19.751288Z"
    }
   }
  }
 ],
 "metadata": {
  "kernelspec": {
   "display_name": "Python 3",
   "language": "python",
   "name": "python3"
  },
  "language_info": {
   "codemirror_mode": {
    "name": "ipython",
    "version": 2
   },
   "file_extension": ".py",
   "mimetype": "text/x-python",
   "name": "python",
   "nbconvert_exporter": "python",
   "pygments_lexer": "ipython2",
   "version": "2.7.6"
  }
 },
 "nbformat": 4,
 "nbformat_minor": 0
}
