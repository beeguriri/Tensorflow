{
 "cells": [
  {
   "cell_type": "markdown",
   "source": [
    "### 패딩\n",
    "+ 데이터 확장하여 경계값 처리\n",
    "+ constant : 양쪽으로 상수 붙임\n",
    "+ reflect : 가운데 인덱스 값을 기준으로 반사\n",
    "+ symmetric : 양쪽 끝 값 기준 반사\n",
    "\n",
    "+ 1차원 데이터 패딩\n",
    "+ 2차원 데이터 패딩"
   ],
   "metadata": {
    "collapsed": false
   }
  },
  {
   "cell_type": "code",
   "execution_count": 1,
   "outputs": [],
   "source": [
    "import tensorflow as tf\n",
    "import numpy as np"
   ],
   "metadata": {
    "collapsed": false,
    "ExecuteTime": {
     "start_time": "2023-04-26T17:35:34.451586Z",
     "end_time": "2023-04-26T17:35:41.502857Z"
    }
   }
  },
  {
   "cell_type": "markdown",
   "source": [
    "##### 1차원 패딩"
   ],
   "metadata": {
    "collapsed": false
   }
  },
  {
   "cell_type": "code",
   "execution_count": 6,
   "metadata": {
    "collapsed": true,
    "ExecuteTime": {
     "start_time": "2023-04-26T17:44:52.121324Z",
     "end_time": "2023-04-26T17:44:52.136972Z"
    }
   },
   "outputs": [
    {
     "name": "stdout",
     "output_type": "stream",
     "text": [
      "B= [0. 0. 1. 2. 3. 4. 5. 0. 0.]\n",
      "C= [3. 2. 1. 2. 3. 4. 5. 4. 3.]\n",
      "D= [2. 1. 1. 2. 3. 4. 5. 5. 4.]\n"
     ]
    }
   ],
   "source": [
    "#36_01\n",
    "#1: crate a 1D input data\n",
    "A = np.array([1, 2, 3, 4, 5]).astype('float32')\n",
    "\n",
    "#2\n",
    "p = 2\n",
    "paddings = np.array([[p, p]])\n",
    "\n",
    "#3\n",
    "B = tf.pad(A, paddings, \"constant\") # 고정값으로 채움 (default 0)\n",
    "C = tf.pad(A, paddings, \"reflect\") # 중앙값 기준 반사\n",
    "D = tf.pad(A, paddings, \"symmetric\") # 양쪽 끝 기준 반사\n",
    "print(\"B=\", B.numpy())\n",
    "print(\"C=\", C.numpy())\n",
    "print(\"D=\", D.numpy())\n"
   ]
  },
  {
   "cell_type": "code",
   "execution_count": 7,
   "outputs": [
    {
     "name": "stdout",
     "output_type": "stream",
     "text": [
      "new_k =2, new_steps=3, pads=(0, 1)\n",
      "B1= [1. 2. 3. 4. 5. 0.]\n",
      "new_k =4, new_steps=2, pads=(1, 1)\n",
      "B2= [0. 1. 2. 3. 4. 5. 0.]\n",
      "new_k =3, new_steps=5, pads=(1, 1)\n",
      "B3= [0. 1. 2. 3. 4. 5. 0.]\n",
      "new_k =3, new_steps=3, pads=(1, 1)\n",
      "B4= [0. 1. 2. 3. 4. 5. 0.]\n",
      "new_k =3, new_steps=5, pads=(2, 0)\n",
      "B5= [0. 0. 1. 2. 3. 4. 5.]\n",
      "new_k =5, new_steps=5, pads=(2, 2)\n",
      "B6= [0. 0. 1. 2. 3. 4. 5. 0. 0.]\n",
      "new_k =5, new_steps=5, pads=(4, 0)\n",
      "B7= [0. 0. 0. 0. 1. 2. 3. 4. 5.]\n",
      "new_k =7, new_steps=5, pads=(6, 0)\n",
      "B8= [0. 0. 0. 0. 0. 0. 1. 2. 3. 4. 5.]\n"
     ]
    }
   ],
   "source": [
    "#36_02\n",
    "#1:\n",
    "def pad1d_infor(steps, kernel_size=2, strides=1,\n",
    "                  dilation_rate=1, padding= 'valid'):\n",
    "    k = (kernel_size-1)*dilation_rate + 1\n",
    "    if padding == 'valid':\n",
    "        new_steps = int(np.ceil((steps - k + 1) / strides))\n",
    "        pad_left, pad_right=(0, 0)\n",
    "\n",
    "    else: # 'same', 'casual'\n",
    "        new_steps = int(np.ceil(steps/strides))\n",
    "        pad_width = max((new_steps  - 1) * strides + k - steps, 0)\n",
    "\n",
    "        if padding == 'same':\n",
    "            pad_left  = pad_width//2\n",
    "            pad_right = pad_width - pad_left\n",
    "        if padding =='casual':\n",
    "            pad_left  = pad_width\n",
    "            pad_right = 0\n",
    "    return k, new_steps, (pad_left, pad_right)\n",
    "\n",
    "#2: crate a 1D input data\n",
    "A = np.array([1, 2, 3, 4, 5]).astype('float32')\n",
    "length = A.shape[0] #len(len), 5\n",
    "\n",
    "#3: padding in MaxPool1D [step37_02]\n",
    "#3-1:\n",
    "new_k, new_steps, pads= pad1d_infor(steps=length, kernel_size=2,\n",
    "                                      strides=2, padding= 'same')\n",
    "print(\"new_k ={}, new_steps={}, pads={}\".format(new_k,new_steps,pads))\n",
    "B1 = tf.pad(A, paddings=np.array([pads]))\n",
    "print(\"B1=\", B1.numpy())\n",
    "\n",
    "#3-2:\n",
    "new_k, new_steps, pads= pad1d_infor(steps=length, kernel_size=4,\n",
    "                                      strides=3, padding= 'same')\n",
    "print(\"new_k ={}, new_steps={}, pads={}\".format(new_k,new_steps,pads))\n",
    "B2 = tf.pad(A, paddings=np.array([pads]))\n",
    "print(\"B2=\", B2.numpy())\n",
    "\n",
    "#4: padding in Conv1D\n",
    "#4-1:\n",
    "new_k, new_steps, pads= pad1d_infor(steps=length, kernel_size=3,\n",
    "                                      padding= 'same')\n",
    "print(\"new_k ={}, new_steps={}, pads={}\".format(new_k,new_steps,pads))\n",
    "B3 = tf.pad(A, paddings=np.array([pads]))\n",
    "print(\"B3=\", B3.numpy())\n",
    "\n",
    "#4-2:\n",
    "new_k, new_steps, pads= pad1d_infor(steps=length, kernel_size=3,\n",
    "                                      strides=2, padding= 'same')\n",
    "print(\"new_k ={}, new_steps={}, pads={}\".format(new_k,new_steps,pads))\n",
    "B4 = tf.pad(A, paddings=np.array([pads]))\n",
    "print(\"B4=\", B4.numpy())\n",
    "\n",
    "#4-3:\n",
    "new_k, new_steps, pads= pad1d_infor(steps=length, kernel_size=3,\n",
    "                                      dilation_rate=1, padding= 'casual')\n",
    "print(\"new_k ={}, new_steps={}, pads={}\".format(new_k,new_steps,pads))\n",
    "B5 = tf.pad(A, paddings=np.array([pads]))\n",
    "print(\"B5=\", B5.numpy())\n",
    "\n",
    "#4-4:\n",
    "new_k, new_steps, pads= pad1d_infor(steps=length, kernel_size=3,\n",
    "                                      dilation_rate=2, padding= 'same')\n",
    "print(\"new_k ={}, new_steps={}, pads={}\".format(new_k,new_steps,pads))\n",
    "B6 = tf.pad(A, paddings=np.array([pads]))\n",
    "print(\"B6=\", B6.numpy())\n",
    "\n",
    "#4-5:\n",
    "new_k, new_steps, pads= pad1d_infor(steps=length, kernel_size=3,\n",
    "                                      dilation_rate=2, padding= 'casual')\n",
    "print(\"new_k ={}, new_steps={}, pads={}\".format(new_k,new_steps,pads))\n",
    "B7 = tf.pad(A, paddings=np.array([pads]))\n",
    "print(\"B7=\", B7.numpy())\n",
    "\n",
    "#4-6:\n",
    "new_k, new_steps, pads= pad1d_infor(steps=length, kernel_size=3,\n",
    "                                      dilation_rate=3, padding= 'casual')\n",
    "print(\"new_k ={}, new_steps={}, pads={}\".format(new_k,new_steps,pads))\n",
    "B8 = tf.pad(A, paddings=np.array([pads]))\n",
    "print(\"B8=\", B8.numpy())\n"
   ],
   "metadata": {
    "collapsed": false,
    "ExecuteTime": {
     "start_time": "2023-04-26T17:51:12.768722Z",
     "end_time": "2023-04-26T17:51:12.800064Z"
    }
   }
  },
  {
   "cell_type": "markdown",
   "source": [
    "##### 2차원 패딩"
   ],
   "metadata": {
    "collapsed": false
   }
  },
  {
   "cell_type": "code",
   "execution_count": 8,
   "outputs": [
    {
     "name": "stdout",
     "output_type": "stream",
     "text": [
      "B= [[0. 0. 0. 0. 0. 0. 0.]\n",
      " [0. 0. 1. 2. 3. 0. 0.]\n",
      " [0. 0. 4. 5. 6. 0. 0.]\n",
      " [0. 0. 7. 8. 9. 0. 0.]\n",
      " [0. 0. 0. 0. 0. 0. 0.]]\n",
      "C= [[6. 5. 4. 5. 6. 5. 4.]\n",
      " [3. 2. 1. 2. 3. 2. 1.]\n",
      " [6. 5. 4. 5. 6. 5. 4.]\n",
      " [9. 8. 7. 8. 9. 8. 7.]\n",
      " [6. 5. 4. 5. 6. 5. 4.]]\n",
      "D= [[2. 1. 1. 2. 3. 3. 2.]\n",
      " [2. 1. 1. 2. 3. 3. 2.]\n",
      " [5. 4. 4. 5. 6. 6. 5.]\n",
      " [8. 7. 7. 8. 9. 9. 8.]\n",
      " [8. 7. 7. 8. 9. 9. 8.]]\n"
     ]
    }
   ],
   "source": [
    "#36_03\n",
    "import tensorflow as tf\n",
    "import numpy as np\n",
    "#1: crate a 2D input data\n",
    "A = np.array([[1, 2, 3],\n",
    "              [4, 5, 6],\n",
    "              [7, 8, 9]]).astype('float32')\n",
    "#2\n",
    "pads = np.array([[1, 1],\n",
    "                     [2, 2]])\n",
    "#3\n",
    "B = tf.pad(A, pads, \"constant\")\n",
    "C = tf.pad(A, pads, \"reflect\")\n",
    "D = tf.pad(A, pads, \"symmetric\")\n",
    "print(\"B=\", B.numpy())\n",
    "print(\"C=\", C.numpy())\n",
    "print(\"D=\", D.numpy())"
   ],
   "metadata": {
    "collapsed": false,
    "ExecuteTime": {
     "start_time": "2023-04-26T18:01:42.701661Z",
     "end_time": "2023-04-26T18:01:42.746701Z"
    }
   }
  }
 ],
 "metadata": {
  "kernelspec": {
   "display_name": "Python 3",
   "language": "python",
   "name": "python3"
  },
  "language_info": {
   "codemirror_mode": {
    "name": "ipython",
    "version": 2
   },
   "file_extension": ".py",
   "mimetype": "text/x-python",
   "name": "python",
   "nbconvert_exporter": "python",
   "pygments_lexer": "ipython2",
   "version": "2.7.6"
  }
 },
 "nbformat": 4,
 "nbformat_minor": 0
}
