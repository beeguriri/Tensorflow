{
 "cells": [
  {
   "cell_type": "code",
   "execution_count": 1,
   "metadata": {
    "collapsed": true,
    "ExecuteTime": {
     "start_time": "2023-05-01T09:35:22.669227Z",
     "end_time": "2023-05-01T09:35:22.716160Z"
    }
   },
   "outputs": [],
   "source": [
    "%load_ext tensorboard"
   ]
  },
  {
   "cell_type": "code",
   "execution_count": 12,
   "outputs": [],
   "source": [
    "import tensorflow as tf\n",
    "import datetime\n",
    "import numpy as np"
   ],
   "metadata": {
    "collapsed": false,
    "ExecuteTime": {
     "start_time": "2023-05-01T09:38:30.572863Z",
     "end_time": "2023-05-01T09:38:30.588458Z"
    }
   }
  },
  {
   "cell_type": "code",
   "execution_count": 4,
   "outputs": [
    {
     "name": "stdout",
     "output_type": "stream",
     "text": [
      "Downloading data from https://storage.googleapis.com/tensorflow/tf-keras-datasets/mnist.npz\n",
      "11490434/11490434 [==============================] - 0s 0us/step\n"
     ]
    }
   ],
   "source": [
    "mnist = tf.keras.datasets.mnist\n",
    "\n",
    "(x_train, y_train),(x_test, y_test) = mnist.load_data()\n",
    "x_train, x_test = x_train / 255.0, x_test / 255.0"
   ],
   "metadata": {
    "collapsed": false,
    "ExecuteTime": {
     "start_time": "2023-05-01T09:36:17.387948Z",
     "end_time": "2023-05-01T09:36:18.193796Z"
    }
   }
  },
  {
   "cell_type": "code",
   "execution_count": 5,
   "outputs": [],
   "source": [
    "def create_model():\n",
    "  return tf.keras.models.Sequential([\n",
    "    tf.keras.layers.Flatten(input_shape=(28, 28), name='layers_flatten'),\n",
    "    tf.keras.layers.Dense(512, activation='relu', name='layers_dense'),\n",
    "    tf.keras.layers.Dropout(0.2, name='layers_dropout'),\n",
    "    tf.keras.layers.Dense(10, activation='softmax', name='layers_dense_2')\n",
    "  ])\n",
    "\n",
    "model = create_model()"
   ],
   "metadata": {
    "collapsed": false,
    "ExecuteTime": {
     "start_time": "2023-05-01T09:36:29.434368Z",
     "end_time": "2023-05-01T09:36:30.176742Z"
    }
   }
  },
  {
   "cell_type": "code",
   "execution_count": 6,
   "outputs": [],
   "source": [
    "model.compile(optimizer='adam',\n",
    "              loss='sparse_categorical_crossentropy',\n",
    "              metrics=['accuracy'])"
   ],
   "metadata": {
    "collapsed": false,
    "ExecuteTime": {
     "start_time": "2023-05-01T09:36:36.178700Z",
     "end_time": "2023-05-01T09:36:36.197606Z"
    }
   }
  },
  {
   "cell_type": "code",
   "execution_count": 7,
   "outputs": [],
   "source": [
    "log_dir = \"logs/fit/\" + datetime.datetime.now().strftime(\"%Y%m%d-%H%M%S\")\n",
    "tensorboard_callback = tf.keras.callbacks.TensorBoard(log_dir=log_dir, histogram_freq=1)"
   ],
   "metadata": {
    "collapsed": false,
    "ExecuteTime": {
     "start_time": "2023-05-01T09:36:40.483397Z",
     "end_time": "2023-05-01T09:36:40.499017Z"
    }
   }
  },
  {
   "cell_type": "code",
   "execution_count": 8,
   "outputs": [
    {
     "name": "stdout",
     "output_type": "stream",
     "text": [
      "Epoch 1/5\n",
      "1875/1875 [==============================] - 11s 5ms/step - loss: 0.2231 - accuracy: 0.9335 - val_loss: 0.1135 - val_accuracy: 0.9633\n",
      "Epoch 2/5\n",
      "1875/1875 [==============================] - 10s 5ms/step - loss: 0.0972 - accuracy: 0.9705 - val_loss: 0.0757 - val_accuracy: 0.9746\n",
      "Epoch 3/5\n",
      "1875/1875 [==============================] - 9s 5ms/step - loss: 0.0700 - accuracy: 0.9780 - val_loss: 0.0700 - val_accuracy: 0.9775\n",
      "Epoch 4/5\n",
      "1875/1875 [==============================] - 10s 5ms/step - loss: 0.0541 - accuracy: 0.9827 - val_loss: 0.0671 - val_accuracy: 0.9799\n",
      "Epoch 5/5\n",
      "1875/1875 [==============================] - 9s 5ms/step - loss: 0.0434 - accuracy: 0.9858 - val_loss: 0.0701 - val_accuracy: 0.9802\n"
     ]
    },
    {
     "data": {
      "text/plain": "<keras.callbacks.History at 0x1da19069420>"
     },
     "execution_count": 8,
     "metadata": {},
     "output_type": "execute_result"
    }
   ],
   "source": [
    "model.fit(x=x_train,\n",
    "          y=y_train,\n",
    "          epochs=5,\n",
    "          validation_data=(x_test, y_test),\n",
    "          callbacks=[tensorboard_callback])"
   ],
   "metadata": {
    "collapsed": false,
    "ExecuteTime": {
     "start_time": "2023-05-01T09:36:44.756542Z",
     "end_time": "2023-05-01T09:37:34.861264Z"
    }
   }
  },
  {
   "cell_type": "code",
   "execution_count": null,
   "outputs": [],
   "source": [
    "%tensorboard --logdir logs/fit --port 6007"
   ],
   "metadata": {
    "collapsed": false
   }
  },
  {
   "cell_type": "code",
   "execution_count": 15,
   "outputs": [
    {
     "data": {
      "text/plain": "Launching TensorBoard..."
     },
     "metadata": {},
     "output_type": "display_data"
    },
    {
     "data": {
      "text/plain": "<IPython.core.display.HTML object>",
      "text/html": "\n      <iframe id=\"tensorboard-frame-9ba29648f900df9e\" width=\"100%\" height=\"800\" frameborder=\"0\">\n      </iframe>\n      <script>\n        (function() {\n          const frame = document.getElementById(\"tensorboard-frame-9ba29648f900df9e\");\n          const url = new URL(\"/\", window.location);\n          const port = 6007;\n          if (port) {\n            url.port = port;\n          }\n          frame.src = url;\n        })();\n      </script>\n    "
     },
     "metadata": {},
     "output_type": "display_data"
    }
   ],
   "source": [
    "from packaging import version\n",
    "\n",
    "import tensorflow as tf\n",
    "from tensorflow import keras\n",
    "from keras import backend as K\n",
    "\n",
    "import numpy as np\n",
    "\n",
    "print(\"TensorFlow version: \", tf.__version__)\n",
    "assert version.parse(tf.__version__).release[0] >= 2, \\\n",
    "    \"This notebook requires TensorFlow 2.0 or above.\""
   ],
   "metadata": {
    "collapsed": false,
    "ExecuteTime": {
     "start_time": "2023-05-01T09:43:49.920290Z",
     "end_time": "2023-05-01T09:43:49.960181Z"
    }
   }
  },
  {
   "cell_type": "code",
   "execution_count": 16,
   "outputs": [
    {
     "name": "stdout",
     "output_type": "stream",
     "text": [
      "TensorFlow version:  2.12.0\n"
     ]
    }
   ],
   "source": [
    "from datetime import datetime\n",
    "from packaging import version\n",
    "\n",
    "import tensorflow as tf\n",
    "from tensorflow import keras\n",
    "from keras import backend as K\n",
    "\n",
    "import numpy as np\n",
    "\n",
    "print(\"TensorFlow version: \", tf.__version__)\n",
    "assert version.parse(tf.__version__).release[0] >= 2, \\\n",
    "    \"This notebook requires TensorFlow 2.0 or above.\""
   ],
   "metadata": {
    "collapsed": false,
    "ExecuteTime": {
     "start_time": "2023-05-01T09:46:37.768876Z",
     "end_time": "2023-05-01T09:46:37.784499Z"
    }
   }
  },
  {
   "cell_type": "code",
   "execution_count": 17,
   "outputs": [
    {
     "name": "stderr",
     "output_type": "stream",
     "text": [
      "'rm'은(는) 내부 또는 외부 명령, 실행할 수 있는 프로그램, 또는\n",
      "배치 파일이 아닙니다.\n"
     ]
    }
   ],
   "source": [
    "# Clear any logs from previous runs\n",
    "!rm -rf ./logs/"
   ],
   "metadata": {
    "collapsed": false,
    "ExecuteTime": {
     "start_time": "2023-05-01T09:46:56.127898Z",
     "end_time": "2023-05-01T09:46:56.190390Z"
    }
   }
  },
  {
   "cell_type": "code",
   "execution_count": 19,
   "outputs": [],
   "source": [
    "data_size = 1000\n",
    "# 80% of the data is for training.\n",
    "train_pct = 0.8\n",
    "\n",
    "train_size = int(data_size * train_pct)\n",
    "\n",
    "# Create some input data between -1 and 1 and randomize it.\n",
    "x = np.linspace(-1, 1, data_size)\n",
    "np.random.shuffle(x)\n",
    "\n",
    "# Generate the output data.\n",
    "# y = 0.5x + 2 + noise\n",
    "y = 0.5 * x + 2 + np.random.normal(0, 0.05, (data_size, ))\n",
    "\n",
    "# Split into test and train pairs.\n",
    "x_train, y_train = x[:train_size], y[:train_size]\n",
    "x_test, y_test = x[train_size:], y[train_size:]"
   ],
   "metadata": {
    "collapsed": false,
    "ExecuteTime": {
     "start_time": "2023-05-01T09:47:25.268338Z",
     "end_time": "2023-05-01T09:47:25.283983Z"
    }
   }
  },
  {
   "cell_type": "code",
   "execution_count": 20,
   "outputs": [],
   "source": [
    "logdir = \"logs/scalars/\" + datetime.now().strftime(\"%Y%m%d-%H%M%S\")\n",
    "file_writer = tf.summary.create_file_writer(logdir + \"/metrics\")\n",
    "file_writer.set_as_default()"
   ],
   "metadata": {
    "collapsed": false,
    "ExecuteTime": {
     "start_time": "2023-05-01T09:47:36.959485Z",
     "end_time": "2023-05-01T09:47:37.016044Z"
    }
   }
  },
  {
   "cell_type": "code",
   "execution_count": 21,
   "outputs": [],
   "source": [
    "def lr_schedule(epoch):\n",
    "  \"\"\"\n",
    "  Returns a custom learning rate that decreases as epochs progress.\n",
    "  \"\"\"\n",
    "  learning_rate = 0.2\n",
    "  if epoch > 10:\n",
    "    learning_rate = 0.02\n",
    "  if epoch > 20:\n",
    "    learning_rate = 0.01\n",
    "  if epoch > 50:\n",
    "    learning_rate = 0.005\n",
    "\n",
    "  tf.summary.scalar('learning rate', data=learning_rate, step=epoch)\n",
    "  return learning_rate\n",
    "\n",
    "lr_callback = keras.callbacks.LearningRateScheduler(lr_schedule)\n",
    "tensorboard_callback = keras.callbacks.TensorBoard(log_dir=logdir)"
   ],
   "metadata": {
    "collapsed": false,
    "ExecuteTime": {
     "start_time": "2023-05-01T09:47:42.358817Z",
     "end_time": "2023-05-01T09:47:42.374463Z"
    }
   }
  },
  {
   "cell_type": "code",
   "execution_count": 22,
   "outputs": [
    {
     "name": "stdout",
     "output_type": "stream",
     "text": [
      "Epoch 1/100\n",
      "1/1 [==============================] - 0s 474ms/step - loss: 4.1728 - val_loss: 0.1375 - lr: 0.2000\n",
      "Epoch 2/100\n",
      "1/1 [==============================] - 0s 129ms/step - loss: 0.1358 - val_loss: 0.0329 - lr: 0.2000\n",
      "Epoch 3/100\n",
      "1/1 [==============================] - 0s 125ms/step - loss: 0.0348 - val_loss: 0.0132 - lr: 0.2000\n",
      "Epoch 4/100\n",
      "1/1 [==============================] - 0s 94ms/step - loss: 0.0136 - val_loss: 0.0061 - lr: 0.2000\n",
      "Epoch 5/100\n",
      "1/1 [==============================] - 0s 94ms/step - loss: 0.0064 - val_loss: 0.0037 - lr: 0.2000\n",
      "Epoch 6/100\n",
      "1/1 [==============================] - 0s 75ms/step - loss: 0.0039 - val_loss: 0.0029 - lr: 0.2000\n",
      "Epoch 7/100\n",
      "1/1 [==============================] - 0s 94ms/step - loss: 0.0030 - val_loss: 0.0026 - lr: 0.2000\n",
      "Epoch 8/100\n",
      "1/1 [==============================] - 0s 78ms/step - loss: 0.0027 - val_loss: 0.0024 - lr: 0.2000\n",
      "Epoch 9/100\n",
      "1/1 [==============================] - 0s 94ms/step - loss: 0.0026 - val_loss: 0.0024 - lr: 0.2000\n",
      "Epoch 10/100\n",
      "1/1 [==============================] - 0s 94ms/step - loss: 0.0026 - val_loss: 0.0024 - lr: 0.2000\n",
      "Epoch 11/100\n",
      "1/1 [==============================] - 0s 94ms/step - loss: 0.0026 - val_loss: 0.0024 - lr: 0.2000\n",
      "Epoch 12/100\n",
      "1/1 [==============================] - 0s 66ms/step - loss: 0.0026 - val_loss: 0.0024 - lr: 0.0200\n",
      "Epoch 13/100\n",
      "1/1 [==============================] - 0s 78ms/step - loss: 0.0026 - val_loss: 0.0024 - lr: 0.0200\n",
      "Epoch 14/100\n",
      "1/1 [==============================] - 0s 63ms/step - loss: 0.0026 - val_loss: 0.0024 - lr: 0.0200\n",
      "Epoch 15/100\n",
      "1/1 [==============================] - 0s 94ms/step - loss: 0.0026 - val_loss: 0.0024 - lr: 0.0200\n",
      "Epoch 16/100\n",
      "1/1 [==============================] - 0s 62ms/step - loss: 0.0026 - val_loss: 0.0024 - lr: 0.0200\n",
      "Epoch 17/100\n",
      "1/1 [==============================] - 0s 94ms/step - loss: 0.0026 - val_loss: 0.0024 - lr: 0.0200\n",
      "Epoch 18/100\n",
      "1/1 [==============================] - 0s 78ms/step - loss: 0.0026 - val_loss: 0.0024 - lr: 0.0200\n",
      "Epoch 19/100\n",
      "1/1 [==============================] - 0s 62ms/step - loss: 0.0026 - val_loss: 0.0024 - lr: 0.0200\n",
      "Epoch 20/100\n",
      "1/1 [==============================] - 0s 78ms/step - loss: 0.0026 - val_loss: 0.0024 - lr: 0.0200\n",
      "Epoch 21/100\n",
      "1/1 [==============================] - 0s 94ms/step - loss: 0.0026 - val_loss: 0.0024 - lr: 0.0200\n",
      "Epoch 22/100\n",
      "1/1 [==============================] - 0s 78ms/step - loss: 0.0026 - val_loss: 0.0024 - lr: 0.0100\n",
      "Epoch 23/100\n",
      "1/1 [==============================] - 0s 100ms/step - loss: 0.0026 - val_loss: 0.0024 - lr: 0.0100\n",
      "Epoch 24/100\n",
      "1/1 [==============================] - 0s 63ms/step - loss: 0.0026 - val_loss: 0.0024 - lr: 0.0100\n",
      "Epoch 25/100\n",
      "1/1 [==============================] - 0s 94ms/step - loss: 0.0026 - val_loss: 0.0024 - lr: 0.0100\n",
      "Epoch 26/100\n",
      "1/1 [==============================] - 0s 94ms/step - loss: 0.0026 - val_loss: 0.0024 - lr: 0.0100\n",
      "Epoch 27/100\n",
      "1/1 [==============================] - 0s 63ms/step - loss: 0.0026 - val_loss: 0.0024 - lr: 0.0100\n",
      "Epoch 28/100\n",
      "1/1 [==============================] - 0s 78ms/step - loss: 0.0026 - val_loss: 0.0024 - lr: 0.0100\n",
      "Epoch 29/100\n",
      "1/1 [==============================] - 0s 63ms/step - loss: 0.0026 - val_loss: 0.0024 - lr: 0.0100\n",
      "Epoch 30/100\n",
      "1/1 [==============================] - 0s 75ms/step - loss: 0.0026 - val_loss: 0.0024 - lr: 0.0100\n",
      "Epoch 31/100\n",
      "1/1 [==============================] - 0s 78ms/step - loss: 0.0026 - val_loss: 0.0024 - lr: 0.0100\n",
      "Epoch 32/100\n",
      "1/1 [==============================] - 0s 62ms/step - loss: 0.0026 - val_loss: 0.0024 - lr: 0.0100\n",
      "Epoch 33/100\n",
      "1/1 [==============================] - 0s 78ms/step - loss: 0.0026 - val_loss: 0.0024 - lr: 0.0100\n",
      "Epoch 34/100\n",
      "1/1 [==============================] - 0s 78ms/step - loss: 0.0026 - val_loss: 0.0024 - lr: 0.0100\n",
      "Epoch 35/100\n",
      "1/1 [==============================] - 0s 59ms/step - loss: 0.0026 - val_loss: 0.0024 - lr: 0.0100\n",
      "Epoch 36/100\n",
      "1/1 [==============================] - 0s 62ms/step - loss: 0.0026 - val_loss: 0.0024 - lr: 0.0100\n",
      "Epoch 37/100\n",
      "1/1 [==============================] - 0s 84ms/step - loss: 0.0026 - val_loss: 0.0024 - lr: 0.0100\n",
      "Epoch 38/100\n",
      "1/1 [==============================] - 0s 94ms/step - loss: 0.0026 - val_loss: 0.0024 - lr: 0.0100\n",
      "Epoch 39/100\n",
      "1/1 [==============================] - 0s 62ms/step - loss: 0.0026 - val_loss: 0.0024 - lr: 0.0100\n",
      "Epoch 40/100\n",
      "1/1 [==============================] - 0s 63ms/step - loss: 0.0026 - val_loss: 0.0024 - lr: 0.0100\n",
      "Epoch 41/100\n",
      "1/1 [==============================] - 0s 62ms/step - loss: 0.0026 - val_loss: 0.0024 - lr: 0.0100\n",
      "Epoch 42/100\n",
      "1/1 [==============================] - 0s 62ms/step - loss: 0.0026 - val_loss: 0.0024 - lr: 0.0100\n",
      "Epoch 43/100\n",
      "1/1 [==============================] - 0s 58ms/step - loss: 0.0026 - val_loss: 0.0024 - lr: 0.0100\n",
      "Epoch 44/100\n",
      "1/1 [==============================] - 0s 94ms/step - loss: 0.0026 - val_loss: 0.0024 - lr: 0.0100\n",
      "Epoch 45/100\n",
      "1/1 [==============================] - 0s 78ms/step - loss: 0.0026 - val_loss: 0.0024 - lr: 0.0100\n",
      "Epoch 46/100\n",
      "1/1 [==============================] - 0s 62ms/step - loss: 0.0026 - val_loss: 0.0024 - lr: 0.0100\n",
      "Epoch 47/100\n",
      "1/1 [==============================] - 0s 78ms/step - loss: 0.0026 - val_loss: 0.0024 - lr: 0.0100\n",
      "Epoch 48/100\n",
      "1/1 [==============================] - 0s 78ms/step - loss: 0.0026 - val_loss: 0.0024 - lr: 0.0100\n",
      "Epoch 49/100\n",
      "1/1 [==============================] - 0s 62ms/step - loss: 0.0026 - val_loss: 0.0024 - lr: 0.0100\n",
      "Epoch 50/100\n",
      "1/1 [==============================] - 0s 76ms/step - loss: 0.0026 - val_loss: 0.0024 - lr: 0.0100\n",
      "Epoch 51/100\n",
      "1/1 [==============================] - 0s 94ms/step - loss: 0.0026 - val_loss: 0.0024 - lr: 0.0100\n",
      "Epoch 52/100\n",
      "1/1 [==============================] - 0s 109ms/step - loss: 0.0026 - val_loss: 0.0024 - lr: 0.0050\n",
      "Epoch 53/100\n",
      "1/1 [==============================] - 0s 94ms/step - loss: 0.0026 - val_loss: 0.0024 - lr: 0.0050\n",
      "Epoch 54/100\n",
      "1/1 [==============================] - 0s 78ms/step - loss: 0.0026 - val_loss: 0.0024 - lr: 0.0050\n",
      "Epoch 55/100\n",
      "1/1 [==============================] - 0s 78ms/step - loss: 0.0026 - val_loss: 0.0024 - lr: 0.0050\n",
      "Epoch 56/100\n",
      "1/1 [==============================] - 0s 62ms/step - loss: 0.0026 - val_loss: 0.0024 - lr: 0.0050\n",
      "Epoch 57/100\n",
      "1/1 [==============================] - 0s 62ms/step - loss: 0.0026 - val_loss: 0.0024 - lr: 0.0050\n",
      "Epoch 58/100\n",
      "1/1 [==============================] - 0s 62ms/step - loss: 0.0026 - val_loss: 0.0024 - lr: 0.0050\n",
      "Epoch 59/100\n",
      "1/1 [==============================] - 0s 63ms/step - loss: 0.0026 - val_loss: 0.0024 - lr: 0.0050\n",
      "Epoch 60/100\n",
      "1/1 [==============================] - 0s 63ms/step - loss: 0.0026 - val_loss: 0.0024 - lr: 0.0050\n",
      "Epoch 61/100\n",
      "1/1 [==============================] - 0s 78ms/step - loss: 0.0026 - val_loss: 0.0024 - lr: 0.0050\n",
      "Epoch 62/100\n",
      "1/1 [==============================] - 0s 78ms/step - loss: 0.0026 - val_loss: 0.0024 - lr: 0.0050\n",
      "Epoch 63/100\n",
      "1/1 [==============================] - 0s 65ms/step - loss: 0.0026 - val_loss: 0.0024 - lr: 0.0050\n",
      "Epoch 64/100\n",
      "1/1 [==============================] - 0s 78ms/step - loss: 0.0026 - val_loss: 0.0024 - lr: 0.0050\n",
      "Epoch 65/100\n",
      "1/1 [==============================] - 0s 62ms/step - loss: 0.0026 - val_loss: 0.0024 - lr: 0.0050\n",
      "Epoch 66/100\n",
      "1/1 [==============================] - 0s 78ms/step - loss: 0.0026 - val_loss: 0.0024 - lr: 0.0050\n",
      "Epoch 67/100\n",
      "1/1 [==============================] - 0s 62ms/step - loss: 0.0026 - val_loss: 0.0024 - lr: 0.0050\n",
      "Epoch 68/100\n",
      "1/1 [==============================] - 0s 63ms/step - loss: 0.0026 - val_loss: 0.0024 - lr: 0.0050\n",
      "Epoch 69/100\n",
      "1/1 [==============================] - 0s 62ms/step - loss: 0.0026 - val_loss: 0.0024 - lr: 0.0050\n",
      "Epoch 70/100\n",
      "1/1 [==============================] - 0s 47ms/step - loss: 0.0026 - val_loss: 0.0024 - lr: 0.0050\n",
      "Epoch 71/100\n",
      "1/1 [==============================] - 0s 70ms/step - loss: 0.0026 - val_loss: 0.0024 - lr: 0.0050\n",
      "Epoch 72/100\n",
      "1/1 [==============================] - 0s 78ms/step - loss: 0.0026 - val_loss: 0.0024 - lr: 0.0050\n",
      "Epoch 73/100\n",
      "1/1 [==============================] - 0s 62ms/step - loss: 0.0026 - val_loss: 0.0024 - lr: 0.0050\n",
      "Epoch 74/100\n",
      "1/1 [==============================] - 0s 62ms/step - loss: 0.0026 - val_loss: 0.0024 - lr: 0.0050\n",
      "Epoch 75/100\n",
      "1/1 [==============================] - 0s 62ms/step - loss: 0.0026 - val_loss: 0.0024 - lr: 0.0050\n",
      "Epoch 76/100\n",
      "1/1 [==============================] - 0s 62ms/step - loss: 0.0026 - val_loss: 0.0024 - lr: 0.0050\n",
      "Epoch 77/100\n",
      "1/1 [==============================] - 0s 94ms/step - loss: 0.0026 - val_loss: 0.0024 - lr: 0.0050\n",
      "Epoch 78/100\n",
      "1/1 [==============================] - 0s 62ms/step - loss: 0.0026 - val_loss: 0.0024 - lr: 0.0050\n",
      "Epoch 79/100\n",
      "1/1 [==============================] - 0s 78ms/step - loss: 0.0026 - val_loss: 0.0024 - lr: 0.0050\n",
      "Epoch 80/100\n",
      "1/1 [==============================] - 0s 62ms/step - loss: 0.0026 - val_loss: 0.0024 - lr: 0.0050\n",
      "Epoch 81/100\n",
      "1/1 [==============================] - 0s 78ms/step - loss: 0.0026 - val_loss: 0.0024 - lr: 0.0050\n",
      "Epoch 82/100\n",
      "1/1 [==============================] - 0s 62ms/step - loss: 0.0026 - val_loss: 0.0024 - lr: 0.0050\n",
      "Epoch 83/100\n",
      "1/1 [==============================] - 0s 78ms/step - loss: 0.0026 - val_loss: 0.0024 - lr: 0.0050\n",
      "Epoch 84/100\n",
      "1/1 [==============================] - 0s 62ms/step - loss: 0.0026 - val_loss: 0.0024 - lr: 0.0050\n",
      "Epoch 85/100\n",
      "1/1 [==============================] - 0s 68ms/step - loss: 0.0026 - val_loss: 0.0024 - lr: 0.0050\n",
      "Epoch 86/100\n",
      "1/1 [==============================] - 0s 78ms/step - loss: 0.0026 - val_loss: 0.0024 - lr: 0.0050\n",
      "Epoch 87/100\n",
      "1/1 [==============================] - 0s 62ms/step - loss: 0.0026 - val_loss: 0.0024 - lr: 0.0050\n",
      "Epoch 88/100\n",
      "1/1 [==============================] - 0s 109ms/step - loss: 0.0026 - val_loss: 0.0024 - lr: 0.0050\n",
      "Epoch 89/100\n",
      "1/1 [==============================] - 0s 78ms/step - loss: 0.0026 - val_loss: 0.0024 - lr: 0.0050\n",
      "Epoch 90/100\n",
      "1/1 [==============================] - 0s 55ms/step - loss: 0.0026 - val_loss: 0.0024 - lr: 0.0050\n",
      "Epoch 91/100\n",
      "1/1 [==============================] - 0s 62ms/step - loss: 0.0026 - val_loss: 0.0024 - lr: 0.0050\n",
      "Epoch 92/100\n",
      "1/1 [==============================] - 0s 62ms/step - loss: 0.0026 - val_loss: 0.0024 - lr: 0.0050\n",
      "Epoch 93/100\n",
      "1/1 [==============================] - 0s 78ms/step - loss: 0.0026 - val_loss: 0.0024 - lr: 0.0050\n",
      "Epoch 94/100\n",
      "1/1 [==============================] - 0s 62ms/step - loss: 0.0026 - val_loss: 0.0024 - lr: 0.0050\n",
      "Epoch 95/100\n",
      "1/1 [==============================] - 0s 47ms/step - loss: 0.0026 - val_loss: 0.0024 - lr: 0.0050\n",
      "Epoch 96/100\n",
      "1/1 [==============================] - 0s 78ms/step - loss: 0.0026 - val_loss: 0.0024 - lr: 0.0050\n",
      "Epoch 97/100\n",
      "1/1 [==============================] - 0s 62ms/step - loss: 0.0026 - val_loss: 0.0024 - lr: 0.0050\n",
      "Epoch 98/100\n",
      "1/1 [==============================] - 0s 63ms/step - loss: 0.0026 - val_loss: 0.0024 - lr: 0.0050\n",
      "Epoch 99/100\n",
      "1/1 [==============================] - 0s 94ms/step - loss: 0.0026 - val_loss: 0.0024 - lr: 0.0050\n",
      "Epoch 100/100\n",
      "1/1 [==============================] - 0s 47ms/step - loss: 0.0026 - val_loss: 0.0024 - lr: 0.0050\n"
     ]
    }
   ],
   "source": [
    "model = keras.models.Sequential([\n",
    "    keras.layers.Dense(16, input_dim=1),\n",
    "    keras.layers.Dense(1),\n",
    "])\n",
    "\n",
    "model.compile(\n",
    "    loss='mse', # keras.losses.mean_squared_error\n",
    "    optimizer=keras.optimizers.SGD(),\n",
    ")\n",
    "\n",
    "training_history = model.fit(\n",
    "    x_train, # input\n",
    "    y_train, # output\n",
    "    batch_size=train_size,\n",
    "    verbose=1, # Suppress chatty output; use Tensorboard instead\n",
    "    epochs=100,\n",
    "    validation_data=(x_test, y_test),\n",
    "    callbacks=[tensorboard_callback, lr_callback],\n",
    ")"
   ],
   "metadata": {
    "collapsed": false,
    "ExecuteTime": {
     "start_time": "2023-05-01T09:47:47.219471Z",
     "end_time": "2023-05-01T09:47:55.848915Z"
    }
   }
  },
  {
   "cell_type": "code",
   "execution_count": 24,
   "outputs": [
    {
     "data": {
      "text/plain": "Launching TensorBoard..."
     },
     "metadata": {},
     "output_type": "display_data"
    },
    {
     "data": {
      "text/plain": "<IPython.core.display.HTML object>",
      "text/html": "\n      <iframe id=\"tensorboard-frame-eb4be3e082665a8d\" width=\"100%\" height=\"800\" frameborder=\"0\">\n      </iframe>\n      <script>\n        (function() {\n          const frame = document.getElementById(\"tensorboard-frame-eb4be3e082665a8d\");\n          const url = new URL(\"/\", window.location);\n          const port = 6009;\n          if (port) {\n            url.port = port;\n          }\n          frame.src = url;\n        })();\n      </script>\n    "
     },
     "metadata": {},
     "output_type": "display_data"
    }
   ],
   "source": [
    "%tensorboard --logdir logs/scalars --port 6009"
   ],
   "metadata": {
    "collapsed": false,
    "ExecuteTime": {
     "start_time": "2023-05-01T09:49:16.408871Z",
     "end_time": "2023-05-01T09:49:16.450358Z"
    }
   }
  }
 ],
 "metadata": {
  "kernelspec": {
   "display_name": "Python 3",
   "language": "python",
   "name": "python3"
  },
  "language_info": {
   "codemirror_mode": {
    "name": "ipython",
    "version": 2
   },
   "file_extension": ".py",
   "mimetype": "text/x-python",
   "name": "python",
   "nbconvert_exporter": "python",
   "pygments_lexer": "ipython2",
   "version": "2.7.6"
  }
 },
 "nbformat": 4,
 "nbformat_minor": 0
}
